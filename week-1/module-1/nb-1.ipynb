{
 "cells": [
  {
   "cell_type": "markdown",
   "metadata": {},
   "source": [
    "---\n",
    "author: \"Karthik Thiagarajan\"\n",
    "title: \"Vectors\"\n",
    "---"
   ]
  },
  {
   "cell_type": "markdown",
   "metadata": {
    "id": "B1cOisjsIQWW"
   },
   "source": [
    "## Import\n",
    "\n",
    "First we shall import the `NumPy` package."
   ]
  },
  {
   "cell_type": "code",
   "execution_count": 1,
   "metadata": {
    "executionInfo": {
     "elapsed": 17,
     "status": "ok",
     "timestamp": 1757071038585,
     "user": {
      "displayName": "Karthik Thiagarajan",
      "userId": "18250337670386755696"
     },
     "user_tz": -330
    },
    "id": "9BmIfrx3IXZz"
   },
   "outputs": [],
   "source": [
    "import numpy as np"
   ]
  },
  {
   "cell_type": "markdown",
   "metadata": {
    "id": "q4Bvo6cKbRjQ"
   },
   "source": [
    "## Python Lists\n",
    "\n",
    "Consider the following vectors:\n",
    "\n",
    "$$\n",
    "\\mathbf{x} = \\begin{bmatrix}\n",
    "1\\\\\n",
    "2\\\\\n",
    "3\n",
    "\\end{bmatrix}, \\mathbf{y} = \\begin{bmatrix}\n",
    "4\\\\\n",
    "5\\\\\n",
    "6\n",
    "\\end{bmatrix}\n",
    "$$\n",
    "\n",
    "One of the simplest operations that we can think of is to add these two vectors:\n",
    "\n",
    "$$\n",
    "\\mathbf{z} = \\mathbf{x} + \\mathbf{y}= \\begin{bmatrix}\n",
    "5\\\\\n",
    "7\\\\\n",
    "9\n",
    "\\end{bmatrix}\n",
    "$$\n",
    "\n",
    "Let us first see how this is done in native Python, using lists:"
   ]
  },
  {
   "cell_type": "code",
   "execution_count": 2,
   "metadata": {
    "colab": {
     "base_uri": "https://localhost:8080/"
    },
    "executionInfo": {
     "elapsed": 19,
     "status": "ok",
     "timestamp": 1757071038603,
     "user": {
      "displayName": "Karthik Thiagarajan",
      "userId": "18250337670386755696"
     },
     "user_tz": -330
    },
    "id": "iBA567DMbkvS",
    "outputId": "1f9ab50b-ba4e-4421-fe17-83f9e86461aa"
   },
   "outputs": [
    {
     "data": {
      "text/plain": [
       "[5, 7, 9]"
      ]
     },
     "execution_count": 2,
     "metadata": {},
     "output_type": "execute_result"
    }
   ],
   "source": [
    "x = [1, 2, 3]\n",
    "y = [4, 5, 6]\n",
    "z = [ ]\n",
    "for x_i, y_i in zip(x, y):\n",
    "    z.append(x_i + y_i)\n",
    "z"
   ]
  },
  {
   "cell_type": "markdown",
   "metadata": {
    "id": "YouKSipOKl6k"
   },
   "source": [
    "In a moment, we shall study how NumPy simplifies this operation. But before that, we need to understand how vectors are represented in NumPy."
   ]
  },
  {
   "cell_type": "markdown",
   "metadata": {
    "id": "JvcADsvgIZE3"
   },
   "source": [
    "## Vectors as `NumPy` arrays\n",
    "\n",
    "Consider the following vector:\n",
    "\n",
    "$$\n",
    "\\mathbf{x} = \\begin{bmatrix}\n",
    "1\\\\\n",
    "2\\\\\n",
    "3\n",
    "\\end{bmatrix}\n",
    "$$\n",
    "\n",
    "In `NumPy`:"
   ]
  },
  {
   "cell_type": "code",
   "execution_count": 3,
   "metadata": {
    "colab": {
     "base_uri": "https://localhost:8080/"
    },
    "executionInfo": {
     "elapsed": 23,
     "status": "ok",
     "timestamp": 1757071038624,
     "user": {
      "displayName": "Karthik Thiagarajan",
      "userId": "18250337670386755696"
     },
     "user_tz": -330
    },
    "id": "83iQmusSIstp",
    "outputId": "42d3cff5-a36f-4fe9-a0c9-25cbb5f10999"
   },
   "outputs": [
    {
     "data": {
      "text/plain": [
       "array([1, 2, 3])"
      ]
     },
     "execution_count": 3,
     "metadata": {},
     "output_type": "execute_result"
    }
   ],
   "source": [
    "x = np.array([1, 2, 3])\n",
    "x"
   ]
  },
  {
   "cell_type": "markdown",
   "metadata": {
    "id": "8XQvbvsMuMiv"
   },
   "source": [
    "We can also arrive at this using the `arange` method. The `arange` method in NumPy is similar to the `range` function in Python. The right end-point is excluded and the step size is $1$ by default."
   ]
  },
  {
   "cell_type": "code",
   "execution_count": 4,
   "metadata": {
    "colab": {
     "base_uri": "https://localhost:8080/"
    },
    "executionInfo": {
     "elapsed": 33,
     "status": "ok",
     "timestamp": 1757071038658,
     "user": {
      "displayName": "Karthik Thiagarajan",
      "userId": "18250337670386755696"
     },
     "user_tz": -330
    },
    "id": "lw0tRp-kuLGn",
    "outputId": "0d9bf01b-237e-4b11-e8e1-44b7bf525ea0"
   },
   "outputs": [
    {
     "data": {
      "text/plain": [
       "array([1, 2, 3])"
      ]
     },
     "execution_count": 4,
     "metadata": {},
     "output_type": "execute_result"
    }
   ],
   "source": [
    "x = np.arange(1, 4)\n",
    "x"
   ]
  },
  {
   "cell_type": "markdown",
   "metadata": {
    "id": "dUgTRcIuMkEv"
   },
   "source": [
    "Notice that `x` is a new kind of object and is called a NumPy array. To be more precise, it is an object of type `ndarray`."
   ]
  },
  {
   "cell_type": "code",
   "execution_count": 5,
   "metadata": {
    "colab": {
     "base_uri": "https://localhost:8080/"
    },
    "executionInfo": {
     "elapsed": 28,
     "status": "ok",
     "timestamp": 1757071038687,
     "user": {
      "displayName": "Karthik Thiagarajan",
      "userId": "18250337670386755696"
     },
     "user_tz": -330
    },
    "id": "SameSSheMsoL",
    "outputId": "843a652c-9605-48f8-8804-7b201cde6a68"
   },
   "outputs": [
    {
     "data": {
      "text/plain": [
       "numpy.ndarray"
      ]
     },
     "execution_count": 5,
     "metadata": {},
     "output_type": "execute_result"
    }
   ],
   "source": [
    "type(x)"
   ]
  },
  {
   "cell_type": "markdown",
   "metadata": {
    "id": "l8UUEOuUMyTq"
   },
   "source": [
    "We can now turn to vector addition in NumPy."
   ]
  },
  {
   "cell_type": "markdown",
   "metadata": {
    "id": "j-1J_2tTKeFn"
   },
   "source": [
    "## Vector addition\n",
    "\n",
    "Addition is one of the elementary operations that can be performed on vectors. Given two vectors\n",
    "\n",
    "$$\n",
    "\\mathbf{x} = \\begin{bmatrix}\n",
    "1\\\\\n",
    "2\\\\\n",
    "3\n",
    "\\end{bmatrix}, \\mathbf{y} = \\begin{bmatrix}\n",
    "4\\\\\n",
    "5\\\\\n",
    "6\n",
    "\\end{bmatrix}\n",
    "$$\n",
    "\n",
    "we have:\n",
    "\n",
    "$$\n",
    "\\mathbf{z} = \\mathbf{x} + \\mathbf{y}= \\begin{bmatrix}\n",
    "5\\\\\n",
    "7\\\\\n",
    "9\n",
    "\\end{bmatrix}\n",
    "$$\n",
    "\n",
    "In NumPy:"
   ]
  },
  {
   "cell_type": "code",
   "execution_count": 6,
   "metadata": {
    "colab": {
     "base_uri": "https://localhost:8080/"
    },
    "executionInfo": {
     "elapsed": 40,
     "status": "ok",
     "timestamp": 1757071038705,
     "user": {
      "displayName": "Karthik Thiagarajan",
      "userId": "18250337670386755696"
     },
     "user_tz": -330
    },
    "id": "1Pxa2ZGULiq9",
    "outputId": "bd9466bc-94c4-467d-9876-0a97b5359bab"
   },
   "outputs": [
    {
     "data": {
      "text/plain": [
       "array([5, 7, 9])"
      ]
     },
     "execution_count": 6,
     "metadata": {},
     "output_type": "execute_result"
    }
   ],
   "source": [
    "x = np.arange(1, 4)\n",
    "y = np.arange(4, 7)\n",
    "z = x + y\n",
    "z"
   ]
  },
  {
   "cell_type": "markdown",
   "metadata": {
    "id": "YmsiuT69K7_3"
   },
   "source": [
    "Compare the NumPy code with the Python code that involved lists and notice the differences. At least two are worth pointing:\n",
    "\n",
    "- There is no explicit loop in the case of NumPy.\n",
    "- The code is succinct and more readable.\n",
    "\n",
    "\n",
    "We will soon see that there are also improvements to efficiency when using NumPy, especially when working with large arrays. Next we turn to some useful operations on vectors that can be performed with the help of NumPy."
   ]
  },
  {
   "cell_type": "markdown",
   "metadata": {
    "id": "ap_Zg_CEL9lz"
   },
   "source": [
    "## Element-wise multiplication\n",
    "\n",
    "Element-wise multiplication of two vectors is called the Hadamard product. The operator corresponding to it is $\\odot$. For example, given two vectors:\n",
    "\n",
    "$$\n",
    "\\mathbf{x} = \\begin{bmatrix}\n",
    "1\\\\\n",
    "2\\\\\n",
    "3\n",
    "\\end{bmatrix}, \\mathbf{y} = \\begin{bmatrix}\n",
    "4\\\\\n",
    "5\\\\\n",
    "6\n",
    "\\end{bmatrix}\n",
    "$$\n",
    "\n",
    "we have:\n",
    "\n",
    "$$\n",
    "\\mathbf{z} = \\mathbf{x} \\odot \\mathbf{y}= \\begin{bmatrix}\n",
    "4\\\\\n",
    "10\\\\\n",
    "18\n",
    "\\end{bmatrix}\n",
    "$$\n",
    "\n",
    "In `NumPy`:"
   ]
  },
  {
   "cell_type": "code",
   "execution_count": 7,
   "metadata": {
    "colab": {
     "base_uri": "https://localhost:8080/"
    },
    "executionInfo": {
     "elapsed": 134,
     "status": "ok",
     "timestamp": 1757071038819,
     "user": {
      "displayName": "Karthik Thiagarajan",
      "userId": "18250337670386755696"
     },
     "user_tz": -330
    },
    "id": "2v9T-dLrMX8l",
    "outputId": "431769c6-51fb-485d-8a25-7811d5000f52"
   },
   "outputs": [
    {
     "data": {
      "text/plain": [
       "array([ 4, 10, 18])"
      ]
     },
     "execution_count": 7,
     "metadata": {},
     "output_type": "execute_result"
    }
   ],
   "source": [
    "x = np.arange(1, 4)\n",
    "y = np.arange(4, 7)\n",
    "z = x * y\n",
    "z"
   ]
  },
  {
   "cell_type": "markdown",
   "metadata": {
    "id": "Fp6OJRQZMjoW"
   },
   "source": [
    "## Scaling vectors\n",
    "\n",
    "If $\\mathbf{x}$ is a vector, scaling it by a constant $k$ is equivalent to element-wise multiplication by $k$. For example, given\n",
    "\n",
    "$$\n",
    "\\mathbf{x} = \\begin{bmatrix}\n",
    "1\\\\\n",
    "2\\\\\n",
    "3\n",
    "\\end{bmatrix}\n",
    "$$\n",
    "\n",
    "we have:\n",
    "\n",
    "$$\n",
    "\\mathbf{y} = 3 \\mathbf{x} = \\begin{bmatrix}\n",
    "3\\\\\n",
    "6\\\\\n",
    "9\n",
    "\\end{bmatrix}\n",
    "$$\n",
    "\n",
    "In `NumPy`:"
   ]
  },
  {
   "cell_type": "code",
   "execution_count": 8,
   "metadata": {
    "colab": {
     "base_uri": "https://localhost:8080/"
    },
    "executionInfo": {
     "elapsed": 15,
     "status": "ok",
     "timestamp": 1757071038835,
     "user": {
      "displayName": "Karthik Thiagarajan",
      "userId": "18250337670386755696"
     },
     "user_tz": -330
    },
    "id": "NQGQmZZFM7_z",
    "outputId": "09017c31-f6ae-488e-aabe-5d826a62c9a2"
   },
   "outputs": [
    {
     "data": {
      "text/plain": [
       "array([3, 6, 9])"
      ]
     },
     "execution_count": 8,
     "metadata": {},
     "output_type": "execute_result"
    }
   ],
   "source": [
    "x = np.arange(1, 4)\n",
    "y = 3 * x\n",
    "y"
   ]
  },
  {
   "cell_type": "markdown",
   "metadata": {
    "id": "NezSZSd2wn31"
   },
   "source": [
    "## Python Lists vs NumPy Arrays\n",
    "\n",
    "A small detour. Let us now compare the difference in speed between Python lists and NumPy arrays. Consider a sequence of the first million positive integers. We wish to multiply each element by 2. Let us do it in two ways, one using Python lists and other using NumPy arrays, and observe the difference in speeds."
   ]
  },
  {
   "cell_type": "code",
   "execution_count": 9,
   "metadata": {
    "executionInfo": {
     "elapsed": 18,
     "status": "ok",
     "timestamp": 1757071038851,
     "user": {
      "displayName": "Karthik Thiagarajan",
      "userId": "18250337670386755696"
     },
     "user_tz": -330
    },
    "id": "MR6Errd8w0UZ"
   },
   "outputs": [],
   "source": [
    "py_list = list(range(1, 1_000_000))\n",
    "np_array = np.arange(1, 1_000_000)"
   ]
  },
  {
   "cell_type": "code",
   "execution_count": 10,
   "metadata": {
    "colab": {
     "base_uri": "https://localhost:8080/"
    },
    "executionInfo": {
     "elapsed": 5242,
     "status": "ok",
     "timestamp": 1757071044096,
     "user": {
      "displayName": "Karthik Thiagarajan",
      "userId": "18250337670386755696"
     },
     "user_tz": -330
    },
    "id": "eW0SU3yHxKWa",
    "outputId": "1d826bb0-9875-4c37-e1da-dde3b7088208"
   },
   "outputs": [
    {
     "name": "stdout",
     "output_type": "stream",
     "text": [
      "67.3 ms ± 11.7 ms per loop (mean ± std. dev. of 7 runs, 10 loops each)\n"
     ]
    }
   ],
   "source": [
    "%timeit [2 * x for x in py_list]"
   ]
  },
  {
   "cell_type": "code",
   "execution_count": 11,
   "metadata": {
    "colab": {
     "base_uri": "https://localhost:8080/"
    },
    "executionInfo": {
     "elapsed": 6473,
     "status": "ok",
     "timestamp": 1757071050577,
     "user": {
      "displayName": "Karthik Thiagarajan",
      "userId": "18250337670386755696"
     },
     "user_tz": -330
    },
    "id": "RMvrnwBDxPDF",
    "outputId": "b9dae0c4-bc9d-4b23-efb2-50faa3cc9280"
   },
   "outputs": [
    {
     "name": "stdout",
     "output_type": "stream",
     "text": [
      "796 µs ± 137 µs per loop (mean ± std. dev. of 7 runs, 1000 loops each)\n"
     ]
    }
   ],
   "source": [
    "%timeit 2 * np_array"
   ]
  },
  {
   "cell_type": "code",
   "execution_count": 27,
   "metadata": {
    "colab": {
     "base_uri": "https://localhost:8080/"
    },
    "executionInfo": {
     "elapsed": 45,
     "status": "ok",
     "timestamp": 1757071073828,
     "user": {
      "displayName": "Karthik Thiagarajan",
      "userId": "18250337670386755696"
     },
     "user_tz": -330
    },
    "id": "u-tEwHhXxVHq",
    "outputId": "5e3608cc-9fa0-4f01-ce44-e4c747fc25b2"
   },
   "outputs": [
    {
     "data": {
      "text/plain": [
       "85"
      ]
     },
     "execution_count": 27,
     "metadata": {},
     "output_type": "execute_result"
    }
   ],
   "source": [
    "round((67.3 * 10 ** (-3)) / (796 * 10 ** (-6)))"
   ]
  },
  {
   "cell_type": "markdown",
   "metadata": {
    "id": "54VwlrzYGyIm"
   },
   "source": [
    "We will look at some common operations on vectors and see how they can be achieved with NumPy."
   ]
  },
  {
   "cell_type": "markdown",
   "metadata": {
    "id": "6U2ERkN5NCPe"
   },
   "source": [
    "## Element-wise functions of vectors\n",
    "\n",
    "Scaling a vector $\\mathbf{x}$ by a constant $k$ can be seen as the outcome of the function $f(x) = kx$ applied element-wise:\n",
    "\n",
    "$$\n",
    "\\begin{bmatrix}\n",
    "f(x_1)\\\\\n",
    "\\vdots\\\\\n",
    "f(x_d)\n",
    "\\end{bmatrix} = \\begin{bmatrix}\n",
    "kx_1\\\\\n",
    "\\vdots\\\\\n",
    "k x_d\n",
    "\\end{bmatrix}\n",
    "$$\n",
    "\n",
    "`NumPy` extends this feature for any arbitrary function."
   ]
  },
  {
   "cell_type": "markdown",
   "metadata": {
    "id": "jRqHYiLSXLt3"
   },
   "source": [
    "### Example-1\n",
    "\n",
    "For example, consider the function $f(x) = x^2$. This can be applied element-wise:\n",
    "\n",
    "$$\n",
    "\\begin{bmatrix}\n",
    "x_1^2\\\\\n",
    "\\vdots\\\\\n",
    "x_d^2\n",
    "\\end{bmatrix}\n",
    "$$\n",
    "\n",
    "Let us do this for:\n",
    "\n",
    "$$\n",
    "\\begin{bmatrix}\n",
    "1\\\\\n",
    "2\\\\\n",
    "3\\\\\n",
    "4\n",
    "\\end{bmatrix}\n",
    "$$\n",
    "\n",
    "In `NumPy`:"
   ]
  },
  {
   "cell_type": "code",
   "execution_count": 13,
   "metadata": {
    "colab": {
     "base_uri": "https://localhost:8080/"
    },
    "executionInfo": {
     "elapsed": 12,
     "status": "ok",
     "timestamp": 1757071050614,
     "user": {
      "displayName": "Karthik Thiagarajan",
      "userId": "18250337670386755696"
     },
     "user_tz": -330
    },
    "id": "4J5S44ynN0GR",
    "outputId": "ad68d853-61a9-4db6-b4c1-f29eda11150e"
   },
   "outputs": [
    {
     "data": {
      "text/plain": [
       "array([ 1,  4,  9, 16])"
      ]
     },
     "execution_count": 13,
     "metadata": {},
     "output_type": "execute_result"
    }
   ],
   "source": [
    "x = np.arange(1, 5)\n",
    "x ** 2"
   ]
  },
  {
   "cell_type": "markdown",
   "metadata": {
    "id": "Vyz1dWlhW3_G"
   },
   "source": [
    "### Example-2.1\n",
    "\n",
    "As another example, consider $f(x) = \\log(x)$. This can also be applied element-wise:\n",
    "\n",
    "$$\n",
    "\\begin{bmatrix}\n",
    "\\log(x_1)\\\\\n",
    "\\vdots\\\\\n",
    "\\log(x_d)\n",
    "\\end{bmatrix}\n",
    "$$\n",
    "\n",
    "Let us do this for $\\begin{bmatrix}1 & 10 & 100 & 1000 & 10000 & 100000\\end{bmatrix}^T$. Use base $10$.\n",
    "\n",
    "In `NumPy`:"
   ]
  },
  {
   "cell_type": "code",
   "execution_count": 14,
   "metadata": {
    "colab": {
     "base_uri": "https://localhost:8080/"
    },
    "executionInfo": {
     "elapsed": 3,
     "status": "ok",
     "timestamp": 1757071050618,
     "user": {
      "displayName": "Karthik Thiagarajan",
      "userId": "18250337670386755696"
     },
     "user_tz": -330
    },
    "id": "jbQ6mp1QN-dG",
    "outputId": "14430302-f387-4627-9056-29ab251414e4"
   },
   "outputs": [
    {
     "data": {
      "text/plain": [
       "array([0., 1., 2., 3., 4., 5.])"
      ]
     },
     "execution_count": 14,
     "metadata": {},
     "output_type": "execute_result"
    }
   ],
   "source": [
    "x = np.array([1, 10, 100, 1000, 10_000, 100_000])\n",
    "np.log10(x)"
   ]
  },
  {
   "cell_type": "markdown",
   "metadata": {
    "id": "Oxn-V4AWYMbr"
   },
   "source": [
    "### Example 2.2\n",
    "\n",
    "We can also use log to the base $e$, the natural logarithm. For this, let us take a specific vector:\n",
    "\n",
    "$$\n",
    "\\mathbf{x} = \\begin{bmatrix}\n",
    "1\\\\\n",
    "e\\\\\n",
    "e^2\\\\\n",
    "e^3\n",
    "\\end{bmatrix}\n",
    "$$\n",
    "\n",
    "and apply the function $f(x) = \\ln(x)$ element-wise.\n",
    "\n",
    "In `NumPy`:"
   ]
  },
  {
   "cell_type": "code",
   "execution_count": 15,
   "metadata": {
    "colab": {
     "base_uri": "https://localhost:8080/"
    },
    "executionInfo": {
     "elapsed": 9,
     "status": "ok",
     "timestamp": 1757071050627,
     "user": {
      "displayName": "Karthik Thiagarajan",
      "userId": "18250337670386755696"
     },
     "user_tz": -330
    },
    "id": "mmA2S3bVyLDg",
    "outputId": "7cf880c4-c73e-4be6-b008-56291b1e7552"
   },
   "outputs": [
    {
     "data": {
      "text/plain": [
       "array([0., 1., 2., 3.])"
      ]
     },
     "execution_count": 15,
     "metadata": {},
     "output_type": "execute_result"
    }
   ],
   "source": [
    "x = np.array([1, np.e, np.e ** 2, np.e ** 3])\n",
    "np.log(x)"
   ]
  },
  {
   "cell_type": "markdown",
   "metadata": {
    "id": "CLZ6acXdZDzJ"
   },
   "source": [
    "### Example 3\n",
    "\n",
    "Just as we can scale a vector, we can also add a constant to each component. This is equivalent to applying the element-wise function $f(x) = x + c$. Let us take the case of $\\begin{bmatrix}1 & 2 & 3\\end{bmatrix}^T$ and $c = 5$.\n",
    "\n",
    "In `NumPy`:"
   ]
  },
  {
   "cell_type": "code",
   "execution_count": 16,
   "metadata": {
    "colab": {
     "base_uri": "https://localhost:8080/"
    },
    "executionInfo": {
     "elapsed": 4,
     "status": "ok",
     "timestamp": 1757071050632,
     "user": {
      "displayName": "Karthik Thiagarajan",
      "userId": "18250337670386755696"
     },
     "user_tz": -330
    },
    "id": "BHsoW6jvmQF1",
    "outputId": "376bb668-ad14-4106-fa55-d7d57aec1147"
   },
   "outputs": [
    {
     "data": {
      "text/plain": [
       "array([6, 7, 8])"
      ]
     },
     "execution_count": 16,
     "metadata": {},
     "output_type": "execute_result"
    }
   ],
   "source": [
    "x = np.arange(1, 4)\n",
    "c = 5\n",
    "x + c"
   ]
  },
  {
   "cell_type": "markdown",
   "metadata": {
    "id": "TTTvqeYxZw0O"
   },
   "source": [
    "### Example 4\n",
    "\n",
    "Now for a slightly more involved example with $f(x) = 5x - 2$ applied element-wise on the following vector:\n",
    "\n",
    "$$\n",
    "\\mathbf{x} = \\begin{bmatrix}\n",
    "-1\\\\\n",
    "0\\\\\n",
    "1\\\\\n",
    "2\n",
    "\\end{bmatrix}\n",
    "$$\n",
    "\n",
    "In `NumPy`:"
   ]
  },
  {
   "cell_type": "code",
   "execution_count": 17,
   "metadata": {
    "colab": {
     "base_uri": "https://localhost:8080/"
    },
    "executionInfo": {
     "elapsed": 61,
     "status": "ok",
     "timestamp": 1757071050693,
     "user": {
      "displayName": "Karthik Thiagarajan",
      "userId": "18250337670386755696"
     },
     "user_tz": -330
    },
    "id": "-E8n9MT-aBYj",
    "outputId": "df57fcfd-4b7a-47fa-c762-540edb20ed97"
   },
   "outputs": [
    {
     "data": {
      "text/plain": [
       "array([-7, -2,  3,  8])"
      ]
     },
     "execution_count": 17,
     "metadata": {},
     "output_type": "execute_result"
    }
   ],
   "source": [
    "x = np.arange(-1, 3)\n",
    "5 * x - 2"
   ]
  },
  {
   "cell_type": "markdown",
   "metadata": {
    "id": "kQR9yS5ROhFR"
   },
   "source": [
    "## Dot Product\n",
    "\n",
    "The dot product between two vectors $\\mathbf{x}$ and $\\mathbf{y}$ is given as follows:\n",
    "\n",
    "$$\n",
    "z = \\mathbf{x}^T \\mathbf{y} =  \\mathbf{x} \\cdot \\mathbf{y} = \\sum \\limits_{j = 1}^{m} x_j y_j\n",
    "$$\n",
    "\n",
    "Let us use the following vectors:\n",
    "\n",
    "$$\n",
    "\\mathbf{x} = \\begin{bmatrix}\n",
    "1\\\\\n",
    "2\\\\\n",
    "3\\\\\n",
    "4\\\\\n",
    "\\end{bmatrix}, \\mathbf{y} = \\begin{bmatrix}\n",
    "-4\\\\\n",
    "-5\\\\\n",
    "-6\\\\\n",
    "-7\\\\\n",
    "\\end{bmatrix}\n",
    "$$\n",
    "\n",
    "In `NumPy`:"
   ]
  },
  {
   "cell_type": "code",
   "execution_count": 18,
   "metadata": {
    "colab": {
     "base_uri": "https://localhost:8080/"
    },
    "executionInfo": {
     "elapsed": 19,
     "status": "ok",
     "timestamp": 1757071050693,
     "user": {
      "displayName": "Karthik Thiagarajan",
      "userId": "18250337670386755696"
     },
     "user_tz": -330
    },
    "id": "yIdGkJG_OxrL",
    "outputId": "a756a062-a9fa-4c4c-faec-51ec656a7085"
   },
   "outputs": [
    {
     "data": {
      "text/plain": [
       "np.int64(-60)"
      ]
     },
     "execution_count": 18,
     "metadata": {},
     "output_type": "execute_result"
    }
   ],
   "source": [
    "x = np.arange(1, 5)\n",
    "y = np.arange(-4, -8, -1)\n",
    "np.dot(x, y)"
   ]
  },
  {
   "cell_type": "markdown",
   "metadata": {
    "id": "R0DRM3FAX8uE"
   },
   "source": [
    "Alternatively, we can do the following."
   ]
  },
  {
   "cell_type": "code",
   "execution_count": 19,
   "metadata": {
    "colab": {
     "base_uri": "https://localhost:8080/"
    },
    "executionInfo": {
     "elapsed": 18,
     "status": "ok",
     "timestamp": 1757071050693,
     "user": {
      "displayName": "Karthik Thiagarajan",
      "userId": "18250337670386755696"
     },
     "user_tz": -330
    },
    "id": "3KrXBo29zg14",
    "outputId": "86156699-1e92-4a80-a740-aed7e02fb7de"
   },
   "outputs": [
    {
     "data": {
      "text/plain": [
       "np.int64(-60)"
      ]
     },
     "execution_count": 19,
     "metadata": {},
     "output_type": "execute_result"
    }
   ],
   "source": [
    "x @ y"
   ]
  },
  {
   "cell_type": "markdown",
   "metadata": {
    "id": "Q6_Mc49be9SP"
   },
   "source": [
    "Since this resembles the mathematical expression quite accurately, we shall stick to this."
   ]
  },
  {
   "cell_type": "markdown",
   "metadata": {
    "id": "-oGTCbqVRqUj"
   },
   "source": [
    "## Vector of zeros or ones\n",
    "\n",
    "On many occassions, we might want to create a `NumPy` array all of whose elements are zeros or ones or some other constant. Let us create the following vectors:\n",
    "\n",
    "$$\n",
    "\\mathbf{0} = \\begin{bmatrix}\n",
    "0\\\\\n",
    "0\\\\\n",
    "0\\\\\n",
    "0\\\\\n",
    "0\n",
    "\\end{bmatrix}, \\mathbf{1} = \\begin{bmatrix}\n",
    "1\\\\\n",
    "1\\\\\n",
    "1\\\\\n",
    "1\\\\\n",
    "1\n",
    "\\end{bmatrix}\n",
    "$$\n",
    "\n",
    "In `NumPy`:"
   ]
  },
  {
   "cell_type": "code",
   "execution_count": 20,
   "metadata": {
    "colab": {
     "base_uri": "https://localhost:8080/"
    },
    "executionInfo": {
     "elapsed": 16,
     "status": "ok",
     "timestamp": 1757071050693,
     "user": {
      "displayName": "Karthik Thiagarajan",
      "userId": "18250337670386755696"
     },
     "user_tz": -330
    },
    "id": "4i6VbthkT36F",
    "outputId": "60aa682e-98a4-4236-c508-53aa77435d1a"
   },
   "outputs": [
    {
     "data": {
      "text/plain": [
       "array([0., 0., 0., 0., 0.])"
      ]
     },
     "execution_count": 20,
     "metadata": {},
     "output_type": "execute_result"
    }
   ],
   "source": [
    "zeros = np.zeros(5)\n",
    "zeros"
   ]
  },
  {
   "cell_type": "code",
   "execution_count": 21,
   "metadata": {
    "colab": {
     "base_uri": "https://localhost:8080/"
    },
    "executionInfo": {
     "elapsed": 15,
     "status": "ok",
     "timestamp": 1757071050693,
     "user": {
      "displayName": "Karthik Thiagarajan",
      "userId": "18250337670386755696"
     },
     "user_tz": -330
    },
    "id": "LtTV0YVOz_Dh",
    "outputId": "9460c270-b031-4c87-cc88-861a9523e942"
   },
   "outputs": [
    {
     "data": {
      "text/plain": [
       "array([1., 1., 1., 1., 1.])"
      ]
     },
     "execution_count": 21,
     "metadata": {},
     "output_type": "execute_result"
    }
   ],
   "source": [
    "ones = np.ones(5)\n",
    "ones"
   ]
  },
  {
   "cell_type": "markdown",
   "metadata": {
    "id": "KwAXANsqb3dO"
   },
   "source": [
    "What if we wanted to create a vector all of whose elements are equal to $5$?"
   ]
  },
  {
   "cell_type": "code",
   "execution_count": 22,
   "metadata": {
    "colab": {
     "base_uri": "https://localhost:8080/"
    },
    "executionInfo": {
     "elapsed": 4,
     "status": "ok",
     "timestamp": 1757071050696,
     "user": {
      "displayName": "Karthik Thiagarajan",
      "userId": "18250337670386755696"
     },
     "user_tz": -330
    },
    "id": "qVKkJ3Cgb8e9",
    "outputId": "1e2be4c6-f871-4aa9-c85a-9841d4ef4768"
   },
   "outputs": [
    {
     "data": {
      "text/plain": [
       "array([5., 5., 5., 5., 5.])"
      ]
     },
     "execution_count": 22,
     "metadata": {},
     "output_type": "execute_result"
    }
   ],
   "source": [
    "fives = np.ones(5) * 5\n",
    "fives"
   ]
  },
  {
   "cell_type": "markdown",
   "metadata": {
    "id": "vLcLxgyZGAt5"
   },
   "source": [
    "## Norm of a vector\n",
    "\n",
    "For a vector $\\mathbf{x}$:\n",
    "\n",
    "$$\n",
    "\\mathbf{x} = \\begin{bmatrix}\n",
    "1\\\\\n",
    "2\\\\\n",
    "3\n",
    "\\end{bmatrix}\n",
    "$$\n",
    "\n",
    "The $L_2$ norm is defind as:\n",
    "\n",
    "$$\n",
    "||\\mathbf{x}||_2 = \\sqrt{1^2 + 2^2 + 3^2} = \\sqrt{14}\n",
    "$$\n",
    "\n",
    "The $L_1$ norm is defind as:\n",
    "\n",
    "$$\n",
    "||\\mathbf{x}||_1 = |1| + |2| + |3| = 6\n",
    "$$\n",
    "\n",
    "In `NumPy`:"
   ]
  },
  {
   "cell_type": "code",
   "execution_count": 23,
   "metadata": {
    "colab": {
     "base_uri": "https://localhost:8080/"
    },
    "executionInfo": {
     "elapsed": 103,
     "status": "ok",
     "timestamp": 1757071050800,
     "user": {
      "displayName": "Karthik Thiagarajan",
      "userId": "18250337670386755696"
     },
     "user_tz": -330
    },
    "id": "5hiasmwYk-JK",
    "outputId": "124fbcf8-3c71-4f2b-e0a1-a4a16d0c0e54"
   },
   "outputs": [
    {
     "data": {
      "text/plain": [
       "np.float64(3.7416573867739413)"
      ]
     },
     "execution_count": 23,
     "metadata": {},
     "output_type": "execute_result"
    }
   ],
   "source": [
    "# L2-norm\n",
    "x = np.arange(1, 4)\n",
    "norm = np.linalg.norm(x)\n",
    "norm"
   ]
  },
  {
   "cell_type": "markdown",
   "metadata": {
    "id": "RsHxZQiXfTPz"
   },
   "source": [
    "By default, the norm computed is the L2 norm. If we want to compute the L1 norm, we have to pass an additional argument to the function."
   ]
  },
  {
   "cell_type": "code",
   "execution_count": 24,
   "metadata": {
    "colab": {
     "base_uri": "https://localhost:8080/"
    },
    "executionInfo": {
     "elapsed": 2,
     "status": "ok",
     "timestamp": 1757071050803,
     "user": {
      "displayName": "Karthik Thiagarajan",
      "userId": "18250337670386755696"
     },
     "user_tz": -330
    },
    "id": "6IuN8JM_fbUh",
    "outputId": "57ed4064-4cac-4b20-daa1-922681b16fed"
   },
   "outputs": [
    {
     "data": {
      "text/plain": [
       "np.float64(6.0)"
      ]
     },
     "execution_count": 24,
     "metadata": {},
     "output_type": "execute_result"
    }
   ],
   "source": [
    "# L1-norm\n",
    "x = np.arange(1, 4)\n",
    "norm = np.linalg.norm(x, ord=1)\n",
    "norm"
   ]
  },
  {
   "cell_type": "markdown",
   "metadata": {
    "id": "OGdzUtRAy6_g"
   },
   "source": [
    "## Shape and dimension of a vector\n",
    "\n",
    "Vectors are \"one dimensional\" arrays. So all vectors in `NumPy` have array-dimension equal to one. The term \"array-dimension\" here is defined for a `NumPy` array. It is different from the dimension used in the vector-space sense. The vector-space dimension can be obtaind by looking at the shape of the `NumPy` array. Let us explore these two ideas for:\n",
    "\n",
    "$$\n",
    "\\mathbf{x} = \\begin{bmatrix}\n",
    "1\\\\\n",
    "2\\\\\n",
    "3\\\\\n",
    "4\n",
    "\\end{bmatrix}\n",
    "$$"
   ]
  },
  {
   "cell_type": "code",
   "execution_count": 25,
   "metadata": {
    "colab": {
     "base_uri": "https://localhost:8080/"
    },
    "executionInfo": {
     "elapsed": 20,
     "status": "ok",
     "timestamp": 1757071050824,
     "user": {
      "displayName": "Karthik Thiagarajan",
      "userId": "18250337670386755696"
     },
     "user_tz": -330
    },
    "id": "Hs0Y5qRLzkXY",
    "outputId": "3a39d085-e773-4d3e-bd7a-9907f79d0d9e"
   },
   "outputs": [
    {
     "data": {
      "text/plain": [
       "(4,)"
      ]
     },
     "execution_count": 25,
     "metadata": {},
     "output_type": "execute_result"
    }
   ],
   "source": [
    "# Shape\n",
    "x = np.arange(1, 5)\n",
    "x.shape"
   ]
  },
  {
   "cell_type": "code",
   "execution_count": 26,
   "metadata": {
    "colab": {
     "base_uri": "https://localhost:8080/"
    },
    "executionInfo": {
     "elapsed": 3,
     "status": "ok",
     "timestamp": 1757071050828,
     "user": {
      "displayName": "Karthik Thiagarajan",
      "userId": "18250337670386755696"
     },
     "user_tz": -330
    },
    "id": "iTdascJZfwnA",
    "outputId": "99e07a17-129a-4a23-cc8a-5107cdda90b1"
   },
   "outputs": [
    {
     "data": {
      "text/plain": [
       "1"
      ]
     },
     "execution_count": 26,
     "metadata": {},
     "output_type": "execute_result"
    }
   ],
   "source": [
    "# N-dim\n",
    "x = np.arange(1, 5)\n",
    "x.ndim"
   ]
  }
 ],
 "metadata": {
  "colab": {
   "provenance": [
    {
     "file_id": "13BwuQmgillEYbqfRBxtpFwv07olRxxaR",
     "timestamp": 1670910963722
    }
   ]
  },
  "kernelspec": {
   "display_name": "Python 3",
   "name": "python3"
  },
  "language_info": {
   "name": "python"
  }
 },
 "nbformat": 4,
 "nbformat_minor": 0
}
