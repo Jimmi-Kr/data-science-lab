{
 "cells": [
  {
   "cell_type": "markdown",
   "metadata": {
    "id": "H729Vxqsdh5_"
   },
   "source": [
    "# Vectors\n",
    "\n"
   ]
  },
  {
   "cell_type": "markdown",
   "metadata": {
    "id": "B1cOisjsIQWW"
   },
   "source": [
    "## Import\n",
    "\n",
    "First we shall import the `NumPy` package."
   ]
  },
  {
   "cell_type": "code",
   "execution_count": 1,
   "metadata": {
    "executionInfo": {
     "elapsed": 32,
     "status": "ok",
     "timestamp": 1755487336705,
     "user": {
      "displayName": "Karthik Thiagarajan",
      "userId": "18250337670386755696"
     },
     "user_tz": -330
    },
    "id": "9BmIfrx3IXZz"
   },
   "outputs": [],
   "source": [
    "import numpy as np"
   ]
  },
  {
   "cell_type": "markdown",
   "metadata": {
    "id": "q4Bvo6cKbRjQ"
   },
   "source": [
    "## Python Lists\n",
    "\n",
    "Consider the following vectors:\n",
    "\n",
    "$$\n",
    "\\mathbf{x} = \\begin{bmatrix}\n",
    "1\\\\\n",
    "2\\\\\n",
    "3\n",
    "\\end{bmatrix}, \\mathbf{y} = \\begin{bmatrix}\n",
    "4\\\\\n",
    "5\\\\\n",
    "6\n",
    "\\end{bmatrix}\n",
    "$$\n",
    "\n",
    "One of the simplest operations that we can think of is to add these two vectors:\n",
    "\n",
    "$$\n",
    "\\mathbf{z} = \\mathbf{x} + \\mathbf{y}= \\begin{bmatrix}\n",
    "5\\\\\n",
    "7\\\\\n",
    "9\n",
    "\\end{bmatrix}\n",
    "$$\n",
    "\n",
    "Let us first see how this is done in native Python, using lists:"
   ]
  },
  {
   "cell_type": "code",
   "execution_count": 2,
   "metadata": {
    "colab": {
     "base_uri": "https://localhost:8080/"
    },
    "executionInfo": {
     "elapsed": 13,
     "status": "ok",
     "timestamp": 1755487336725,
     "user": {
      "displayName": "Karthik Thiagarajan",
      "userId": "18250337670386755696"
     },
     "user_tz": -330
    },
    "id": "iBA567DMbkvS",
    "outputId": "1cd5dbde-b055-4942-c891-81e34b99efd9"
   },
   "outputs": [
    {
     "data": {
      "text/plain": [
       "[5, 7, 9]"
      ]
     },
     "execution_count": 2,
     "metadata": {},
     "output_type": "execute_result"
    }
   ],
   "source": [
    "x = [1, 2, 3]\n",
    "y = [4, 5, 6]\n",
    "z = [ ]\n",
    "for x_i, y_i in zip(x, y):\n",
    "    z.append(x_i + y_i)\n",
    "z"
   ]
  },
  {
   "cell_type": "markdown",
   "metadata": {
    "id": "YouKSipOKl6k"
   },
   "source": [
    "In a moment, we shall study how NumPy simplifies this operation. But before that, we need to understand how vectors are represented in NumPy."
   ]
  },
  {
   "cell_type": "markdown",
   "metadata": {
    "id": "JvcADsvgIZE3"
   },
   "source": [
    "## Vectors as `NumPy` arrays\n",
    "\n",
    "Consider the following vector:\n",
    "\n",
    "$$\n",
    "\\mathbf{x} = \\begin{bmatrix}\n",
    "1\\\\\n",
    "2\\\\\n",
    "3\n",
    "\\end{bmatrix}\n",
    "$$\n",
    "\n",
    "In `NumPy`:"
   ]
  },
  {
   "cell_type": "code",
   "execution_count": 3,
   "metadata": {
    "colab": {
     "base_uri": "https://localhost:8080/"
    },
    "executionInfo": {
     "elapsed": 32,
     "status": "ok",
     "timestamp": 1755487336758,
     "user": {
      "displayName": "Karthik Thiagarajan",
      "userId": "18250337670386755696"
     },
     "user_tz": -330
    },
    "id": "83iQmusSIstp",
    "outputId": "a7099197-002f-49ed-a256-a2d9b260a1b6"
   },
   "outputs": [
    {
     "data": {
      "text/plain": [
       "array([1, 2, 3])"
      ]
     },
     "execution_count": 3,
     "metadata": {},
     "output_type": "execute_result"
    }
   ],
   "source": [
    "x = np.array([1, 2, 3])\n",
    "x"
   ]
  },
  {
   "cell_type": "markdown",
   "metadata": {
    "id": "8XQvbvsMuMiv"
   },
   "source": [
    "We can also arrive at this using the `arange` method. The `arange` method in NumPy is similar to the `range` function in Python. The right end-point is excluded and the step size is $1$ by default."
   ]
  },
  {
   "cell_type": "code",
   "execution_count": 4,
   "metadata": {
    "colab": {
     "base_uri": "https://localhost:8080/"
    },
    "executionInfo": {
     "elapsed": 66,
     "status": "ok",
     "timestamp": 1755487336825,
     "user": {
      "displayName": "Karthik Thiagarajan",
      "userId": "18250337670386755696"
     },
     "user_tz": -330
    },
    "id": "lw0tRp-kuLGn",
    "outputId": "66c500c5-1f7b-4e90-94e0-b05cfa04f5be"
   },
   "outputs": [
    {
     "data": {
      "text/plain": [
       "array([1, 2, 3])"
      ]
     },
     "execution_count": 4,
     "metadata": {},
     "output_type": "execute_result"
    }
   ],
   "source": [
    "x = np.arange(1, 4)\n",
    "x"
   ]
  },
  {
   "cell_type": "markdown",
   "metadata": {
    "id": "dUgTRcIuMkEv"
   },
   "source": [
    "Notice that `x` is a new kind of object and is called a NumPy array. To be more precise, it is an object of type `ndarray`."
   ]
  },
  {
   "cell_type": "code",
   "execution_count": 5,
   "metadata": {
    "colab": {
     "base_uri": "https://localhost:8080/"
    },
    "executionInfo": {
     "elapsed": 4,
     "status": "ok",
     "timestamp": 1755487336829,
     "user": {
      "displayName": "Karthik Thiagarajan",
      "userId": "18250337670386755696"
     },
     "user_tz": -330
    },
    "id": "SameSSheMsoL",
    "outputId": "4c1a4520-1312-4e1c-a32b-3ddb5637562f"
   },
   "outputs": [
    {
     "data": {
      "text/plain": [
       "numpy.ndarray"
      ]
     },
     "execution_count": 5,
     "metadata": {},
     "output_type": "execute_result"
    }
   ],
   "source": [
    "type(x)"
   ]
  },
  {
   "cell_type": "markdown",
   "metadata": {
    "id": "l8UUEOuUMyTq"
   },
   "source": [
    "We can now turn to vector addition in NumPy."
   ]
  },
  {
   "cell_type": "markdown",
   "metadata": {
    "id": "j-1J_2tTKeFn"
   },
   "source": [
    "## Vector addition\n",
    "\n",
    "Addition is one of the elementary operations that can be performed on vectors. Given two vectors\n",
    "\n",
    "$$\n",
    "\\mathbf{x} = \\begin{bmatrix}\n",
    "1\\\\\n",
    "2\\\\\n",
    "3\n",
    "\\end{bmatrix}, \\mathbf{y} = \\begin{bmatrix}\n",
    "4\\\\\n",
    "5\\\\\n",
    "6\n",
    "\\end{bmatrix}\n",
    "$$\n",
    "\n",
    "we have:\n",
    "\n",
    "$$\n",
    "\\mathbf{z} = \\mathbf{x} + \\mathbf{y}= \\begin{bmatrix}\n",
    "5\\\\\n",
    "7\\\\\n",
    "9\n",
    "\\end{bmatrix}\n",
    "$$\n",
    "\n",
    "In NumPy:"
   ]
  },
  {
   "cell_type": "code",
   "execution_count": 6,
   "metadata": {
    "colab": {
     "base_uri": "https://localhost:8080/"
    },
    "executionInfo": {
     "elapsed": 223,
     "status": "ok",
     "timestamp": 1755487337053,
     "user": {
      "displayName": "Karthik Thiagarajan",
      "userId": "18250337670386755696"
     },
     "user_tz": -330
    },
    "id": "1Pxa2ZGULiq9",
    "outputId": "51d37ba9-cba8-4f66-eb82-98e2c286e453"
   },
   "outputs": [
    {
     "data": {
      "text/plain": [
       "array([5, 7, 9])"
      ]
     },
     "execution_count": 6,
     "metadata": {},
     "output_type": "execute_result"
    }
   ],
   "source": [
    "x = np.arange(1, 4)\n",
    "y = np.arange(4, 7)\n",
    "z = x + y\n",
    "z"
   ]
  },
  {
   "cell_type": "markdown",
   "metadata": {
    "id": "YmsiuT69K7_3"
   },
   "source": [
    "Compare the NumPy code with the Python code that involved lists and notice the differences. At least two are worth pointing:\n",
    "\n",
    "- There is no explicit loop in the case of NumPy.\n",
    "- The code is succinct and more readable.\n",
    "\n",
    "\n",
    "We will soon see that there are also improvements to efficiency when using NumPy, especially when working with large arrays. Next we turn to some useful operations on vectors that can be performed with the help of NumPy."
   ]
  },
  {
   "cell_type": "markdown",
   "metadata": {
    "id": "ap_Zg_CEL9lz"
   },
   "source": [
    "## Element-wise multiplication\n",
    "\n",
    "Element-wise multiplication of two vectors is called the Hadamard product. The operator corresponding to it is $\\odot$. For example, given two vectors:\n",
    "\n",
    "$$\n",
    "\\mathbf{x} = \\begin{bmatrix}\n",
    "1\\\\\n",
    "2\\\\\n",
    "3\n",
    "\\end{bmatrix}, \\mathbf{y} = \\begin{bmatrix}\n",
    "4\\\\\n",
    "5\\\\\n",
    "6\n",
    "\\end{bmatrix}\n",
    "$$\n",
    "\n",
    "we have:\n",
    "\n",
    "$$\n",
    "\\mathbf{z} = \\mathbf{x} \\odot \\mathbf{y}= \\begin{bmatrix}\n",
    "4\\\\\n",
    "10\\\\\n",
    "18\n",
    "\\end{bmatrix}\n",
    "$$\n",
    "\n",
    "In `NumPy`:"
   ]
  },
  {
   "cell_type": "code",
   "execution_count": 7,
   "metadata": {
    "colab": {
     "base_uri": "https://localhost:8080/"
    },
    "executionInfo": {
     "elapsed": 4,
     "status": "ok",
     "timestamp": 1755487337058,
     "user": {
      "displayName": "Karthik Thiagarajan",
      "userId": "18250337670386755696"
     },
     "user_tz": -330
    },
    "id": "2v9T-dLrMX8l",
    "outputId": "50600730-3396-41d8-d5a2-510c9897fb54"
   },
   "outputs": [
    {
     "data": {
      "text/plain": [
       "array([ 4, 10, 18])"
      ]
     },
     "execution_count": 7,
     "metadata": {},
     "output_type": "execute_result"
    }
   ],
   "source": [
    "x = np.arange(1, 4)\n",
    "y = np.arange(4, 7)\n",
    "z = x * y\n",
    "z"
   ]
  },
  {
   "cell_type": "markdown",
   "metadata": {
    "id": "Fp6OJRQZMjoW"
   },
   "source": [
    "## Scaling vectors\n",
    "\n",
    "If $\\mathbf{x}$ is a vector, scaling it by a constant $k$ is equivalent to element-wise multiplication by $k$. For example, given\n",
    "\n",
    "$$\n",
    "\\mathbf{x} = \\begin{bmatrix}\n",
    "1\\\\\n",
    "2\\\\\n",
    "3\n",
    "\\end{bmatrix}\n",
    "$$\n",
    "\n",
    "we have:\n",
    "\n",
    "$$\n",
    "\\mathbf{y} = 3 \\mathbf{x} = \\begin{bmatrix}\n",
    "3\\\\\n",
    "6\\\\\n",
    "9\n",
    "\\end{bmatrix}\n",
    "$$\n",
    "\n",
    "In `NumPy`:"
   ]
  },
  {
   "cell_type": "code",
   "execution_count": 12,
   "metadata": {
    "colab": {
     "base_uri": "https://localhost:8080/"
    },
    "executionInfo": {
     "elapsed": 3,
     "status": "ok",
     "timestamp": 1755487349623,
     "user": {
      "displayName": "Karthik Thiagarajan",
      "userId": "18250337670386755696"
     },
     "user_tz": -330
    },
    "id": "NQGQmZZFM7_z",
    "outputId": "0b4a3cc7-74d9-4d1d-ad80-a3bd5dc1f4ac"
   },
   "outputs": [
    {
     "data": {
      "text/plain": [
       "array([3, 6, 9])"
      ]
     },
     "execution_count": 12,
     "metadata": {},
     "output_type": "execute_result"
    }
   ],
   "source": [
    "x = np.arange(1, 4)\n",
    "y = 3 * x\n",
    "y"
   ]
  },
  {
   "cell_type": "markdown",
   "metadata": {
    "id": "NezSZSd2wn31"
   },
   "source": [
    "## Python Lists vs NumPy Arrays\n",
    "\n",
    "A small detour. Let us now compare the difference in speed between Python lists and NumPy arrays. Consider a sequence of the first 1 million integers. We wish to multiply each element by 2. Let us do it in two ways, one using Python lists and other using NumPy arrays, and observe the difference in speeds."
   ]
  },
  {
   "cell_type": "code",
   "execution_count": 8,
   "metadata": {
    "executionInfo": {
     "elapsed": 1,
     "status": "ok",
     "timestamp": 1755487337059,
     "user": {
      "displayName": "Karthik Thiagarajan",
      "userId": "18250337670386755696"
     },
     "user_tz": -330
    },
    "id": "MR6Errd8w0UZ"
   },
   "outputs": [],
   "source": [
    "py_list = list(range(1_000_000))\n",
    "np_array = np.arange(1_000_000)"
   ]
  },
  {
   "cell_type": "code",
   "execution_count": 9,
   "metadata": {
    "colab": {
     "base_uri": "https://localhost:8080/"
    },
    "executionInfo": {
     "elapsed": 4583,
     "status": "ok",
     "timestamp": 1755487341657,
     "user": {
      "displayName": "Karthik Thiagarajan",
      "userId": "18250337670386755696"
     },
     "user_tz": -330
    },
    "id": "eW0SU3yHxKWa",
    "outputId": "8e2cb760-95cf-4efc-c63e-2ac7f9ae2979"
   },
   "outputs": [
    {
     "name": "stdout",
     "output_type": "stream",
     "text": [
      "57.4 ms ± 10.9 ms per loop (mean ± std. dev. of 7 runs, 10 loops each)\n"
     ]
    }
   ],
   "source": [
    "%timeit [2 * x for x in py_list]"
   ]
  },
  {
   "cell_type": "code",
   "execution_count": 10,
   "metadata": {
    "colab": {
     "base_uri": "https://localhost:8080/"
    },
    "executionInfo": {
     "elapsed": 7952,
     "status": "ok",
     "timestamp": 1755487349613,
     "user": {
      "displayName": "Karthik Thiagarajan",
      "userId": "18250337670386755696"
     },
     "user_tz": -330
    },
    "id": "RMvrnwBDxPDF",
    "outputId": "39eb6023-acd6-423c-b76b-f8f41bb142ea"
   },
   "outputs": [
    {
     "name": "stdout",
     "output_type": "stream",
     "text": [
      "980 µs ± 113 µs per loop (mean ± std. dev. of 7 runs, 1000 loops each)\n"
     ]
    }
   ],
   "source": [
    "%timeit 2 * np_array"
   ]
  },
  {
   "cell_type": "code",
   "execution_count": 11,
   "metadata": {
    "colab": {
     "base_uri": "https://localhost:8080/"
    },
    "executionInfo": {
     "elapsed": 8,
     "status": "ok",
     "timestamp": 1755487349619,
     "user": {
      "displayName": "Karthik Thiagarajan",
      "userId": "18250337670386755696"
     },
     "user_tz": -330
    },
    "id": "u-tEwHhXxVHq",
    "outputId": "b90bcf1f-0e62-4b7a-c553-b3c5961752a7"
   },
   "outputs": [
    {
     "data": {
      "text/plain": [
       "76"
      ]
     },
     "execution_count": 11,
     "metadata": {},
     "output_type": "execute_result"
    }
   ],
   "source": [
    "round((55.3 * 10 ** (-3)) / (723 * 10 ** (-6)))"
   ]
  },
  {
   "cell_type": "markdown",
   "metadata": {
    "id": "54VwlrzYGyIm"
   },
   "source": [
    "We will look at some common operations on vectors and see how they can be achieved with NumPy."
   ]
  },
  {
   "cell_type": "markdown",
   "metadata": {
    "id": "6U2ERkN5NCPe"
   },
   "source": [
    "## Element-wise functions of vectors\n",
    "\n",
    "Scaling a vector $\\mathbf{x}$ by a constant $k$ can be seen as the outcome of the function $f(x) = kx$ applied element-wise:\n",
    "\n",
    "$$\n",
    "\\begin{bmatrix}\n",
    "f(x_1)\\\\\n",
    "\\vdots\\\\\n",
    "f(x_d)\n",
    "\\end{bmatrix} = \\begin{bmatrix}\n",
    "kx_1\\\\\n",
    "\\vdots\\\\\n",
    "k x_d\n",
    "\\end{bmatrix}\n",
    "$$\n",
    "\n",
    "`NumPy` extends this feature for any arbitrary function."
   ]
  },
  {
   "cell_type": "markdown",
   "metadata": {
    "id": "jRqHYiLSXLt3"
   },
   "source": [
    "### Example-1\n",
    "\n",
    "For example, consider the function $f(x) = x^2$. This can be applied element-wise:\n",
    "\n",
    "$$\n",
    "\\begin{bmatrix}\n",
    "x_1^2\\\\\n",
    "\\vdots\\\\\n",
    "x_d^2\n",
    "\\end{bmatrix}\n",
    "$$\n",
    "\n",
    "Let us do this for:\n",
    "\n",
    "$$\n",
    "\\begin{bmatrix}\n",
    "1\\\\\n",
    "2\\\\\n",
    "3\\\\\n",
    "4\n",
    "\\end{bmatrix}\n",
    "$$\n",
    "\n",
    "In `NumPy`:"
   ]
  },
  {
   "cell_type": "code",
   "execution_count": 13,
   "metadata": {
    "colab": {
     "base_uri": "https://localhost:8080/"
    },
    "executionInfo": {
     "elapsed": 14,
     "status": "ok",
     "timestamp": 1755487349638,
     "user": {
      "displayName": "Karthik Thiagarajan",
      "userId": "18250337670386755696"
     },
     "user_tz": -330
    },
    "id": "4J5S44ynN0GR",
    "outputId": "8eecdbfc-bd90-478e-b76e-0a8191ba2941"
   },
   "outputs": [
    {
     "data": {
      "text/plain": [
       "array([ 1,  4,  9, 16])"
      ]
     },
     "execution_count": 13,
     "metadata": {},
     "output_type": "execute_result"
    }
   ],
   "source": [
    "x = np.arange(1, 5)\n",
    "x ** 2"
   ]
  },
  {
   "cell_type": "markdown",
   "metadata": {
    "id": "Vyz1dWlhW3_G"
   },
   "source": [
    "### Example-2.1\n",
    "\n",
    "As another example, consider $f(x) = \\log(x)$. This can also be applied element-wise:\n",
    "\n",
    "$$\n",
    "\\begin{bmatrix}\n",
    "\\log(x_1)\\\\\n",
    "\\vdots\\\\\n",
    "\\log(x_d)\n",
    "\\end{bmatrix}\n",
    "$$\n",
    "\n",
    "Let us do this for $\\begin{bmatrix}1 & 10 & 100 & 1000 & 10000 & 100000\\end{bmatrix}^T$. Use base $10$.\n",
    "\n",
    "In `NumPy`:"
   ]
  },
  {
   "cell_type": "code",
   "execution_count": 14,
   "metadata": {
    "colab": {
     "base_uri": "https://localhost:8080/"
    },
    "executionInfo": {
     "elapsed": 2,
     "status": "ok",
     "timestamp": 1755487349647,
     "user": {
      "displayName": "Karthik Thiagarajan",
      "userId": "18250337670386755696"
     },
     "user_tz": -330
    },
    "id": "jbQ6mp1QN-dG",
    "outputId": "0c7047eb-ca47-4ac9-e106-c0024be9c546"
   },
   "outputs": [
    {
     "data": {
      "text/plain": [
       "array([0., 1., 2., 3., 4., 5.])"
      ]
     },
     "execution_count": 14,
     "metadata": {},
     "output_type": "execute_result"
    }
   ],
   "source": [
    "x = np.array([1, 10, 100, 1000, 10_000, 100_000])\n",
    "np.log10(x)"
   ]
  },
  {
   "cell_type": "markdown",
   "metadata": {
    "id": "Oxn-V4AWYMbr"
   },
   "source": [
    "### Example 2.2\n",
    "\n",
    "We can also use log to the base $e$, the natural logarithm. For this, let us take a specific vector:\n",
    "\n",
    "$$\n",
    "\\mathbf{x} = \\begin{bmatrix}\n",
    "1\\\\\n",
    "e\\\\\n",
    "e^2\\\\\n",
    "e^3\n",
    "\\end{bmatrix}\n",
    "$$\n",
    "\n",
    "and apply the function $f(x) = \\ln(x)$ element-wise.\n",
    "\n",
    "In `NumPy`:"
   ]
  },
  {
   "cell_type": "code",
   "execution_count": 15,
   "metadata": {
    "colab": {
     "base_uri": "https://localhost:8080/"
    },
    "executionInfo": {
     "elapsed": 48,
     "status": "ok",
     "timestamp": 1755487349696,
     "user": {
      "displayName": "Karthik Thiagarajan",
      "userId": "18250337670386755696"
     },
     "user_tz": -330
    },
    "id": "mmA2S3bVyLDg",
    "outputId": "7b333b8b-f2b0-4179-be3d-5606b5eb4923"
   },
   "outputs": [
    {
     "data": {
      "text/plain": [
       "array([0., 1., 2., 3.])"
      ]
     },
     "execution_count": 15,
     "metadata": {},
     "output_type": "execute_result"
    }
   ],
   "source": [
    "x = np.array([1, np.e, np.e ** 2, np.e ** 3])\n",
    "np.log(x)"
   ]
  },
  {
   "cell_type": "markdown",
   "metadata": {
    "id": "CLZ6acXdZDzJ"
   },
   "source": [
    "### Example 3\n",
    "\n",
    "Just as we can scale a vector, we can also add a constant to each component. This is equivalent to applying the element-wise function $f(x) = x + c$. Let us take the case of $\\begin{bmatrix}1 & 2 & 3\\end{bmatrix}^T$ and $c = 5$.\n",
    "\n",
    "In `NumPy`:"
   ]
  },
  {
   "cell_type": "code",
   "execution_count": 16,
   "metadata": {
    "colab": {
     "base_uri": "https://localhost:8080/"
    },
    "executionInfo": {
     "elapsed": 2,
     "status": "ok",
     "timestamp": 1755487349698,
     "user": {
      "displayName": "Karthik Thiagarajan",
      "userId": "18250337670386755696"
     },
     "user_tz": -330
    },
    "id": "BHsoW6jvmQF1",
    "outputId": "6effb936-c7e7-4738-937b-3a85c18bef74"
   },
   "outputs": [
    {
     "data": {
      "text/plain": [
       "array([6, 7, 8])"
      ]
     },
     "execution_count": 16,
     "metadata": {},
     "output_type": "execute_result"
    }
   ],
   "source": [
    "x = np.arange(1, 4)\n",
    "c = 5\n",
    "x + c"
   ]
  },
  {
   "cell_type": "markdown",
   "metadata": {
    "id": "TTTvqeYxZw0O"
   },
   "source": [
    "### Example 4\n",
    "\n",
    "Now for a slightly more involved example with $f(x) = 5x - 2$ applied element-wise on the following vector:\n",
    "\n",
    "$$\n",
    "\\mathbf{x} = \\begin{bmatrix}\n",
    "-1\\\\\n",
    "0\\\\\n",
    "1\\\\\n",
    "2\n",
    "\\end{bmatrix}\n",
    "$$\n",
    "\n",
    "In `NumPy`:"
   ]
  },
  {
   "cell_type": "code",
   "execution_count": 17,
   "metadata": {
    "colab": {
     "base_uri": "https://localhost:8080/"
    },
    "executionInfo": {
     "elapsed": 20,
     "status": "ok",
     "timestamp": 1755487349718,
     "user": {
      "displayName": "Karthik Thiagarajan",
      "userId": "18250337670386755696"
     },
     "user_tz": -330
    },
    "id": "-E8n9MT-aBYj",
    "outputId": "37f483b3-bd85-424c-de6e-f9cfff2b211d"
   },
   "outputs": [
    {
     "data": {
      "text/plain": [
       "array([-7, -2,  3,  8])"
      ]
     },
     "execution_count": 17,
     "metadata": {},
     "output_type": "execute_result"
    }
   ],
   "source": [
    "x = np.arange(-1, 3)\n",
    "5 * x - 2"
   ]
  },
  {
   "cell_type": "markdown",
   "metadata": {
    "id": "kQR9yS5ROhFR"
   },
   "source": [
    "## Dot Product\n",
    "\n",
    "The dot product between two vectors $\\mathbf{x}$ and $\\mathbf{y}$ is given as follows:\n",
    "\n",
    "$$\n",
    "z = \\mathbf{x}^T \\mathbf{y} =  \\mathbf{x} \\cdot \\mathbf{y} = \\sum \\limits_{j = 1}^{m} x_j y_j\n",
    "$$\n",
    "\n",
    "Let us use the following vectors:\n",
    "\n",
    "$$\n",
    "\\mathbf{x} = \\begin{bmatrix}\n",
    "1\\\\\n",
    "2\\\\\n",
    "3\\\\\n",
    "4\\\\\n",
    "\\end{bmatrix}, \\mathbf{y} = \\begin{bmatrix}\n",
    "-4\\\\\n",
    "-5\\\\\n",
    "-6\\\\\n",
    "-7\\\\\n",
    "\\end{bmatrix}\n",
    "$$\n",
    "\n",
    "In `NumPy`:"
   ]
  },
  {
   "cell_type": "code",
   "execution_count": 18,
   "metadata": {
    "colab": {
     "base_uri": "https://localhost:8080/"
    },
    "executionInfo": {
     "elapsed": 2,
     "status": "ok",
     "timestamp": 1755487349721,
     "user": {
      "displayName": "Karthik Thiagarajan",
      "userId": "18250337670386755696"
     },
     "user_tz": -330
    },
    "id": "yIdGkJG_OxrL",
    "outputId": "4a94fc69-210e-44f6-ed8f-7e766ebb6c4c"
   },
   "outputs": [
    {
     "data": {
      "text/plain": [
       "np.int64(-60)"
      ]
     },
     "execution_count": 18,
     "metadata": {},
     "output_type": "execute_result"
    }
   ],
   "source": [
    "x = np.arange(1, 5)\n",
    "y = np.arange(-4, -8, -1)\n",
    "np.dot(x, y)"
   ]
  },
  {
   "cell_type": "markdown",
   "metadata": {
    "id": "R0DRM3FAX8uE"
   },
   "source": [
    "Alternatively, we can do the following."
   ]
  },
  {
   "cell_type": "code",
   "execution_count": 19,
   "metadata": {
    "colab": {
     "base_uri": "https://localhost:8080/"
    },
    "executionInfo": {
     "elapsed": 1,
     "status": "ok",
     "timestamp": 1755487349729,
     "user": {
      "displayName": "Karthik Thiagarajan",
      "userId": "18250337670386755696"
     },
     "user_tz": -330
    },
    "id": "3KrXBo29zg14",
    "outputId": "7c3685d2-4a82-4626-c42d-d7b49e1692d7"
   },
   "outputs": [
    {
     "data": {
      "text/plain": [
       "np.int64(-60)"
      ]
     },
     "execution_count": 19,
     "metadata": {},
     "output_type": "execute_result"
    }
   ],
   "source": [
    "x @ y"
   ]
  },
  {
   "cell_type": "markdown",
   "metadata": {
    "id": "Q6_Mc49be9SP"
   },
   "source": [
    "Since this resembles the mathematical expression quite accurately, we shall stick to this."
   ]
  },
  {
   "cell_type": "markdown",
   "metadata": {
    "id": "-oGTCbqVRqUj"
   },
   "source": [
    "## Vector of zeros or ones\n",
    "\n",
    "On many occassions, we might want to create a `NumPy` array all of whose elements are zeros or ones or some other constant. Let us create the following vectors:\n",
    "\n",
    "$$\n",
    "\\mathbf{0} = \\begin{bmatrix}\n",
    "0\\\\\n",
    "0\\\\\n",
    "0\\\\\n",
    "0\\\\\n",
    "0\n",
    "\\end{bmatrix}, \\mathbf{1} = \\begin{bmatrix}\n",
    "1\\\\\n",
    "1\\\\\n",
    "1\\\\\n",
    "1\\\\\n",
    "1\n",
    "\\end{bmatrix}\n",
    "$$\n",
    "\n",
    "In `NumPy`:"
   ]
  },
  {
   "cell_type": "code",
   "execution_count": 20,
   "metadata": {
    "colab": {
     "base_uri": "https://localhost:8080/"
    },
    "executionInfo": {
     "elapsed": 23,
     "status": "ok",
     "timestamp": 1755487349753,
     "user": {
      "displayName": "Karthik Thiagarajan",
      "userId": "18250337670386755696"
     },
     "user_tz": -330
    },
    "id": "4i6VbthkT36F",
    "outputId": "f464d5b7-50f7-4215-e251-ec9e13430ccd"
   },
   "outputs": [
    {
     "data": {
      "text/plain": [
       "array([0., 0., 0., 0., 0.])"
      ]
     },
     "execution_count": 20,
     "metadata": {},
     "output_type": "execute_result"
    }
   ],
   "source": [
    "zeros = np.zeros(5)\n",
    "zeros"
   ]
  },
  {
   "cell_type": "code",
   "execution_count": 21,
   "metadata": {
    "colab": {
     "base_uri": "https://localhost:8080/"
    },
    "executionInfo": {
     "elapsed": 110,
     "status": "ok",
     "timestamp": 1755487349864,
     "user": {
      "displayName": "Karthik Thiagarajan",
      "userId": "18250337670386755696"
     },
     "user_tz": -330
    },
    "id": "LtTV0YVOz_Dh",
    "outputId": "92b38797-74eb-4606-9027-44e58f77947a"
   },
   "outputs": [
    {
     "data": {
      "text/plain": [
       "array([1., 1., 1., 1., 1.])"
      ]
     },
     "execution_count": 21,
     "metadata": {},
     "output_type": "execute_result"
    }
   ],
   "source": [
    "ones = np.ones(5)\n",
    "ones"
   ]
  },
  {
   "cell_type": "markdown",
   "metadata": {
    "id": "KwAXANsqb3dO"
   },
   "source": [
    "What if we wanted to create a vector all of whose elements are equal to $5$?"
   ]
  },
  {
   "cell_type": "code",
   "execution_count": 22,
   "metadata": {
    "colab": {
     "base_uri": "https://localhost:8080/"
    },
    "executionInfo": {
     "elapsed": 37,
     "status": "ok",
     "timestamp": 1755487349901,
     "user": {
      "displayName": "Karthik Thiagarajan",
      "userId": "18250337670386755696"
     },
     "user_tz": -330
    },
    "id": "qVKkJ3Cgb8e9",
    "outputId": "5bc67f9a-a508-4d2e-a89a-162ba2dfd716"
   },
   "outputs": [
    {
     "data": {
      "text/plain": [
       "array([5., 5., 5., 5., 5.])"
      ]
     },
     "execution_count": 22,
     "metadata": {},
     "output_type": "execute_result"
    }
   ],
   "source": [
    "fives = np.ones(5) * 5\n",
    "fives"
   ]
  },
  {
   "cell_type": "markdown",
   "metadata": {
    "id": "vLcLxgyZGAt5"
   },
   "source": [
    "## Norm of a vector\n",
    "\n",
    "For a vector $\\mathbf{x}$:\n",
    "\n",
    "$$\n",
    "\\mathbf{x} = \\begin{bmatrix}\n",
    "1\\\\\n",
    "2\\\\\n",
    "3\n",
    "\\end{bmatrix}\n",
    "$$\n",
    "\n",
    "The $L_2$ norm is defind as:\n",
    "\n",
    "$$\n",
    "||\\mathbf{x}||_2 = \\sqrt{1^2 + 2^2 + 3^2} = \\sqrt{14}\n",
    "$$\n",
    "\n",
    "The $L_1$ norm is defind as:\n",
    "\n",
    "$$\n",
    "||\\mathbf{x}||_1 = |1| + |2| + |3| = 6\n",
    "$$\n",
    "\n",
    "In `NumPy`:"
   ]
  },
  {
   "cell_type": "code",
   "execution_count": 23,
   "metadata": {
    "colab": {
     "base_uri": "https://localhost:8080/"
    },
    "executionInfo": {
     "elapsed": 2,
     "status": "ok",
     "timestamp": 1755487349904,
     "user": {
      "displayName": "Karthik Thiagarajan",
      "userId": "18250337670386755696"
     },
     "user_tz": -330
    },
    "id": "5hiasmwYk-JK",
    "outputId": "1036801f-c249-44b1-e68d-97b7261a0281"
   },
   "outputs": [
    {
     "data": {
      "text/plain": [
       "np.float64(3.7416573867739413)"
      ]
     },
     "execution_count": 23,
     "metadata": {},
     "output_type": "execute_result"
    }
   ],
   "source": [
    "# L2-norm\n",
    "x = np.arange(1, 4)\n",
    "norm = np.linalg.norm(x)\n",
    "norm"
   ]
  },
  {
   "cell_type": "markdown",
   "metadata": {
    "id": "RsHxZQiXfTPz"
   },
   "source": [
    "By default, the norm computed is the L2 norm. If we want to compute the L1 norm, we have to pass an additional argument to the function."
   ]
  },
  {
   "cell_type": "code",
   "execution_count": 24,
   "metadata": {
    "colab": {
     "base_uri": "https://localhost:8080/"
    },
    "executionInfo": {
     "elapsed": 32,
     "status": "ok",
     "timestamp": 1755487349937,
     "user": {
      "displayName": "Karthik Thiagarajan",
      "userId": "18250337670386755696"
     },
     "user_tz": -330
    },
    "id": "6IuN8JM_fbUh",
    "outputId": "1d325904-4a3d-4880-b401-ab501e6659b0"
   },
   "outputs": [
    {
     "data": {
      "text/plain": [
       "np.float64(6.0)"
      ]
     },
     "execution_count": 24,
     "metadata": {},
     "output_type": "execute_result"
    }
   ],
   "source": [
    "# L1-norm\n",
    "x = np.arange(1, 4)\n",
    "norm = np.linalg.norm(x, ord = 1)\n",
    "norm"
   ]
  },
  {
   "cell_type": "markdown",
   "metadata": {
    "id": "OGdzUtRAy6_g"
   },
   "source": [
    "## Shape and dimension of a vector\n",
    "\n",
    "Vectors are \"one dimensional\" arrays. So all vectors in `NumPy` have array-dimension equal to one. The term \"array-dimension\" here is defined for a `NumPy` array. It is different from the dimension used in the vector-space sense. The vector-space dimension can be obtaind by looking at the shape of the `NumPy` array. Let us explore these two ideas for:\n",
    "\n",
    "$$\n",
    "\\mathbf{x} = \\begin{bmatrix}\n",
    "1\\\\\n",
    "2\\\\\n",
    "3\\\\\n",
    "4\n",
    "\\end{bmatrix}\n",
    "$$"
   ]
  },
  {
   "cell_type": "code",
   "execution_count": 25,
   "metadata": {
    "colab": {
     "base_uri": "https://localhost:8080/"
    },
    "executionInfo": {
     "elapsed": 2,
     "status": "ok",
     "timestamp": 1755487349940,
     "user": {
      "displayName": "Karthik Thiagarajan",
      "userId": "18250337670386755696"
     },
     "user_tz": -330
    },
    "id": "Hs0Y5qRLzkXY",
    "outputId": "75c9232b-d035-4a36-8863-129465cc0eb5"
   },
   "outputs": [
    {
     "data": {
      "text/plain": [
       "(4,)"
      ]
     },
     "execution_count": 25,
     "metadata": {},
     "output_type": "execute_result"
    }
   ],
   "source": [
    "# Shape\n",
    "x = np.arange(1, 5)\n",
    "x.shape"
   ]
  },
  {
   "cell_type": "code",
   "execution_count": 26,
   "metadata": {
    "colab": {
     "base_uri": "https://localhost:8080/"
    },
    "executionInfo": {
     "elapsed": 1,
     "status": "ok",
     "timestamp": 1755487349941,
     "user": {
      "displayName": "Karthik Thiagarajan",
      "userId": "18250337670386755696"
     },
     "user_tz": -330
    },
    "id": "iTdascJZfwnA",
    "outputId": "7bf78fdb-4b93-4f3e-e238-4c03f00a3d12"
   },
   "outputs": [
    {
     "data": {
      "text/plain": [
       "1"
      ]
     },
     "execution_count": 26,
     "metadata": {},
     "output_type": "execute_result"
    }
   ],
   "source": [
    "# N-dim\n",
    "x = np.arange(1, 5)\n",
    "x.ndim"
   ]
  }
 ],
 "metadata": {
  "colab": {
   "provenance": [
    {
     "file_id": "13BwuQmgillEYbqfRBxtpFwv07olRxxaR",
     "timestamp": 1670910963722
    }
   ]
  },
  "kernelspec": {
   "display_name": "Python 3",
   "name": "python3"
  },
  "language_info": {
   "name": "python"
  }
 },
 "nbformat": 4,
 "nbformat_minor": 0
}
