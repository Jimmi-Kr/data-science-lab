{
  "cells": [
    {
      "cell_type": "markdown",
      "metadata": {
        "id": "H729Vxqsdh5_"
      },
      "source": [
        "---\n",
        "title: \"Matrices\"\n",
        "author: \"Karthik Thiagarajan\"\n",
        "---"
      ]
    },
    {
      "cell_type": "markdown",
      "metadata": {
        "id": "iQLGiDT32DHY"
      },
      "source": [
        "## Import"
      ]
    },
    {
      "cell_type": "code",
      "execution_count": 151,
      "metadata": {
        "id": "NTY1DDOO6aQS"
      },
      "outputs": [],
      "source": [
        "import numpy as np"
      ]
    },
    {
      "cell_type": "markdown",
      "metadata": {
        "id": "QchFdrAp6c0E"
      },
      "source": [
        "## Matrix as a `NumPy` array\n",
        "\n",
        "Everything in `NumPy` is an array. A matrix is also an array. Let us create a simple matrix:\n",
        "\n",
        "$$\n",
        "\\textbf{M} = \\begin{bmatrix}\n",
        "1 & 2 & 3\\\\\n",
        "4 & 5 & 6\\\\\n",
        "7 & 8 & 9\n",
        "\\end{bmatrix}\n",
        "$$\n",
        "\n",
        "In `NumPy`:"
      ]
    },
    {
      "cell_type": "code",
      "execution_count": 152,
      "metadata": {
        "colab": {
          "base_uri": "https://localhost:8080/"
        },
        "id": "DURrZ-wb6426",
        "outputId": "8021e060-ffbf-4a7b-c353-a9c935291333"
      },
      "outputs": [
        {
          "data": {
            "text/plain": [
              "array([[1, 2, 3],\n",
              "       [4, 5, 6],\n",
              "       [7, 8, 9]])"
            ]
          },
          "execution_count": 152,
          "metadata": {},
          "output_type": "execute_result"
        }
      ],
      "source": [
        "M = np.array([\n",
        "    [1, 2, 3],\n",
        "    [4, 5, 6],\n",
        "    [7, 8, 9]\n",
        "])\n",
        "M"
      ]
    },
    {
      "cell_type": "markdown",
      "metadata": {
        "id": "L7h4kYjw7XKe"
      },
      "source": [
        "## Adding two matrices\n",
        "\n",
        "Let us now add the following matrices:\n",
        "\n",
        "$$\n",
        "\\textbf{A} = \\begin{bmatrix}\n",
        "1 & 2\\\\\n",
        "3 & 4\n",
        "\\end{bmatrix}, \\textbf{B} = \\begin{bmatrix}\n",
        "5 & 6\\\\\n",
        "7 & 8\n",
        "\\end{bmatrix}\n",
        "$$\n",
        "\n",
        "then,\n",
        "\n",
        "$$\n",
        "\\textbf{C} = \\textbf{A} + \\textbf{B}  = \\begin{bmatrix}\n",
        "6 & 8\\\\\n",
        "10 & 12\n",
        "\\end{bmatrix}\n",
        "$$\n",
        "\n",
        "In `NumPy`:"
      ]
    },
    {
      "cell_type": "code",
      "execution_count": 153,
      "metadata": {
        "colab": {
          "base_uri": "https://localhost:8080/"
        },
        "id": "rOV92c-Y7SJT",
        "outputId": "ecd2011f-d179-4ed7-c62f-44a8b35b2c9a"
      },
      "outputs": [
        {
          "data": {
            "text/plain": [
              "array([[ 6,  8],\n",
              "       [10, 12]])"
            ]
          },
          "execution_count": 153,
          "metadata": {},
          "output_type": "execute_result"
        }
      ],
      "source": [
        "A = np.array([\n",
        "    [1, 2],\n",
        "    [3, 4]\n",
        "])\n",
        "B = np.array([\n",
        "    [5, 6],\n",
        "    [7, 8]\n",
        "])\n",
        "C = A + B\n",
        "C"
      ]
    },
    {
      "cell_type": "markdown",
      "metadata": {
        "id": "m_pCQww198OD"
      },
      "source": [
        "## Scaling a matrix\n",
        "\n",
        "Scaling a matrix is nothing but element-wise multiplication:\n",
        "\n",
        "$$\n",
        "\\textbf{M} = \\begin{bmatrix}\n",
        "1 & 2 & 3\\\\\n",
        "4 & 5 & 6\\\\\n",
        "7 & 8 & 9\n",
        "\\end{bmatrix}\n",
        "$$\n",
        "\n",
        "then,\n",
        "\n",
        "$$\n",
        "3 \\textbf{M} = \\begin{bmatrix}\n",
        "3 & 6 & 9\\\\\n",
        "12 & 15 & 18\\\\\n",
        "21 & 24 & 27\n",
        "\\end{bmatrix}\n",
        "$$\n",
        "\n",
        "In `NumPy`:"
      ]
    },
    {
      "cell_type": "code",
      "execution_count": 154,
      "metadata": {
        "colab": {
          "base_uri": "https://localhost:8080/"
        },
        "id": "jM_o92DpBoYe",
        "outputId": "d42b3bf0-51b9-4d06-a0fe-11765483cf76"
      },
      "outputs": [
        {
          "data": {
            "text/plain": [
              "array([[ 3,  6,  9],\n",
              "       [12, 15, 18],\n",
              "       [21, 24, 27]])"
            ]
          },
          "execution_count": 154,
          "metadata": {},
          "output_type": "execute_result"
        }
      ],
      "source": [
        "M = np.array([\n",
        "    [1, 2, 3],\n",
        "    [4, 5, 6],\n",
        "    [7, 8, 9]\n",
        "])\n",
        "3 * M"
      ]
    },
    {
      "cell_type": "markdown",
      "metadata": {
        "id": "hmE4xEve7y0n"
      },
      "source": [
        "## Element-wise multiplication of matrices\n",
        "\n",
        "Consider two matrices:\n",
        "\n",
        "$$\n",
        "\\textbf{A} = \\begin{bmatrix}\n",
        "1 & 2\\\\\n",
        "3 & 4\n",
        "\\end{bmatrix}, \\textbf{B} = \\begin{bmatrix}\n",
        "5 & 6\\\\\n",
        "7 & 8\n",
        "\\end{bmatrix}\n",
        "$$\n",
        "\n",
        "The element-wise product is given by $\\textbf{A} \\odot \\textbf{B}$:\n",
        "\n",
        "$$\n",
        "\\textbf{C} = \\textbf{A} \\odot \\textbf{B} = \\begin{bmatrix}\n",
        "5 & 12\\\\\n",
        "21 & 32\n",
        "\\end{bmatrix}\n",
        "$$\n",
        "\n",
        "In `NumPy`:"
      ]
    },
    {
      "cell_type": "code",
      "execution_count": 155,
      "metadata": {
        "colab": {
          "base_uri": "https://localhost:8080/"
        },
        "id": "USCv3DX18gbD",
        "outputId": "f8e89de3-fc49-48d7-f9d3-cd2ac6757e4b"
      },
      "outputs": [
        {
          "data": {
            "text/plain": [
              "array([[ 5, 12],\n",
              "       [21, 32]])"
            ]
          },
          "execution_count": 155,
          "metadata": {},
          "output_type": "execute_result"
        }
      ],
      "source": [
        "A = np.array([\n",
        "    [1, 2],\n",
        "    [3, 4]\n",
        "])\n",
        "B = np.array([\n",
        "    [5, 6],\n",
        "    [7, 8]\n",
        "])\n",
        "C = A * B\n",
        "C"
      ]
    },
    {
      "cell_type": "markdown",
      "metadata": {
        "id": "V3iWGy8-8xho"
      },
      "source": [
        "## Element-wise functions of matrices\n",
        "\n",
        "Given a matrix, we sometimes would want to apply a function to every element of the matrix. We will consider two examples."
      ]
    },
    {
      "cell_type": "markdown",
      "metadata": {
        "id": "gVkkmUzNvppN"
      },
      "source": [
        "### Example-1\n",
        "\n",
        "For example, we may want to take the absolute value of all the elements. Let us say $f(x) = |x|$, then:\n",
        "\n",
        "$$\n",
        "\\mathbf{A} = \\begin{bmatrix}\n",
        "-1 & 2\\\\\n",
        "-3 & -4\n",
        "\\end{bmatrix}\n",
        "$$\n",
        "\n",
        "then:\n",
        "\n",
        "$$\n",
        "\\begin{bmatrix}\n",
        "f(-1) & f(2)\\\\\n",
        "f(-3) & f(-4)\n",
        "\\end{bmatrix} =\n",
        "\\begin{bmatrix}\n",
        "1 & 2\\\\\n",
        "3 & 4\n",
        "\\end{bmatrix}\n",
        "$$\n",
        "\n",
        "In `NumPy`, this becomes:"
      ]
    },
    {
      "cell_type": "code",
      "execution_count": 156,
      "metadata": {
        "colab": {
          "base_uri": "https://localhost:8080/"
        },
        "id": "8svqjjFy-QG9",
        "outputId": "82351bbd-1344-4f81-c2da-18c15ecd103c"
      },
      "outputs": [
        {
          "data": {
            "text/plain": [
              "array([[1, 2],\n",
              "       [3, 4]])"
            ]
          },
          "execution_count": 156,
          "metadata": {},
          "output_type": "execute_result"
        }
      ],
      "source": [
        "A = np.array([\n",
        "    [-1, 2],\n",
        "    [-3, -4]\n",
        "])\n",
        "np.abs(A)"
      ]
    },
    {
      "cell_type": "markdown",
      "metadata": {
        "id": "FYiMrhwx-hXT"
      },
      "source": [
        "### Example-2\n",
        "\n",
        "We might want to square each element of the matrix. If $\\textbf{A}$ is a matrix, then $\\textbf{B}$ could be defined element-wise as follows:\n",
        "\n",
        "$$\n",
        "B_{ij} = A_{ij}^2\n",
        "$$\n",
        "\n",
        "Let us compute $\\mathbf{B}$ for the following matrix:\n",
        "\n",
        "$$\n",
        "\\mathbf{A} = \\begin{bmatrix}\n",
        "1 & \\sqrt{2}\\\\\n",
        "\\sqrt{3} & 2\n",
        "\\end{bmatrix}\n",
        "$$\n",
        "\n",
        "In `NumPy`:"
      ]
    },
    {
      "cell_type": "code",
      "execution_count": 157,
      "metadata": {
        "colab": {
          "base_uri": "https://localhost:8080/"
        },
        "id": "uqym9th4-ywH",
        "outputId": "a6dc730f-fb86-454c-996e-1248215c19e5"
      },
      "outputs": [
        {
          "data": {
            "text/plain": [
              "array([[1., 2.],\n",
              "       [3., 4.]])"
            ]
          },
          "execution_count": 157,
          "metadata": {},
          "output_type": "execute_result"
        }
      ],
      "source": [
        "A = np.array([\n",
        "    [1, np.sqrt(2)],\n",
        "    [np.sqrt(3), 2]\n",
        "])\n",
        "A ** 2"
      ]
    },
    {
      "cell_type": "markdown",
      "metadata": {
        "id": "-Pfh-LgH_AHi"
      },
      "source": [
        "## Transpose of a matrix\n",
        "\n",
        "Given a matrix $\\textbf{M}$:\n",
        "\n",
        "$$\n",
        "\\textbf{M} = \\begin{bmatrix}\n",
        "1 & 2 & 3\\\\\n",
        "4 & 5 & 6\n",
        "\\end{bmatrix}\n",
        "$$\n",
        "\n",
        "then, its transpose $\\textbf{M}^{T}$ is:\n",
        "\n",
        "$$\n",
        "\\textbf{M}^{T} = \\begin{bmatrix}\n",
        "1 & 4\\\\\n",
        "2 & 5\\\\\n",
        "3 & 6\n",
        "\\end{bmatrix}\n",
        "$$\n",
        "\n",
        "In `NumPy`:"
      ]
    },
    {
      "cell_type": "code",
      "execution_count": 158,
      "metadata": {
        "colab": {
          "base_uri": "https://localhost:8080/"
        },
        "id": "9uBXpMH3_5pw",
        "outputId": "91eced13-3f76-440f-9fbc-317dde414c63"
      },
      "outputs": [
        {
          "data": {
            "text/plain": [
              "array([[1, 4],\n",
              "       [2, 5],\n",
              "       [3, 6]])"
            ]
          },
          "execution_count": 158,
          "metadata": {},
          "output_type": "execute_result"
        }
      ],
      "source": [
        "M = np.array([\n",
        "    [1, 2, 3],\n",
        "    [4, 5, 6]\n",
        "])\n",
        "np.transpose(M)"
      ]
    },
    {
      "cell_type": "markdown",
      "metadata": {
        "id": "5ozZQwdCbt5c"
      },
      "source": [
        "Alternatively:"
      ]
    },
    {
      "cell_type": "code",
      "execution_count": 159,
      "metadata": {
        "colab": {
          "base_uri": "https://localhost:8080/"
        },
        "id": "fc10sVTlbvPo",
        "outputId": "fa8eddfd-297a-4805-f58f-bb766a98590b"
      },
      "outputs": [
        {
          "data": {
            "text/plain": [
              "array([[1, 4],\n",
              "       [2, 5],\n",
              "       [3, 6]])"
            ]
          },
          "execution_count": 159,
          "metadata": {},
          "output_type": "execute_result"
        }
      ],
      "source": [
        "M = np.array([\n",
        "    [1, 2, 3],\n",
        "    [4, 5, 6]\n",
        "])\n",
        "M.transpose()"
      ]
    },
    {
      "cell_type": "markdown",
      "metadata": {
        "id": "SwERb4BxG5So"
      },
      "source": [
        "Equivalently, we have:"
      ]
    },
    {
      "cell_type": "code",
      "execution_count": 160,
      "metadata": {
        "colab": {
          "base_uri": "https://localhost:8080/"
        },
        "id": "By10nR09CCoU",
        "outputId": "d0029701-e641-42f3-f50d-212d54901c7d"
      },
      "outputs": [
        {
          "data": {
            "text/plain": [
              "array([[1, 4],\n",
              "       [2, 5],\n",
              "       [3, 6]])"
            ]
          },
          "execution_count": 160,
          "metadata": {},
          "output_type": "execute_result"
        }
      ],
      "source": [
        "M.T"
      ]
    },
    {
      "cell_type": "markdown",
      "metadata": {
        "id": "mTF1fOtMG8MD"
      },
      "source": [
        "This is what we will be sticking to given that it is very close to the corresponding math notation."
      ]
    },
    {
      "cell_type": "markdown",
      "metadata": {
        "id": "wDsjZjevz1eg"
      },
      "source": [
        "## Shape and dimension of a matrix\n",
        "\n",
        "Matrices are \"two dimensional\" arrays. So all matrices in `NumPy` have array-dimension equal to two. The shape of the `NumPy` array gives what we usually call the dimension of the matrix in the linear algebra sense. Let us explore these two ideas for:\n",
        "\n",
        "$$\n",
        "\\mathbf{M} = \\begin{bmatrix}\n",
        "1 & 2 & 3\\\\\n",
        "4 & 5 & 6\\\\\n",
        "\\end{bmatrix}\n",
        "$$\n",
        "\n",
        "In `NumPy`:"
      ]
    },
    {
      "cell_type": "code",
      "execution_count": 161,
      "metadata": {
        "colab": {
          "base_uri": "https://localhost:8080/"
        },
        "id": "8WPQSzfzgSO1",
        "outputId": "1147c1d4-c261-4321-856b-b1bbe892d5bb"
      },
      "outputs": [
        {
          "name": "stdout",
          "output_type": "stream",
          "text": [
            "(2, 3)\n",
            "2\n"
          ]
        }
      ],
      "source": [
        "M = np.array([\n",
        "    [1, 2, 3],\n",
        "    [4, 5, 6]\n",
        "])\n",
        "print(M.shape)\n",
        "print(M.ndim)"
      ]
    },
    {
      "cell_type": "markdown",
      "metadata": {
        "id": "MCIMpQhExmcf"
      },
      "source": [
        "`M` is a two dimensional NumPy array of shape $(2, 3)$ which represents a matrix $\\mathbf{M} \\in \\mathbb{R}^{2 \\times 3}$."
      ]
    },
    {
      "cell_type": "markdown",
      "metadata": {
        "id": "4wKzNg0afnIo"
      },
      "source": [
        "## Vectors as matrices\n",
        "\n",
        "Each vector can be viewed as a matrix. Column vectors are matrices of shape $(d, 1)$. Row vectors are matrices of shape $(1, d)$. Let us look at how NumPy treats both these cases:\n"
      ]
    },
    {
      "cell_type": "code",
      "execution_count": 162,
      "metadata": {
        "colab": {
          "base_uri": "https://localhost:8080/"
        },
        "id": "v2Tqn0AGfzKA",
        "outputId": "b8f379a7-9777-448d-d07a-0e04c2ba4f79"
      },
      "outputs": [
        {
          "name": "stdout",
          "output_type": "stream",
          "text": [
            "(3, 1)\n",
            "2\n"
          ]
        },
        {
          "data": {
            "text/plain": [
              "array([[1],\n",
              "       [2],\n",
              "       [3]])"
            ]
          },
          "execution_count": 162,
          "metadata": {},
          "output_type": "execute_result"
        }
      ],
      "source": [
        "x = np.array([\n",
        "    [1],\n",
        "    [2],\n",
        "    [3]\n",
        "])\n",
        "print(x.shape)\n",
        "print(x.ndim)\n",
        "x"
      ]
    },
    {
      "cell_type": "code",
      "execution_count": 163,
      "metadata": {
        "colab": {
          "base_uri": "https://localhost:8080/"
        },
        "id": "qQs5unIZD2OJ",
        "outputId": "9cf2a77e-2f84-4be3-e9d1-ad47021b02de"
      },
      "outputs": [
        {
          "name": "stdout",
          "output_type": "stream",
          "text": [
            "(1, 3)\n",
            "2\n"
          ]
        },
        {
          "data": {
            "text/plain": [
              "array([[1, 2, 3]])"
            ]
          },
          "execution_count": 163,
          "metadata": {},
          "output_type": "execute_result"
        }
      ],
      "source": [
        "x = np.array([\n",
        "    [1, 2, 3]\n",
        "])\n",
        "print(x.shape)\n",
        "print(x.ndim)\n",
        "x"
      ]
    },
    {
      "cell_type": "markdown",
      "metadata": {
        "id": "GOi6MkAUbvPD"
      },
      "source": [
        "To create a row or column vector from a 1D NumPy array, we can use `np.newaxis`. Focus on the syntax for now; the reason we are doing this will become clear when we discuss indexing and slicing."
      ]
    },
    {
      "cell_type": "code",
      "execution_count": 164,
      "metadata": {
        "colab": {
          "base_uri": "https://localhost:8080/"
        },
        "id": "FKRqvzRNb1Wn",
        "outputId": "c07f86d1-2d1b-4448-d036-7efe72acaed6"
      },
      "outputs": [
        {
          "data": {
            "text/plain": [
              "(3, 1)"
            ]
          },
          "execution_count": 164,
          "metadata": {},
          "output_type": "execute_result"
        }
      ],
      "source": [
        "# Column vector\n",
        "x = np.array([1, 2, 3])\n",
        "x = x[:, np.newaxis]\n",
        "x.shape"
      ]
    },
    {
      "cell_type": "code",
      "execution_count": 165,
      "metadata": {
        "colab": {
          "base_uri": "https://localhost:8080/"
        },
        "id": "-WFz8j1qbuox",
        "outputId": "9c5cf867-2bff-4a4d-8520-a4f0de125f67"
      },
      "outputs": [
        {
          "data": {
            "text/plain": [
              "(1, 3)"
            ]
          },
          "execution_count": 165,
          "metadata": {},
          "output_type": "execute_result"
        }
      ],
      "source": [
        "# Row vector\n",
        "x = np.array([1, 2, 3])\n",
        "x = x[np.newaxis, :]\n",
        "x.shape"
      ]
    },
    {
      "cell_type": "markdown",
      "metadata": {
        "id": "2HhBi37gcLgJ"
      },
      "source": [
        "Alternatively, we can also use a method called `reshape`:"
      ]
    },
    {
      "cell_type": "code",
      "execution_count": 166,
      "metadata": {
        "colab": {
          "base_uri": "https://localhost:8080/"
        },
        "id": "QCh1RYKgcN1s",
        "outputId": "4af6b035-d0c8-4745-8948-d5fa7924160e"
      },
      "outputs": [
        {
          "data": {
            "text/plain": [
              "(3, 1)"
            ]
          },
          "execution_count": 166,
          "metadata": {},
          "output_type": "execute_result"
        }
      ],
      "source": [
        "# Column vector\n",
        "x = np.array([1, 2, 3])\n",
        "x = x.reshape(3, 1)\n",
        "x.shape"
      ]
    },
    {
      "cell_type": "code",
      "execution_count": 167,
      "metadata": {
        "colab": {
          "base_uri": "https://localhost:8080/"
        },
        "id": "IbVX9hV6cSem",
        "outputId": "f994ff67-d52d-4123-bcde-584229b50c31"
      },
      "outputs": [
        {
          "data": {
            "text/plain": [
              "(1, 3)"
            ]
          },
          "execution_count": 167,
          "metadata": {},
          "output_type": "execute_result"
        }
      ],
      "source": [
        "# Row vector\n",
        "x = np.array([1, 2, 3])\n",
        "x = x.reshape(1, 3)\n",
        "x.shape"
      ]
    },
    {
      "cell_type": "markdown",
      "metadata": {
        "id": "qchRKh-00dyU"
      },
      "source": [
        "`reshape` is a powerful method and will come in handy in various applications."
      ]
    },
    {
      "cell_type": "markdown",
      "metadata": {
        "id": "GpQXZMCve8Wf"
      },
      "source": [
        "## Products involving matrices and vectors\n",
        "\n",
        "We will look at the following products:\n",
        "- matrix - matrix\n",
        "- matrix - vector\n",
        "- vector - matrix\n",
        "- vector - vector"
      ]
    },
    {
      "cell_type": "markdown",
      "metadata": {
        "id": "ugLU7PhgA548"
      },
      "source": [
        "### Product of two matrices\n",
        "\n",
        "Given two matrices compatible for multiplication:\n",
        "\n",
        "$$\n",
        "\\textbf{A} = \\begin{bmatrix}\n",
        "1 & 2 & 3\\\\\n",
        "4 & 5 & 6\n",
        "\\end{bmatrix}, \\textbf{B} = \\begin{bmatrix}\n",
        "6 & 7\\\\\n",
        "8 & 9\\\\\n",
        "10 & 11\n",
        "\\end{bmatrix}\n",
        "$$\n",
        "\n",
        "then,\n",
        "\n",
        "$$\n",
        "\\textbf{C} = \\textbf{A} \\times \\textbf{B} = \\begin{bmatrix}\n",
        "52 & 58\\\\\n",
        "124 & 139\n",
        "\\end{bmatrix}\n",
        "$$\n",
        "\n",
        "In `NumPy`:"
      ]
    },
    {
      "cell_type": "code",
      "execution_count": 168,
      "metadata": {
        "colab": {
          "base_uri": "https://localhost:8080/"
        },
        "id": "sbiOJrIzBkFg",
        "outputId": "124d1d45-8281-43e4-f485-24df19ed552e"
      },
      "outputs": [
        {
          "data": {
            "text/plain": [
              "array([[ 52,  58],\n",
              "       [124, 139]])"
            ]
          },
          "execution_count": 168,
          "metadata": {},
          "output_type": "execute_result"
        }
      ],
      "source": [
        "A = np.array([\n",
        "    [1, 2, 3],\n",
        "    [4, 5, 6]\n",
        "])\n",
        "B = np.array([\n",
        "    [6, 7],\n",
        "    [8, 9],\n",
        "    [10, 11]\n",
        "])\n",
        "C = A @ B\n",
        "C"
      ]
    },
    {
      "cell_type": "markdown",
      "metadata": {
        "id": "zdFPst7KCtgl"
      },
      "source": [
        "### Product of a matrix and a (column) vector\n",
        "\n",
        "Given the matrix $\\mathbf{A}$ and the vector $\\mathbf{x}$:\n",
        "\n",
        "$$\n",
        "\\mathbf{A} = \\begin{bmatrix}\n",
        "1 & 2 & 3\\\\\n",
        "4 & 5 & 6\\\\\n",
        "7 & 8 & 9\n",
        "\\end{bmatrix}, \\mathbf{x} = \\begin{bmatrix}\n",
        "6\\\\\n",
        "7\\\\\n",
        "8\n",
        "\\end{bmatrix}\n",
        "$$\n",
        "\n",
        "The product $\\mathbf{Ax}$ is given by:\n",
        "\n",
        "$$\n",
        "\\mathbf{C} = \\mathbf{A x} = \\begin{bmatrix}\n",
        "44\\\\\n",
        "107\\\\\n",
        "170\n",
        "\\end{bmatrix}\n",
        "$$\n",
        "\n",
        "In `NumPy`:"
      ]
    },
    {
      "cell_type": "code",
      "execution_count": 169,
      "metadata": {
        "colab": {
          "base_uri": "https://localhost:8080/"
        },
        "id": "F9tQwGumDfgv",
        "outputId": "2e9429c8-a423-4895-d7f1-9be38880a1d4"
      },
      "outputs": [
        {
          "data": {
            "text/plain": [
              "array([ 44, 107, 170])"
            ]
          },
          "execution_count": 169,
          "metadata": {},
          "output_type": "execute_result"
        }
      ],
      "source": [
        "A = np.array([\n",
        "    [1, 2, 3],\n",
        "    [4, 5, 6],\n",
        "    [7, 8, 9]\n",
        "])\n",
        "x = np.array([6, 7, 8])\n",
        "C = A @ x\n",
        "C"
      ]
    },
    {
      "cell_type": "markdown",
      "metadata": {
        "id": "czO_GwynKHWQ"
      },
      "source": [
        "### Product of a (row) vector and a matrix\n",
        "\n",
        "Given the matrix $\\mathbf{A}$ and the vector $\\mathbf{x}$:\n",
        "\n",
        "$$\n",
        "\\mathbf{A} = \\begin{bmatrix}\n",
        "1 & 2 & 3\\\\\n",
        "4 & 5 & 6\\\\\n",
        "7 & 8 & 9\n",
        "\\end{bmatrix}, \\mathbf{x} = \\begin{bmatrix}\n",
        "6\\\\\n",
        "7\\\\\n",
        "8\n",
        "\\end{bmatrix}\n",
        "$$\n",
        "\n",
        "The product $\\mathbf{x}^T \\mathbf{A}$ is given by:\n",
        "\n",
        "$$\n",
        "\\mathbf{C} = \\mathbf{x}^T \\mathbf{A} = \\begin{bmatrix}\n",
        "90 & 111 & 132\n",
        "\\end{bmatrix}\n",
        "$$\n",
        "\n",
        "In `NumPy`:"
      ]
    },
    {
      "cell_type": "code",
      "execution_count": 170,
      "metadata": {
        "colab": {
          "base_uri": "https://localhost:8080/"
        },
        "id": "C_n2CZRhKTio",
        "outputId": "f8a9ef92-07e8-493b-a9c6-2e28306925c2"
      },
      "outputs": [
        {
          "data": {
            "text/plain": [
              "array([ 90, 111, 132])"
            ]
          },
          "execution_count": 170,
          "metadata": {},
          "output_type": "execute_result"
        }
      ],
      "source": [
        "A = np.array([\n",
        "    [1, 2, 3],\n",
        "    [4, 5, 6],\n",
        "    [7, 8, 9]\n",
        "])\n",
        "x = np.array([6, 7, 8])\n",
        "x @ A"
      ]
    },
    {
      "cell_type": "markdown",
      "metadata": {
        "id": "d0impiXDL6_s"
      },
      "source": [
        "### (Inner) Product of a (row) vector and a (column) vector\n",
        "\n",
        "The product of a row vector and a column vector is nothing but the usual dot product:\n",
        "\n",
        "$$\n",
        "\\mathbf{x}^T = \\begin{bmatrix}\n",
        "1 & 2 & 3\n",
        "\\end{bmatrix}, \\quad\n",
        "\\mathbf{y} = \\begin{bmatrix}\n",
        "4\\\\\n",
        "5\\\\\n",
        "6\n",
        "\\end{bmatrix}\n",
        "$$\n",
        "\n",
        "The product $\\mathbf{x}^T \\mathbf{y}$ is then:\n",
        "\n",
        "$$\n",
        "\\mathbf{x}^T \\mathbf{y} = 32\n",
        "$$\n",
        "\n",
        "In `NumPy`:"
      ]
    },
    {
      "cell_type": "code",
      "execution_count": 171,
      "metadata": {
        "colab": {
          "base_uri": "https://localhost:8080/"
        },
        "id": "Wch5wXY3MZol",
        "outputId": "9e44dc02-9fbe-4cd8-c038-122d949c94c0"
      },
      "outputs": [
        {
          "data": {
            "text/plain": [
              "np.int64(32)"
            ]
          },
          "execution_count": 171,
          "metadata": {},
          "output_type": "execute_result"
        }
      ],
      "source": [
        "x = np.array([1, 2, 3])\n",
        "y = np.array([4, 5, 6])\n",
        "x @ y"
      ]
    },
    {
      "cell_type": "markdown",
      "metadata": {
        "id": "xtZ4gUhdMrvM"
      },
      "source": [
        "### (Outer) Product of a (column) vector and a (row) vector\n",
        "\n",
        "The product of a column vector and a row vector is an outer product:\n",
        "\n",
        "$$\n",
        "\\mathbf{x} = \\begin{bmatrix}\n",
        "1\\\\\n",
        "2\\\\\n",
        "3\n",
        "\\end{bmatrix}, \\quad\n",
        "\\mathbf{y} = \\begin{bmatrix}\n",
        "4 & 5 & 6\n",
        "\\end{bmatrix}\n",
        "$$\n",
        "\n",
        "The product $\\mathbf{x} \\mathbf{y}^T$ is then:\n",
        "\n",
        "$$\n",
        "\\mathbf{x} \\mathbf{y}^T = \\begin{bmatrix}\n",
        "4 & 5 & 6\\\\\n",
        "8 & 10 & 12\\\\\n",
        "12 & 15 & 18\n",
        "\\end{bmatrix}\n",
        "$$\n",
        "\n",
        "In `NumPy`:"
      ]
    },
    {
      "cell_type": "code",
      "execution_count": 172,
      "metadata": {
        "colab": {
          "base_uri": "https://localhost:8080/"
        },
        "id": "p5a1jU1cNDVm",
        "outputId": "be15d3f9-1d6d-4175-c8a4-6407e5dc900f"
      },
      "outputs": [
        {
          "data": {
            "text/plain": [
              "array([[ 4,  5,  6],\n",
              "       [ 8, 10, 12],\n",
              "       [12, 15, 18]])"
            ]
          },
          "execution_count": 172,
          "metadata": {},
          "output_type": "execute_result"
        }
      ],
      "source": [
        "x = np.array([1, 2, 3])\n",
        "y = np.array([4, 5, 6])\n",
        "np.outer(x, y)"
      ]
    },
    {
      "cell_type": "markdown",
      "metadata": {
        "id": "Tqy56hvIcTuu"
      },
      "source": [
        "Equivalently:"
      ]
    },
    {
      "cell_type": "code",
      "execution_count": 173,
      "metadata": {
        "colab": {
          "base_uri": "https://localhost:8080/"
        },
        "id": "r31NKgOwcU1x",
        "outputId": "e5e22f1d-f6a2-4d3f-aaea-c9df077841b1"
      },
      "outputs": [
        {
          "data": {
            "text/plain": [
              "array([[ 4,  5,  6],\n",
              "       [ 8, 10, 12],\n",
              "       [12, 15, 18]])"
            ]
          },
          "execution_count": 173,
          "metadata": {},
          "output_type": "execute_result"
        }
      ],
      "source": [
        "x = np.array([1, 2, 3])\n",
        "y = np.array([4, 5, 6])\n",
        "x = x[:, np.newaxis]\n",
        "y = y[np.newaxis, :]\n",
        "x @ y"
      ]
    },
    {
      "cell_type": "markdown",
      "metadata": {
        "id": "rqeLCXzM04pA"
      },
      "source": [
        "Notice the amazing power of the `@` operator and the seemingly magical way in which `NumPy` combines the left and right operands. Let us see how `NumPy` achieves this in the particular case of a row-vector matrix product. Consider multiplying $\\begin{bmatrix}1 & 2\\end{bmatrix}$ and $\\begin{bmatrix}3 & 4\\\\5 & 6\\end{bmatrix}$."
      ]
    },
    {
      "cell_type": "code",
      "execution_count": 174,
      "metadata": {
        "colab": {
          "base_uri": "https://localhost:8080/"
        },
        "id": "7RBel81-2iiW",
        "outputId": "ae1a2b28-e102-4327-cf68-7603ef71ad77"
      },
      "outputs": [
        {
          "data": {
            "text/plain": [
              "array([13, 16])"
            ]
          },
          "execution_count": 174,
          "metadata": {},
          "output_type": "execute_result"
        }
      ],
      "source": [
        "x = np.array([1, 2])\n",
        "M = np.array([\n",
        "    [3, 4],\n",
        "    [5, 6]\n",
        "])\n",
        "x @ M"
      ]
    },
    {
      "cell_type": "markdown",
      "metadata": {
        "id": "tIo9HJ0K2n0I"
      },
      "source": [
        "When we execute `x @ M`, `NumPy` does the following:\n",
        "- Convert the 1D array `x` into a 2D array by adding an extra dimension at the beginning so that the result is a row vector whose shape is $(1, 2)$.\n",
        "- Now that `x` and `M` are compatible for matrix multiplication because their shapes are $(1, 2)$ and $(2, 2)$ respectively, matrix multiplication happens.\n",
        "- The resulting output of this operation has shape $(1, 2)$. Since this is effectively a vector, `NumPy` drops the extra dimension and outputs a 1D array of shape $(2, )$.\n",
        "\n",
        "`np.matmul` gives the same result. But we will stick to the `@` operator."
      ]
    },
    {
      "cell_type": "code",
      "execution_count": 175,
      "metadata": {
        "colab": {
          "base_uri": "https://localhost:8080/"
        },
        "id": "f0vSxkFV3MSN",
        "outputId": "308a03f6-35c6-4853-f77d-3979d98652cc"
      },
      "outputs": [
        {
          "data": {
            "text/plain": [
              "array([13, 16])"
            ]
          },
          "execution_count": 175,
          "metadata": {},
          "output_type": "execute_result"
        }
      ],
      "source": [
        "x = np.array([1, 2])\n",
        "M = np.array([\n",
        "    [3, 4],\n",
        "    [5, 6]\n",
        "])\n",
        "np.matmul(x, M)"
      ]
    },
    {
      "cell_type": "markdown",
      "metadata": {
        "id": "AyV3jyK0QuhB"
      },
      "source": [
        "## Special matrices\n",
        "\n",
        "Let us now look at some special matrices that can be generated using `NumPy`."
      ]
    },
    {
      "cell_type": "markdown",
      "metadata": {
        "id": "KShBdBZcQpTN"
      },
      "source": [
        "### Matrix of zeros\n",
        "\n",
        "In many algorithms, we might have to initialize a matrix with zeros. For example, consider a $2 \\times 4$ matrix:\n",
        "\n",
        "$$\n",
        "\\mathbf{M} = \\begin{bmatrix}\n",
        "0 & 0 & 0 & 0\\\\\n",
        "0 & 0 & 0 & 0\n",
        "\\end{bmatrix}\n",
        "$$\n",
        "\n",
        "In `NumPy`:"
      ]
    },
    {
      "cell_type": "code",
      "execution_count": 176,
      "metadata": {
        "colab": {
          "base_uri": "https://localhost:8080/"
        },
        "id": "x38VjAKRRAFk",
        "outputId": "d0decff3-1476-45e6-d0d8-5c8745770f5e"
      },
      "outputs": [
        {
          "data": {
            "text/plain": [
              "array([[0., 0., 0., 0.],\n",
              "       [0., 0., 0., 0.]])"
            ]
          },
          "execution_count": 176,
          "metadata": {},
          "output_type": "execute_result"
        }
      ],
      "source": [
        "np.zeros((2, 4))"
      ]
    },
    {
      "cell_type": "markdown",
      "metadata": {
        "id": "hEg3EbveRWyc"
      },
      "source": [
        "### Matrix of ones\n",
        "\n",
        "Similar to a matrix of zeros, we can come up with a matrix of ones.\n",
        "\n",
        "$$\n",
        "\\mathbf{M} = \\begin{bmatrix}\n",
        "1 & 1\\\\\n",
        "1 & 1\\\\\n",
        "1 & 1\n",
        "\\end{bmatrix}\n",
        "$$\n",
        "\n",
        "In `NumPy`:"
      ]
    },
    {
      "cell_type": "code",
      "execution_count": 177,
      "metadata": {
        "colab": {
          "base_uri": "https://localhost:8080/"
        },
        "id": "kdApYPy7RlUd",
        "outputId": "2d8d898e-1756-415d-f194-e62c28452278"
      },
      "outputs": [
        {
          "data": {
            "text/plain": [
              "array([[1., 1.],\n",
              "       [1., 1.],\n",
              "       [1., 1.]])"
            ]
          },
          "execution_count": 177,
          "metadata": {},
          "output_type": "execute_result"
        }
      ],
      "source": [
        "np.ones((3, 2))"
      ]
    },
    {
      "cell_type": "markdown",
      "metadata": {
        "id": "dYEddfsL5meY"
      },
      "source": [
        "We have to be careful about the argument. It has to be a tuple (or some sequence, say a list). See what happens if pass it as two separate arguments: `np.ones(3, 2)`,"
      ]
    },
    {
      "cell_type": "markdown",
      "metadata": {
        "id": "hhHfmOEiSknK"
      },
      "source": [
        "### Identity matrix\n",
        "\n",
        "Often, we might have to deal with identity matrices. A $3 \\times 3$ identity matrix is as follows:\n",
        "\n",
        "$$\n",
        "\\mathbf{I} = \\begin{bmatrix}\n",
        "1 & 0 & 0\\\\\n",
        "0 & 1 & 0\\\\\n",
        "0 & 0 & 1\n",
        "\\end{bmatrix}\n",
        "$$\n",
        "\n",
        "In `NumPy`:"
      ]
    },
    {
      "cell_type": "code",
      "execution_count": 178,
      "metadata": {
        "colab": {
          "base_uri": "https://localhost:8080/"
        },
        "id": "sTLClyKSS8s-",
        "outputId": "899e27cb-454e-4548-d258-bf5197cb84bb"
      },
      "outputs": [
        {
          "data": {
            "text/plain": [
              "array([[1., 0., 0., 0., 0.],\n",
              "       [0., 1., 0., 0., 0.],\n",
              "       [0., 0., 1., 0., 0.],\n",
              "       [0., 0., 0., 1., 0.],\n",
              "       [0., 0., 0., 0., 1.]])"
            ]
          },
          "execution_count": 178,
          "metadata": {},
          "output_type": "execute_result"
        }
      ],
      "source": [
        "np.eye(5)"
      ]
    },
    {
      "cell_type": "markdown",
      "metadata": {
        "id": "hrjIArpFQ6S8"
      },
      "source": [
        "A scalar matrix can be obtained by multiplying the identity matrix by the appropriate scalar."
      ]
    },
    {
      "cell_type": "markdown",
      "metadata": {
        "id": "gsSwBuSExQX1"
      },
      "source": [
        "### Diagonal matrices\n",
        "\n",
        "Another special kind of matrix. Let us create the following matrix:\n",
        "\n",
        "$$\n",
        "\\mathbf{D} = \\begin{bmatrix}\n",
        "1 & 0 & 0 & 0\\\\\n",
        "0 & 2 & 0 & 0\\\\\n",
        "0 & 0 & 3 & 0\\\\\n",
        "0 & 0 & 0 & 4\n",
        "\\end{bmatrix}\n",
        "$$\n",
        "\n",
        "In `NumPy`:"
      ]
    },
    {
      "cell_type": "code",
      "execution_count": 179,
      "metadata": {
        "colab": {
          "base_uri": "https://localhost:8080/"
        },
        "id": "fLZ8y1ODxgq6",
        "outputId": "e68787c6-a585-48ee-9744-9961ec9bcd7a"
      },
      "outputs": [
        {
          "data": {
            "text/plain": [
              "array([[1, 0, 0, 0],\n",
              "       [0, 2, 0, 0],\n",
              "       [0, 0, 3, 0],\n",
              "       [0, 0, 0, 4]])"
            ]
          },
          "execution_count": 179,
          "metadata": {},
          "output_type": "execute_result"
        }
      ],
      "source": [
        "np.diag([1, 2, 3, 4])"
      ]
    },
    {
      "cell_type": "markdown",
      "metadata": {
        "id": "LYEO0xG8Tmdo"
      },
      "source": [
        "## Indexing and Slicing\n",
        "\n",
        "Just like lists in Python, `NumPy` arrays can be indexed and sliced.  Slicing is useful if we want to work with a portion of an array. We will look at some examples."
      ]
    },
    {
      "cell_type": "markdown",
      "metadata": {
        "id": "Nvw85fkOcsbG"
      },
      "source": [
        "### Example-1: Indexing\n",
        "\n",
        "Consider:\n",
        "\n",
        "$$\n",
        "M = \\begin{bmatrix}\n",
        "1 & 3 & 0\\\\\n",
        "4 & 2 & \\color{red}{5}\\\\\n",
        "9 & 8 & 7\n",
        "\\end{bmatrix}\n",
        "$$\n",
        "\n",
        "To access the element $5$, we can do the following:"
      ]
    },
    {
      "cell_type": "code",
      "execution_count": 180,
      "metadata": {
        "colab": {
          "base_uri": "https://localhost:8080/"
        },
        "id": "EPVc1i-1c5SQ",
        "outputId": "e59ccb4a-439a-4f2f-f711-44f7f5b683ad"
      },
      "outputs": [
        {
          "data": {
            "text/plain": [
              "np.int64(5)"
            ]
          },
          "execution_count": 180,
          "metadata": {},
          "output_type": "execute_result"
        }
      ],
      "source": [
        "M = np.array([\n",
        "    [1, 3, 0],\n",
        "    [4, 2, 5],\n",
        "    [9, 8, 7]\n",
        "])\n",
        "M[1][2]"
      ]
    },
    {
      "cell_type": "markdown",
      "metadata": {
        "id": "Ol7oh45odAQY"
      },
      "source": [
        "Alternatively, we can also use:"
      ]
    },
    {
      "cell_type": "code",
      "execution_count": 181,
      "metadata": {
        "colab": {
          "base_uri": "https://localhost:8080/"
        },
        "id": "VLCfHFoJdChP",
        "outputId": "e998b7ed-b024-4e31-8b98-895a7cc65b59"
      },
      "outputs": [
        {
          "data": {
            "text/plain": [
              "np.int64(5)"
            ]
          },
          "execution_count": 181,
          "metadata": {},
          "output_type": "execute_result"
        }
      ],
      "source": [
        "M = np.array([\n",
        "    [1, 3, 0],\n",
        "    [4, 2, 5],\n",
        "    [9, 8, 7]\n",
        "])\n",
        "M[1, 2]"
      ]
    },
    {
      "cell_type": "markdown",
      "metadata": {
        "id": "9FQlkAGbdFIU"
      },
      "source": [
        "Note that NumPy uses zero-indexing, just like Python. In general, `M[row, col]` is the element in the row `row` and columnn `col` assuming zero indexing."
      ]
    },
    {
      "cell_type": "markdown",
      "metadata": {
        "id": "jjVMaWjETs1R"
      },
      "source": [
        "### Example-2: Row-slice\n",
        "\n",
        "We will extract the third row of the matrix $\\mathbf{M}$:\n",
        "\n",
        "$$\n",
        "\\mathbf{M} = \\begin{bmatrix}\n",
        "1 & 2\\\\\n",
        "3 & 4\\\\\n",
        "5 & 6\\\\\n",
        "7 & 8\\\\\n",
        "9 & 10\n",
        "\\end{bmatrix}\n",
        "$$\n",
        "\n",
        "\n",
        "\n",
        "In `NumPy`:"
      ]
    },
    {
      "cell_type": "code",
      "execution_count": 182,
      "metadata": {
        "colab": {
          "base_uri": "https://localhost:8080/"
        },
        "id": "J1rnADwuTtXz",
        "outputId": "1c1737f0-8397-4ca7-eeff-9a72592a8994"
      },
      "outputs": [
        {
          "data": {
            "text/plain": [
              "array([[ 1,  2],\n",
              "       [ 3,  4],\n",
              "       [ 5,  6],\n",
              "       [ 7,  8],\n",
              "       [ 9, 10]])"
            ]
          },
          "execution_count": 182,
          "metadata": {},
          "output_type": "execute_result"
        }
      ],
      "source": [
        "M = np.arange(1, 11).reshape(5, 2)\n",
        "M"
      ]
    },
    {
      "cell_type": "code",
      "execution_count": 183,
      "metadata": {
        "colab": {
          "base_uri": "https://localhost:8080/"
        },
        "id": "TSmYubk7IFUL",
        "outputId": "15c550f6-c275-4bc4-e811-4946692a9a5c"
      },
      "outputs": [
        {
          "data": {
            "text/plain": [
              "array([5, 6])"
            ]
          },
          "execution_count": 183,
          "metadata": {},
          "output_type": "execute_result"
        }
      ],
      "source": [
        "M[2, :]"
      ]
    },
    {
      "cell_type": "markdown",
      "metadata": {
        "id": "Nj9LY0qSeIml"
      },
      "source": [
        "The syntax is to be understood as follows. To extract the third row, we fix the row index to be $2$ (zero-indexing) and get hold of all elements in that row. To do this, we use a `:` in the place of the column index so that it allows all elements to come in."
      ]
    },
    {
      "cell_type": "markdown",
      "metadata": {
        "id": "Sg0PsBYSTtsy"
      },
      "source": [
        "### Example-3: Column slice\n",
        "\n",
        "Let us now extract the second column of the following matrix:\n",
        "\n",
        "$$\n",
        "\\mathbf{M} = \\begin{bmatrix}\n",
        "1 & 2 & 3\\\\\n",
        "4 & 5 & 6\\\\\n",
        "7 & 8 & 9\n",
        "\\end{bmatrix}\n",
        "$$\n",
        "\n",
        "In `NumPy`:"
      ]
    },
    {
      "cell_type": "code",
      "execution_count": 184,
      "metadata": {
        "colab": {
          "base_uri": "https://localhost:8080/"
        },
        "id": "6VC5H1v4Tvp9",
        "outputId": "50e8ca7f-a412-4bf9-a2f3-baca70bbae41"
      },
      "outputs": [
        {
          "data": {
            "text/plain": [
              "array([2, 5, 8])"
            ]
          },
          "execution_count": 184,
          "metadata": {},
          "output_type": "execute_result"
        }
      ],
      "source": [
        "M = np.array([\n",
        "    [1, 2, 3],\n",
        "    [4, 5, 6],\n",
        "    [7, 8, 9]\n",
        "])\n",
        "M[:, 1]"
      ]
    },
    {
      "cell_type": "markdown",
      "metadata": {
        "id": "t6rTMeIleYpV"
      },
      "source": [
        "Here, we want the second column. So we fix the column index to $1$ and set the row index to `:`, indicating that all elements in that column should be included."
      ]
    },
    {
      "cell_type": "markdown",
      "metadata": {
        "id": "STtPO2rjTvzq"
      },
      "source": [
        "### Example-4: Submatrix slice\n",
        "\n",
        "Now, we want to extract the $2 \\times 2$ submatrix colored in blue from $M$:\n",
        "\n",
        "$$\n",
        "\\mathbf{M} = \\begin{bmatrix}\n",
        "1 & 2 & 3 & 4\\\\\n",
        "5 & 6 & \\color{blue}7 & \\color{blue}8\\\\\n",
        "9 & 10 & \\color{blue}{11} & \\color{blue}{12}\\\\\n",
        "13 & 14 & 15 & 16\n",
        "\\end{bmatrix}\n",
        "$$\n",
        "\n",
        "In `NumPy`:"
      ]
    },
    {
      "cell_type": "code",
      "execution_count": 185,
      "metadata": {
        "colab": {
          "base_uri": "https://localhost:8080/"
        },
        "id": "18Ktzj0nTyOx",
        "outputId": "d5598449-27ca-42be-aa17-918105d58eec"
      },
      "outputs": [
        {
          "data": {
            "text/plain": [
              "array([[ 7,  8],\n",
              "       [11, 12]])"
            ]
          },
          "execution_count": 185,
          "metadata": {},
          "output_type": "execute_result"
        }
      ],
      "source": [
        "M = np.array([\n",
        "    [1, 2, 3, 4],\n",
        "    [5, 6, 7, 8],\n",
        "    [9, 10, 11, 12],\n",
        "    [13, 14, 15, 16]\n",
        "])\n",
        "M[1:3, 2:4]"
      ]
    },
    {
      "cell_type": "markdown",
      "metadata": {
        "id": "9wv1agukejy6"
      },
      "source": [
        "The start-point of the slice is included and the end-point is excluded, just as we do in native Python."
      ]
    },
    {
      "cell_type": "markdown",
      "metadata": {
        "id": "USo33Hw9nSPP"
      },
      "source": [
        "## Other Matrix Operations\n",
        "\n",
        "There are several important matrix operations that we will list down here. The `np.linalg` module helps us perform these operations effortlessly."
      ]
    },
    {
      "cell_type": "markdown",
      "metadata": {
        "id": "F0OVX6CtiF70"
      },
      "source": [
        "### Rank\n",
        "\n",
        "We can get the rank of a matrix as follows. For example:\n",
        "\n",
        "$$\n",
        "\\mathbf{M} = \\begin{bmatrix}\n",
        "1 & 2 & 3 & 4\\\\\n",
        "5 & 6 & 7 & 8\\\\\n",
        "9 & 10 & 11 & 12\\\\\n",
        "13 & 14 & 15 & 16\n",
        "\\end{bmatrix}\n",
        "$$"
      ]
    },
    {
      "cell_type": "code",
      "execution_count": 186,
      "metadata": {
        "colab": {
          "base_uri": "https://localhost:8080/"
        },
        "id": "DTskqJVZiMuP",
        "outputId": "64860190-fdee-4561-c0f2-3313252f60a9"
      },
      "outputs": [
        {
          "data": {
            "text/plain": [
              "np.int64(2)"
            ]
          },
          "execution_count": 186,
          "metadata": {},
          "output_type": "execute_result"
        }
      ],
      "source": [
        "M = np.array([\n",
        "    [1, 2, 3, 4],\n",
        "    [5, 6, 7, 8],\n",
        "    [9, 10, 11, 12],\n",
        "    [13, 14, 15, 16]\n",
        "])\n",
        "np.linalg.matrix_rank(M)"
      ]
    },
    {
      "cell_type": "markdown",
      "metadata": {
        "id": "OXRlxGP1YkRr"
      },
      "source": [
        "### Determinant\n",
        "\n",
        "We can compute the determinant of a square matrix. For example:\n",
        "\n",
        "$$\n",
        "\\mathbf{M} = \\begin{bmatrix}\n",
        "1 & 2 & -1\\\\\n",
        "0 & 1 & -1\\\\\n",
        "1 & 0 & 2\n",
        "\\end{bmatrix}\n",
        "$$"
      ]
    },
    {
      "cell_type": "code",
      "execution_count": 187,
      "metadata": {
        "colab": {
          "base_uri": "https://localhost:8080/"
        },
        "id": "eek197zvYwbo",
        "outputId": "d65e2f7b-8c92-443c-917a-b43564ab49bd"
      },
      "outputs": [
        {
          "data": {
            "text/plain": [
              "np.float64(1.0)"
            ]
          },
          "execution_count": 187,
          "metadata": {},
          "output_type": "execute_result"
        }
      ],
      "source": [
        "M = np.array([\n",
        "    [1, 2, -1],\n",
        "    [0, 1, -1],\n",
        "    [1, 0, 2]\n",
        "])\n",
        "np.linalg.det(M)"
      ]
    },
    {
      "cell_type": "markdown",
      "metadata": {
        "id": "tuP8pe6_g92K"
      },
      "source": [
        "### Inverse\n",
        "\n",
        "We can get the inverse as follows. For example:\n",
        "\n",
        "$$\n",
        "M = \\begin{bmatrix}\n",
        "3 & -4\\\\\n",
        "4 & 3\n",
        "\\end{bmatrix}\n",
        "$$"
      ]
    },
    {
      "cell_type": "code",
      "execution_count": 188,
      "metadata": {
        "colab": {
          "base_uri": "https://localhost:8080/"
        },
        "id": "DOcS4IXMhKYV",
        "outputId": "5a021975-9fb9-4680-cbd5-075290d8df1c"
      },
      "outputs": [
        {
          "data": {
            "text/plain": [
              "array([[ 0.12,  0.16],\n",
              "       [-0.16,  0.12]])"
            ]
          },
          "execution_count": 188,
          "metadata": {},
          "output_type": "execute_result"
        }
      ],
      "source": [
        "M = np.array([\n",
        "    [3, -4],\n",
        "    [4, 3]\n",
        "])\n",
        "np.linalg.inv(M)"
      ]
    },
    {
      "cell_type": "markdown",
      "metadata": {
        "id": "P77YDapdn1eW"
      },
      "source": [
        "### Pseuodoinverse\n",
        "\n",
        "The Moore Penrose pseudoinverse $\\mathbf{M}^{\\dagger}$ of a matrix $\\mathbf{M}$ can be computed:\n",
        "\n",
        "$$\n",
        "\\mathbf{M} = \\begin{bmatrix}\n",
        "1 & 2 & 3\\\\\n",
        "3 & 6 & 9\n",
        "\\end{bmatrix}\n",
        "$$\n",
        "\n",
        "In `NumPy`:\n"
      ]
    },
    {
      "cell_type": "code",
      "execution_count": 189,
      "metadata": {
        "colab": {
          "base_uri": "https://localhost:8080/"
        },
        "id": "vHcx2d9HnWf6",
        "outputId": "9decc5f3-7880-4ab3-bbbc-8ffd1801abb4"
      },
      "outputs": [
        {
          "data": {
            "text/plain": [
              "array([[0.00714286, 0.02142857],\n",
              "       [0.01428571, 0.04285714],\n",
              "       [0.02142857, 0.06428571]])"
            ]
          },
          "execution_count": 189,
          "metadata": {},
          "output_type": "execute_result"
        }
      ],
      "source": [
        "M = np.array([\n",
        "    [1, 2, 3],\n",
        "     [3, 6, 9]\n",
        "])\n",
        "np.linalg.pinv(M)"
      ]
    },
    {
      "cell_type": "markdown",
      "metadata": {
        "id": "iUjsuiKmdRos"
      },
      "source": [
        "Recall that every matrix has a pseudoinverse. The pseudoinverse reduces to the inverse for square invertible matrices."
      ]
    },
    {
      "cell_type": "markdown",
      "metadata": {
        "id": "9g2E3fCMV0Hz"
      },
      "source": [
        "### System of Linear Equations\n",
        "\n",
        "We can solve a system of linear equations of the form $\\mathbf{A} \\boldsymbol{\\theta} = \\mathbf{b}$. Consider the following example:\n",
        "\n",
        "$$\n",
        "\\begin{aligned}\n",
        "2x + 3y - 4z &= -4\\\\\n",
        "x + y - z &= 0\\\\\n",
        "2x + y + z &= 7\n",
        "\\end{aligned}\n",
        "$$\n",
        "\n",
        "where $\\boldsymbol{\\theta} = (x, y, z)$ and $\\mathbf{A}$ is the matrix of coefficients. The following method in `NumPy` returns the exact solution if the matrix $\\mathbf{A}$ is invertible."
      ]
    },
    {
      "cell_type": "code",
      "execution_count": 190,
      "metadata": {
        "colab": {
          "base_uri": "https://localhost:8080/"
        },
        "id": "BwORm0tvV7ZJ",
        "outputId": "fda51ced-3619-42a2-d54a-05d4ab5605f9"
      },
      "outputs": [
        {
          "data": {
            "text/plain": [
              "array([1., 2., 3.])"
            ]
          },
          "execution_count": 190,
          "metadata": {},
          "output_type": "execute_result"
        }
      ],
      "source": [
        "A = np.array([\n",
        "    [2, 3, -4],\n",
        "    [1, 1, -1],\n",
        "    [2, 1, 1]\n",
        "])\n",
        "b = np.array([-4, 0, 7])\n",
        "theta = np.linalg.solve(A, b)\n",
        "theta"
      ]
    },
    {
      "cell_type": "markdown",
      "metadata": {
        "id": "wqyo9ooCYKA-"
      },
      "source": [
        "If $\\mathbf{A}$ is not a square matrix or if it is singular, then the method will return an error."
      ]
    },
    {
      "cell_type": "markdown",
      "metadata": {
        "id": "NfEDZK7oaxFQ"
      },
      "source": [
        "### Least Squares Solution\n",
        "\n",
        "In general, $\\mathbf{A} \\boldsymbol{\\theta} = \\mathbf{b}$ may not be solvable, or even if it is, it may not have a unique solution. In such situations, we look for the least square solution. Consider:\n",
        "\n",
        "$$\n",
        "\\begin{aligned}\n",
        "2x + 3y - 4z &= -4\\\\\n",
        "x + y - z &= 0\\\\\n",
        "2x + 2y - 2z &= 0.1\n",
        "\\end{aligned}\n",
        "$$\n",
        "\n",
        "where $\\boldsymbol{\\theta} = (x, y, z)$ and $\\mathbf{A}$ is the matrix of coefficients. The following method in `NumPy` returns the least squares solution of minimum norm."
      ]
    },
    {
      "cell_type": "code",
      "execution_count": 191,
      "metadata": {
        "colab": {
          "base_uri": "https://localhost:8080/"
        },
        "id": "QXGTh0HFbXJ7",
        "outputId": "fc544ee7-dd49-49e0-b410-fa812d6cdc59"
      },
      "outputs": [
        {
          "data": {
            "text/plain": [
              "array([2.07333333, 0.01333333, 2.04666667])"
            ]
          },
          "execution_count": 191,
          "metadata": {},
          "output_type": "execute_result"
        }
      ],
      "source": [
        "A = np.array([\n",
        "    [2, 3, -4],\n",
        "    [1, 1, -1],\n",
        "    [2, 2, -2]\n",
        "])\n",
        "b = np.array([-4, 0, 0.1])\n",
        "theta = np.linalg.lstsq(A, b)[0]\n",
        "theta"
      ]
    },
    {
      "cell_type": "markdown",
      "metadata": {
        "id": "IqWa1BM6cRG9"
      },
      "source": [
        "`np.linalg.lstsq` returns three objects, the first of which is the least square solution. To see how close this solution is to the vector $\\mathbf{b}$, let us compute $\\mathbf{A} \\boldsymbol{\\theta}$:"
      ]
    },
    {
      "cell_type": "code",
      "execution_count": 192,
      "metadata": {
        "colab": {
          "base_uri": "https://localhost:8080/"
        },
        "id": "otJe4L4YcOdn",
        "outputId": "152be7a1-f56d-4dca-acfe-ddfa02597c8e"
      },
      "outputs": [
        {
          "data": {
            "text/plain": [
              "array([-4.  ,  0.04,  0.08])"
            ]
          },
          "execution_count": 192,
          "metadata": {},
          "output_type": "execute_result"
        }
      ],
      "source": [
        "A @ theta"
      ]
    },
    {
      "cell_type": "markdown",
      "metadata": {
        "id": "8muQDuYKceqp"
      },
      "source": [
        "Notice that this is quite close to the vector $\\mathbf{b} = (-4, 0, 0.1)$, which is what we expect of a least squares solution."
      ]
    },
    {
      "cell_type": "markdown",
      "metadata": {
        "id": "6v1KRPi3sqqk"
      },
      "source": [
        "### Eigenvalues and Eigenvectors (symmetric)\n",
        "\n",
        "Given a symmetric matrix $\\mathbf{M}$ let us find its eigenvalues and eigenvectors:\n",
        "\n",
        "$$\n",
        "\\mathbf{M} = \\begin{bmatrix}\n",
        "1 & 0 & -3\\\\\n",
        "0 & 5 & 2\\\\\n",
        "-3 & 2 & 8\n",
        "\\end{bmatrix}\n",
        "$$"
      ]
    },
    {
      "cell_type": "code",
      "execution_count": 193,
      "metadata": {
        "colab": {
          "base_uri": "https://localhost:8080/"
        },
        "id": "LkH6ayZ7s6dZ",
        "outputId": "dd0779f9-c2c0-4246-ac02-c4c9d3f53d16"
      },
      "outputs": [
        {
          "data": {
            "text/plain": [
              "array([-0.20942046,  4.36588492,  9.84353554])"
            ]
          },
          "execution_count": 193,
          "metadata": {},
          "output_type": "execute_result"
        }
      ],
      "source": [
        "M = np.array([\n",
        "    [1, 0, -3],\n",
        "    [0, 5, 2],\n",
        "    [-3, 2, 8]\n",
        "])\n",
        "eigval, eigvec = np.linalg.eigh(M)\n",
        "eigval"
      ]
    },
    {
      "cell_type": "markdown",
      "metadata": {
        "id": "mIPlhObRdXYl"
      },
      "source": [
        "The `h` in `eigh` referes to Hermitian. Recall that Hermitian matrices are the complex analogue of symmetric (real) matrices. The eigenvalues of Hermitian matrices are real and `NumPy` outputs them in ascending order. The corresponding eigenvectors appear in the columns of the matriix `eigvec`. The eigenpairs are given below:"
      ]
    },
    {
      "cell_type": "code",
      "execution_count": 194,
      "metadata": {
        "id": "5ARrxuNgdeNT"
      },
      "outputs": [],
      "source": [
        "eigval[0], eigvec[:, 0]\n",
        "eigval[1], eigvec[:, 1]\n",
        "eigval[2], eigvec[:, 2];"
      ]
    },
    {
      "cell_type": "markdown",
      "metadata": {
        "id": "5BXkmwCSZc4x"
      },
      "source": [
        "### Eigenvalues and Eigenvectors (general)\n",
        "\n",
        "For a square matrix $\\mathbf{M}$, not necessarily square, let us find its eigenvalues and eigenvectors. Consider:\n",
        "\n",
        "$$\n",
        "\\mathbf{M} = \\begin{bmatrix}\n",
        "1 & 2\\\\\n",
        "-1 & 3\n",
        "\\end{bmatrix}\n",
        "$$"
      ]
    },
    {
      "cell_type": "code",
      "execution_count": 195,
      "metadata": {
        "colab": {
          "base_uri": "https://localhost:8080/"
        },
        "id": "o1tmHELqaAhu",
        "outputId": "e8145897-8e8c-4776-f9eb-06038c6ed91c"
      },
      "outputs": [
        {
          "name": "stdout",
          "output_type": "stream",
          "text": [
            "[2.+1.j 2.-1.j]\n",
            "[[0.81649658+0.j         0.81649658-0.j        ]\n",
            " [0.40824829+0.40824829j 0.40824829-0.40824829j]]\n"
          ]
        }
      ],
      "source": [
        "M = np.array([\n",
        "    [1, 2],\n",
        "    [-1, 3]\n",
        "])\n",
        "eigval, eigvec = np.linalg.eig(M)\n",
        "print(eigval)\n",
        "print(eigvec)"
      ]
    },
    {
      "cell_type": "markdown",
      "metadata": {
        "id": "fDPiJ_hvaJ_u"
      },
      "source": [
        "Note that the eigenvalues could be complex, which is the case here. This means that the eigenvalues returned by `NumPy` may not have any ordering."
      ]
    },
    {
      "cell_type": "markdown",
      "metadata": {
        "id": "ufhGVSreTfT8"
      },
      "source": [
        "### SVD\n",
        "\n",
        "The singular value decomposition of a matrix $\\mathbf{M}$ is of the form:\n",
        "\n",
        "$$\n",
        "\\mathbf{M} = \\mathbf{U} \\boldsymbol{\\Sigma} \\mathbf{V}^{T}\n",
        "$$\n",
        "\n",
        "Consider an example:\n",
        "\n",
        "$$\n",
        "\\mathbf{M} = \\begin{bmatrix}\n",
        "1 & 3 & 1\\\\\n",
        "2 & 4 & 2\n",
        "\\end{bmatrix}\n",
        "$$\n",
        "\n",
        "The dimensions of the matrices should turn out to be:\n",
        "\n",
        "- $\\mathbf{U} \\rightarrow (2, 2)$\n",
        "- $\\boldsymbol{\\Sigma} \\rightarrow (2, 3)$\n",
        "- $\\mathbf{V} \\rightarrow (3, 3)$"
      ]
    },
    {
      "cell_type": "code",
      "execution_count": 196,
      "metadata": {
        "colab": {
          "base_uri": "https://localhost:8080/"
        },
        "id": "G0N7ZP8rT61a",
        "outputId": "4bb5f1db-8e6b-4b31-b187-978f537df36d"
      },
      "outputs": [
        {
          "name": "stdout",
          "output_type": "stream",
          "text": [
            "(2, 2)\n",
            "(2,)\n",
            "(3, 3)\n"
          ]
        }
      ],
      "source": [
        "M = np.array([\n",
        "    [1, 3, 1],\n",
        "    [2, 4, 2]\n",
        "])\n",
        "U, Sigma, Vt = np.linalg.svd(M)\n",
        "print(U.shape)\n",
        "print(Sigma.shape)\n",
        "print(Vt.shape)"
      ]
    },
    {
      "cell_type": "markdown",
      "metadata": {
        "id": "z2PvpZRQULj8"
      },
      "source": [
        "The SVD method in `NumPy` returns three arrays:\n",
        "\n",
        "- `U`, a 2D array, whose columns are left singular vectors\n",
        "- `Sigma`, the singular values as a 1D array\n",
        "- `Vt`, a 2D array, whose rows are the right singular vectors\n",
        "\n",
        "We can easily recover the diagonal-ish $\\boldsymbol{\\Sigma}$ matrix from this. In contrast to the eigenvalues returned by the `eigh` method which are in ascending order, the singular values are sorted in descending order, as is the convention in the linear algebra literature."
      ]
    },
    {
      "cell_type": "code",
      "execution_count": 197,
      "metadata": {
        "colab": {
          "base_uri": "https://localhost:8080/"
        },
        "id": "8amgT1TYVb4A",
        "outputId": "fa2feda7-7a38-44d0-b969-54387e428cfc"
      },
      "outputs": [
        {
          "data": {
            "text/plain": [
              "array([5.89660208, 0.47967068])"
            ]
          },
          "execution_count": 197,
          "metadata": {},
          "output_type": "execute_result"
        }
      ],
      "source": [
        "Sigma"
      ]
    },
    {
      "cell_type": "markdown",
      "metadata": {
        "id": "M-UeQ_xUVi2C"
      },
      "source": [
        "Recall that $\\mathbf{U}$ and $\\mathbf{V}$ are orthogonal matrices. That is, $\\mathbf{U U}^{T} = \\mathbf{U}^{T} \\mathbf{U} = \\mathbf{I}$. A similar result holds for $\\mathbf{V}$. Let us quickly see if this is the case:"
      ]
    },
    {
      "cell_type": "code",
      "execution_count": 198,
      "metadata": {
        "colab": {
          "base_uri": "https://localhost:8080/"
        },
        "id": "zrK5A6B1UnL7",
        "outputId": "38c10d58-de64-49b6-8701-5d9cceb8c3dc"
      },
      "outputs": [
        {
          "data": {
            "text/plain": [
              "array([[ 1.00000000e+00, -1.08094514e-16],\n",
              "       [-1.08094514e-16,  1.00000000e+00]])"
            ]
          },
          "execution_count": 198,
          "metadata": {},
          "output_type": "execute_result"
        }
      ],
      "source": [
        "U @ U.T"
      ]
    },
    {
      "cell_type": "code",
      "execution_count": 199,
      "metadata": {
        "colab": {
          "base_uri": "https://localhost:8080/"
        },
        "id": "T7CpKBuJUomZ",
        "outputId": "94119711-a40f-46d5-8205-8595883dc086"
      },
      "outputs": [
        {
          "data": {
            "text/plain": [
              "array([[ 1.00000000e+00,  2.97804097e-17,  1.56730402e-17],\n",
              "       [ 2.97804097e-17,  1.00000000e+00, -2.93975883e-17],\n",
              "       [ 1.56730402e-17, -2.93975883e-17,  1.00000000e+00]])"
            ]
          },
          "execution_count": 199,
          "metadata": {},
          "output_type": "execute_result"
        }
      ],
      "source": [
        "Vt @ Vt.T"
      ]
    },
    {
      "cell_type": "markdown",
      "metadata": {
        "id": "OinYtbFBVnRH"
      },
      "source": [
        "In upcoming notebooks, we will see how we can compare two matrices element by element. For now, it suffices to note that the non-diagonal elements are vanishingly small and are as good as zero. Let us now verify the SVD. Since we have only two singular values, it suffices to retain the first two rows of $\\mathbf{V}^{T}$."
      ]
    },
    {
      "cell_type": "code",
      "execution_count": 200,
      "metadata": {
        "colab": {
          "base_uri": "https://localhost:8080/"
        },
        "id": "wYwpBSnyOth7",
        "outputId": "66f7974a-7d33-4575-f985-e03fef2b539c"
      },
      "outputs": [
        {
          "data": {
            "text/plain": [
              "array([[1., 3., 1.],\n",
              "       [2., 4., 2.]])"
            ]
          },
          "execution_count": 200,
          "metadata": {},
          "output_type": "execute_result"
        }
      ],
      "source": [
        "U @ np.diag(Sigma) @ Vt[:2, :]"
      ]
    },
    {
      "cell_type": "markdown",
      "metadata": {
        "id": "mUCRONGXQqST"
      },
      "source": [
        "This is exactly equal to $\\mathbf{M}$."
      ]
    },
    {
      "cell_type": "code",
      "execution_count": 205,
      "metadata": {
        "colab": {
          "base_uri": "https://localhost:8080/"
        },
        "id": "p0Oni5CmQpbF",
        "outputId": "588b56b0-b813-45e6-fd8e-bcf40d82ea7a"
      },
      "outputs": [
        {
          "data": {
            "text/plain": [
              "array([[1, 3, 1],\n",
              "       [2, 4, 2]])"
            ]
          },
          "execution_count": 205,
          "metadata": {},
          "output_type": "execute_result"
        }
      ],
      "source": [
        "M"
      ]
    }
  ],
  "metadata": {
    "colab": {
      "provenance": []
    },
    "kernelspec": {
      "display_name": "Python 3",
      "name": "python3"
    },
    "language_info": {
      "name": "python"
    }
  },
  "nbformat": 4,
  "nbformat_minor": 0
}
