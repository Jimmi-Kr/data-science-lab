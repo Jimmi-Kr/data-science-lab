{
 "cells": [
  {
   "cell_type": "markdown",
   "metadata": {},
   "source": [
    "---\n",
    "author: \"Karthik Thiagarajan\"\n",
    "title: \"Matrices\"\n",
    "---"
   ]
  },
  {
   "cell_type": "markdown",
   "metadata": {
    "id": "iQLGiDT32DHY"
   },
   "source": [
    "## Import"
   ]
  },
  {
   "cell_type": "code",
   "execution_count": 41,
   "metadata": {
    "executionInfo": {
     "elapsed": 94,
     "status": "ok",
     "timestamp": 1757083056000,
     "user": {
      "displayName": "Karthik Thiagarajan",
      "userId": "18250337670386755696"
     },
     "user_tz": -330
    },
    "id": "NTY1DDOO6aQS"
   },
   "outputs": [],
   "source": [
    "import numpy as np"
   ]
  },
  {
   "cell_type": "markdown",
   "metadata": {
    "id": "QchFdrAp6c0E"
   },
   "source": [
    "## Matrix as a `NumPy` array\n",
    "\n",
    "Everything in `NumPy` is an array. A matrix is also an array. Let us create a simple matrix:\n",
    "\n",
    "$$\n",
    "\\textbf{M} = \\begin{bmatrix}\n",
    "1 & 2 & 3\\\\\n",
    "4 & 5 & 6\\\\\n",
    "7 & 8 & 9\n",
    "\\end{bmatrix}\n",
    "$$\n",
    "\n",
    "In `NumPy`:"
   ]
  },
  {
   "cell_type": "code",
   "execution_count": 42,
   "metadata": {
    "colab": {
     "base_uri": "https://localhost:8080/"
    },
    "executionInfo": {
     "elapsed": 8,
     "status": "ok",
     "timestamp": 1757083056009,
     "user": {
      "displayName": "Karthik Thiagarajan",
      "userId": "18250337670386755696"
     },
     "user_tz": -330
    },
    "id": "DURrZ-wb6426",
    "outputId": "9ed7afc5-20dd-48c6-87dd-16dedbabe990"
   },
   "outputs": [
    {
     "data": {
      "text/plain": [
       "array([[1, 2, 3],\n",
       "       [4, 5, 6],\n",
       "       [7, 8, 9]])"
      ]
     },
     "execution_count": 42,
     "metadata": {},
     "output_type": "execute_result"
    }
   ],
   "source": [
    "M = np.array([\n",
    "    [1, 2, 3],\n",
    "    [4, 5, 6],\n",
    "    [7, 8, 9]\n",
    "])\n",
    "M"
   ]
  },
  {
   "cell_type": "markdown",
   "metadata": {
    "id": "L7h4kYjw7XKe"
   },
   "source": [
    "## Adding two matrices\n",
    "\n",
    "Let us now add the following matrices:\n",
    "\n",
    "$$\n",
    "\\textbf{A} = \\begin{bmatrix}\n",
    "1 & 2\\\\\n",
    "3 & 4\n",
    "\\end{bmatrix}, \\textbf{B} = \\begin{bmatrix}\n",
    "5 & 6\\\\\n",
    "7 & 8\n",
    "\\end{bmatrix}\n",
    "$$\n",
    "\n",
    "then,\n",
    "\n",
    "$$\n",
    "\\textbf{C} = \\textbf{A} + \\textbf{B}  = \\begin{bmatrix}\n",
    "6 & 8\\\\\n",
    "10 & 12\n",
    "\\end{bmatrix}\n",
    "$$\n",
    "\n",
    "In `NumPy`:"
   ]
  },
  {
   "cell_type": "code",
   "execution_count": 43,
   "metadata": {
    "colab": {
     "base_uri": "https://localhost:8080/"
    },
    "executionInfo": {
     "elapsed": 3,
     "status": "ok",
     "timestamp": 1757083056013,
     "user": {
      "displayName": "Karthik Thiagarajan",
      "userId": "18250337670386755696"
     },
     "user_tz": -330
    },
    "id": "rOV92c-Y7SJT",
    "outputId": "48d9b1e5-5048-482c-e059-fa1a5eec4cfe"
   },
   "outputs": [
    {
     "data": {
      "text/plain": [
       "array([[ 6,  8],\n",
       "       [10, 12]])"
      ]
     },
     "execution_count": 43,
     "metadata": {},
     "output_type": "execute_result"
    }
   ],
   "source": [
    "A = np.array([\n",
    "    [1, 2],\n",
    "    [3, 4]\n",
    "])\n",
    "B = np.array([\n",
    "    [5, 6],\n",
    "    [7, 8]\n",
    "])\n",
    "C = A + B\n",
    "C"
   ]
  },
  {
   "cell_type": "markdown",
   "metadata": {
    "id": "m_pCQww198OD"
   },
   "source": [
    "## Scaling a matrix\n",
    "\n",
    "Scaling a matrix is nothing but element-wise multiplication:\n",
    "\n",
    "$$\n",
    "\\textbf{M} = \\begin{bmatrix}\n",
    "1 & 2 & 3\\\\\n",
    "4 & 5 & 6\\\\\n",
    "7 & 8 & 9\n",
    "\\end{bmatrix}\n",
    "$$\n",
    "\n",
    "then,\n",
    "\n",
    "$$\n",
    "3 \\textbf{M} = \\begin{bmatrix}\n",
    "3 & 6 & 9\\\\\n",
    "12 & 15 & 18\\\\\n",
    "21 & 24 & 27\n",
    "\\end{bmatrix}\n",
    "$$\n",
    "\n",
    "In `NumPy`:"
   ]
  },
  {
   "cell_type": "code",
   "execution_count": 44,
   "metadata": {
    "colab": {
     "base_uri": "https://localhost:8080/"
    },
    "executionInfo": {
     "elapsed": 2,
     "status": "ok",
     "timestamp": 1757083056015,
     "user": {
      "displayName": "Karthik Thiagarajan",
      "userId": "18250337670386755696"
     },
     "user_tz": -330
    },
    "id": "jM_o92DpBoYe",
    "outputId": "6bce9353-942b-4158-e593-3aefb33fc980"
   },
   "outputs": [
    {
     "data": {
      "text/plain": [
       "array([[ 3,  6,  9],\n",
       "       [12, 15, 18],\n",
       "       [21, 24, 27]])"
      ]
     },
     "execution_count": 44,
     "metadata": {},
     "output_type": "execute_result"
    }
   ],
   "source": [
    "M = np.array([\n",
    "    [1, 2, 3],\n",
    "    [4, 5, 6],\n",
    "    [7, 8, 9]\n",
    "])\n",
    "3 * M"
   ]
  },
  {
   "cell_type": "markdown",
   "metadata": {
    "id": "hmE4xEve7y0n"
   },
   "source": [
    "## Element-wise multiplication of matrices\n",
    "\n",
    "Consider two matrices:\n",
    "\n",
    "$$\n",
    "\\textbf{A} = \\begin{bmatrix}\n",
    "1 & 2\\\\\n",
    "3 & 4\n",
    "\\end{bmatrix}, \\textbf{B} = \\begin{bmatrix}\n",
    "5 & 6\\\\\n",
    "7 & 8\n",
    "\\end{bmatrix}\n",
    "$$\n",
    "\n",
    "The element-wise product is given by $\\textbf{A} \\odot \\textbf{B}$:\n",
    "\n",
    "$$\n",
    "\\textbf{C} = \\textbf{A} \\odot \\textbf{B} = \\begin{bmatrix}\n",
    "5 & 12\\\\\n",
    "21 & 32\n",
    "\\end{bmatrix}\n",
    "$$\n",
    "\n",
    "In `NumPy`:"
   ]
  },
  {
   "cell_type": "code",
   "execution_count": 45,
   "metadata": {
    "colab": {
     "base_uri": "https://localhost:8080/"
    },
    "executionInfo": {
     "elapsed": 2,
     "status": "ok",
     "timestamp": 1757083056018,
     "user": {
      "displayName": "Karthik Thiagarajan",
      "userId": "18250337670386755696"
     },
     "user_tz": -330
    },
    "id": "USCv3DX18gbD",
    "outputId": "55e86528-ef27-4b7d-ed94-5ba55eb904be"
   },
   "outputs": [
    {
     "data": {
      "text/plain": [
       "array([[ 5, 12],\n",
       "       [21, 32]])"
      ]
     },
     "execution_count": 45,
     "metadata": {},
     "output_type": "execute_result"
    }
   ],
   "source": [
    "A = np.array([\n",
    "    [1, 2],\n",
    "    [3, 4]\n",
    "])\n",
    "B = np.array([\n",
    "    [5, 6],\n",
    "    [7, 8]\n",
    "])\n",
    "C = A * B\n",
    "C"
   ]
  },
  {
   "cell_type": "markdown",
   "metadata": {
    "id": "V3iWGy8-8xho"
   },
   "source": [
    "## Element-wise functions of matrices\n",
    "\n",
    "Given a matrix, we sometimes would want to apply a function to every element of the matrix. We will consider two examples."
   ]
  },
  {
   "cell_type": "markdown",
   "metadata": {
    "id": "gVkkmUzNvppN"
   },
   "source": [
    "### Example-1\n",
    "\n",
    "For example, we may want to take the absolute value of all the elements. Let us say $f(x) = |x|$, then:\n",
    "\n",
    "$$\n",
    "\\mathbf{A} = \\begin{bmatrix}\n",
    "-1 & 2\\\\\n",
    "-3 & -4\n",
    "\\end{bmatrix}\n",
    "$$\n",
    "\n",
    "then:\n",
    "\n",
    "$$\n",
    "\\begin{bmatrix}\n",
    "f(-1) & f(2)\\\\\n",
    "f(-3) & f(-4)\n",
    "\\end{bmatrix} =\n",
    "\\begin{bmatrix}\n",
    "1 & 2\\\\\n",
    "3 & 4\n",
    "\\end{bmatrix}\n",
    "$$\n",
    "\n",
    "In `NumPy`, this becomes:"
   ]
  },
  {
   "cell_type": "code",
   "execution_count": 46,
   "metadata": {
    "colab": {
     "base_uri": "https://localhost:8080/"
    },
    "executionInfo": {
     "elapsed": 17,
     "status": "ok",
     "timestamp": 1757083056035,
     "user": {
      "displayName": "Karthik Thiagarajan",
      "userId": "18250337670386755696"
     },
     "user_tz": -330
    },
    "id": "8svqjjFy-QG9",
    "outputId": "6b1290b7-62aa-41c5-c37d-1dd22af20db7"
   },
   "outputs": [
    {
     "data": {
      "text/plain": [
       "array([[1, 2],\n",
       "       [3, 4]])"
      ]
     },
     "execution_count": 46,
     "metadata": {},
     "output_type": "execute_result"
    }
   ],
   "source": [
    "A = np.array([\n",
    "    [-1, 2],\n",
    "    [-3, -4]\n",
    "])\n",
    "np.abs(A)"
   ]
  },
  {
   "cell_type": "markdown",
   "metadata": {
    "id": "FYiMrhwx-hXT"
   },
   "source": [
    "### Example-2\n",
    "\n",
    "We might want to square each element of the matrix. If $\\textbf{A}$ is a matrix, then $\\textbf{B}$ could be defined element-wise as follows:\n",
    "\n",
    "$$\n",
    "B_{ij} = A_{ij}^2\n",
    "$$\n",
    "\n",
    "Let us compute $\\mathbf{B}$ for the following matrix:\n",
    "\n",
    "$$\n",
    "\\mathbf{A} = \\begin{bmatrix}\n",
    "1 & \\sqrt{2}\\\\\n",
    "\\sqrt{3} & 2\n",
    "\\end{bmatrix}\n",
    "$$\n",
    "\n",
    "In `NumPy`:"
   ]
  },
  {
   "cell_type": "code",
   "execution_count": 47,
   "metadata": {
    "colab": {
     "base_uri": "https://localhost:8080/"
    },
    "executionInfo": {
     "elapsed": 3,
     "status": "ok",
     "timestamp": 1757083056039,
     "user": {
      "displayName": "Karthik Thiagarajan",
      "userId": "18250337670386755696"
     },
     "user_tz": -330
    },
    "id": "uqym9th4-ywH",
    "outputId": "9e88c626-5230-4fe5-dcef-29ef8d655dbf"
   },
   "outputs": [
    {
     "data": {
      "text/plain": [
       "array([[1., 2.],\n",
       "       [3., 4.]])"
      ]
     },
     "execution_count": 47,
     "metadata": {},
     "output_type": "execute_result"
    }
   ],
   "source": [
    "A = np.array([\n",
    "    [1, np.sqrt(2)],\n",
    "    [np.sqrt(3), 2]\n",
    "])\n",
    "A ** 2"
   ]
  },
  {
   "cell_type": "markdown",
   "metadata": {
    "id": "-Pfh-LgH_AHi"
   },
   "source": [
    "## Transpose of a matrix\n",
    "\n",
    "Given a matrix $\\textbf{M}$:\n",
    "\n",
    "$$\n",
    "\\textbf{M} = \\begin{bmatrix}\n",
    "1 & 2 & 3\\\\\n",
    "4 & 5 & 6\n",
    "\\end{bmatrix}\n",
    "$$\n",
    "\n",
    "then, its transpose $\\textbf{M}^{T}$ is:\n",
    "\n",
    "$$\n",
    "\\textbf{M}^{T} = \\begin{bmatrix}\n",
    "1 & 4\\\\\n",
    "2 & 5\\\\\n",
    "3 & 6\n",
    "\\end{bmatrix}\n",
    "$$\n",
    "\n",
    "In `NumPy`:"
   ]
  },
  {
   "cell_type": "code",
   "execution_count": 48,
   "metadata": {
    "colab": {
     "base_uri": "https://localhost:8080/"
    },
    "executionInfo": {
     "elapsed": 3,
     "status": "ok",
     "timestamp": 1757083056050,
     "user": {
      "displayName": "Karthik Thiagarajan",
      "userId": "18250337670386755696"
     },
     "user_tz": -330
    },
    "id": "9uBXpMH3_5pw",
    "outputId": "8c89e9f1-683f-4b69-ee99-c3896570be87"
   },
   "outputs": [
    {
     "data": {
      "text/plain": [
       "array([[1, 4],\n",
       "       [2, 5],\n",
       "       [3, 6]])"
      ]
     },
     "execution_count": 48,
     "metadata": {},
     "output_type": "execute_result"
    }
   ],
   "source": [
    "M = np.array([\n",
    "    [1, 2, 3],\n",
    "    [4, 5, 6]\n",
    "])\n",
    "np.transpose(M)"
   ]
  },
  {
   "cell_type": "markdown",
   "metadata": {
    "id": "5ozZQwdCbt5c"
   },
   "source": [
    "Alternatively:"
   ]
  },
  {
   "cell_type": "code",
   "execution_count": 49,
   "metadata": {
    "colab": {
     "base_uri": "https://localhost:8080/"
    },
    "executionInfo": {
     "elapsed": 3,
     "status": "ok",
     "timestamp": 1757083056053,
     "user": {
      "displayName": "Karthik Thiagarajan",
      "userId": "18250337670386755696"
     },
     "user_tz": -330
    },
    "id": "fc10sVTlbvPo",
    "outputId": "3c7dc1c3-3be8-4c26-c697-1e0d56ec993e"
   },
   "outputs": [
    {
     "data": {
      "text/plain": [
       "array([[1, 4],\n",
       "       [2, 5],\n",
       "       [3, 6]])"
      ]
     },
     "execution_count": 49,
     "metadata": {},
     "output_type": "execute_result"
    }
   ],
   "source": [
    "M = np.array([\n",
    "    [1, 2, 3],\n",
    "    [4, 5, 6]\n",
    "])\n",
    "M.transpose()"
   ]
  },
  {
   "cell_type": "markdown",
   "metadata": {
    "id": "SwERb4BxG5So"
   },
   "source": [
    "Equivalently, we have:"
   ]
  },
  {
   "cell_type": "code",
   "execution_count": 50,
   "metadata": {
    "colab": {
     "base_uri": "https://localhost:8080/"
    },
    "executionInfo": {
     "elapsed": 1,
     "status": "ok",
     "timestamp": 1757083056055,
     "user": {
      "displayName": "Karthik Thiagarajan",
      "userId": "18250337670386755696"
     },
     "user_tz": -330
    },
    "id": "By10nR09CCoU",
    "outputId": "c831b33e-2fe9-4e33-f46a-f2e42a2eff44"
   },
   "outputs": [
    {
     "data": {
      "text/plain": [
       "array([[1, 4],\n",
       "       [2, 5],\n",
       "       [3, 6]])"
      ]
     },
     "execution_count": 50,
     "metadata": {},
     "output_type": "execute_result"
    }
   ],
   "source": [
    "M.T"
   ]
  },
  {
   "cell_type": "markdown",
   "metadata": {
    "id": "mTF1fOtMG8MD"
   },
   "source": [
    "This is what we will be sticking to given that it is very close to the corresponding math notation."
   ]
  },
  {
   "cell_type": "markdown",
   "metadata": {
    "id": "wDsjZjevz1eg"
   },
   "source": [
    "## Shape and dimension of a matrix\n",
    "\n",
    "Matrices are \"two dimensional\" arrays. So all matrices in `NumPy` have array-dimension equal to two. The shape of the `NumPy` array gives what we usually call the dimension of the matrix in the linear algebra sense. Let us explore these two ideas for:\n",
    "\n",
    "$$\n",
    "\\mathbf{M} = \\begin{bmatrix}\n",
    "1 & 2 & 3\\\\\n",
    "4 & 5 & 6\\\\\n",
    "\\end{bmatrix}\n",
    "$$\n",
    "\n",
    "In `NumPy`:"
   ]
  },
  {
   "cell_type": "code",
   "execution_count": 51,
   "metadata": {
    "colab": {
     "base_uri": "https://localhost:8080/"
    },
    "executionInfo": {
     "elapsed": 1,
     "status": "ok",
     "timestamp": 1757083056057,
     "user": {
      "displayName": "Karthik Thiagarajan",
      "userId": "18250337670386755696"
     },
     "user_tz": -330
    },
    "id": "8WPQSzfzgSO1",
    "outputId": "d452dd72-ce16-4c14-ee52-8d9322ddfd5d"
   },
   "outputs": [
    {
     "name": "stdout",
     "output_type": "stream",
     "text": [
      "(2, 3)\n",
      "2\n"
     ]
    }
   ],
   "source": [
    "M = np.array([\n",
    "    [1, 2, 3],\n",
    "    [4, 5, 6]\n",
    "])\n",
    "print(M.shape)\n",
    "print(M.ndim)"
   ]
  },
  {
   "cell_type": "markdown",
   "metadata": {
    "id": "MCIMpQhExmcf"
   },
   "source": [
    "`M` is a two dimensional NumPy array of shape $(2, 3)$ which represents a matrix $\\mathbf{M} \\in \\mathbb{R}^{2 \\times 3}$."
   ]
  },
  {
   "cell_type": "markdown",
   "metadata": {
    "id": "4wKzNg0afnIo"
   },
   "source": [
    "## Vectors as matrices\n",
    "\n",
    "Each vector can be viewed as a matrix. Column vectors are matrices of shape $(d, 1)$. Row vectors are matrices of shape $(1, d)$. Let us look at how NumPy treats both these cases:\n"
   ]
  },
  {
   "cell_type": "code",
   "execution_count": 52,
   "metadata": {
    "colab": {
     "base_uri": "https://localhost:8080/"
    },
    "executionInfo": {
     "elapsed": 2,
     "status": "ok",
     "timestamp": 1757083056059,
     "user": {
      "displayName": "Karthik Thiagarajan",
      "userId": "18250337670386755696"
     },
     "user_tz": -330
    },
    "id": "v2Tqn0AGfzKA",
    "outputId": "3259d85c-4fc5-42f1-efde-63b8c5bb06c6"
   },
   "outputs": [
    {
     "name": "stdout",
     "output_type": "stream",
     "text": [
      "(3, 1)\n",
      "2\n"
     ]
    },
    {
     "data": {
      "text/plain": [
       "array([[1],\n",
       "       [2],\n",
       "       [3]])"
      ]
     },
     "execution_count": 52,
     "metadata": {},
     "output_type": "execute_result"
    }
   ],
   "source": [
    "x = np.array([\n",
    "    [1],\n",
    "    [2],\n",
    "    [3]\n",
    "])\n",
    "print(x.shape)\n",
    "print(x.ndim)\n",
    "x"
   ]
  },
  {
   "cell_type": "code",
   "execution_count": 53,
   "metadata": {
    "colab": {
     "base_uri": "https://localhost:8080/"
    },
    "executionInfo": {
     "elapsed": 15,
     "status": "ok",
     "timestamp": 1757083056074,
     "user": {
      "displayName": "Karthik Thiagarajan",
      "userId": "18250337670386755696"
     },
     "user_tz": -330
    },
    "id": "qQs5unIZD2OJ",
    "outputId": "12e11182-2e17-4777-a4cd-8f1e14b8106f"
   },
   "outputs": [
    {
     "name": "stdout",
     "output_type": "stream",
     "text": [
      "(1, 3)\n",
      "2\n"
     ]
    },
    {
     "data": {
      "text/plain": [
       "array([[1, 2, 3]])"
      ]
     },
     "execution_count": 53,
     "metadata": {},
     "output_type": "execute_result"
    }
   ],
   "source": [
    "x = np.array([\n",
    "    [1, 2, 3]\n",
    "])\n",
    "print(x.shape)\n",
    "print(x.ndim)\n",
    "x"
   ]
  },
  {
   "cell_type": "markdown",
   "metadata": {
    "id": "GOi6MkAUbvPD"
   },
   "source": [
    "To create a row or column vector from a 1D NumPy array, we can use `np.newaxis`. Focus on the syntax for now; the reason we are doing this will become clear when we discuss indexing and slicing."
   ]
  },
  {
   "cell_type": "code",
   "execution_count": 54,
   "metadata": {
    "colab": {
     "base_uri": "https://localhost:8080/"
    },
    "executionInfo": {
     "elapsed": 18,
     "status": "ok",
     "timestamp": 1757083056093,
     "user": {
      "displayName": "Karthik Thiagarajan",
      "userId": "18250337670386755696"
     },
     "user_tz": -330
    },
    "id": "FKRqvzRNb1Wn",
    "outputId": "700a069e-0bbb-45cb-8779-b2df0e86d302"
   },
   "outputs": [
    {
     "data": {
      "text/plain": [
       "(3, 1)"
      ]
     },
     "execution_count": 54,
     "metadata": {},
     "output_type": "execute_result"
    }
   ],
   "source": [
    "# Column vector\n",
    "x = np.array([1, 2, 3])\n",
    "x = x[:, np.newaxis]\n",
    "x.shape"
   ]
  },
  {
   "cell_type": "code",
   "execution_count": 55,
   "metadata": {
    "colab": {
     "base_uri": "https://localhost:8080/"
    },
    "executionInfo": {
     "elapsed": 3,
     "status": "ok",
     "timestamp": 1757083056096,
     "user": {
      "displayName": "Karthik Thiagarajan",
      "userId": "18250337670386755696"
     },
     "user_tz": -330
    },
    "id": "-WFz8j1qbuox",
    "outputId": "65d20385-ec8f-47d7-a79a-c0d86646c58e"
   },
   "outputs": [
    {
     "data": {
      "text/plain": [
       "(1, 3)"
      ]
     },
     "execution_count": 55,
     "metadata": {},
     "output_type": "execute_result"
    }
   ],
   "source": [
    "# Row vector\n",
    "x = np.array([1, 2, 3])\n",
    "x = x[np.newaxis, :]\n",
    "x.shape"
   ]
  },
  {
   "cell_type": "markdown",
   "metadata": {
    "id": "2HhBi37gcLgJ"
   },
   "source": [
    "Alternatively, we can also use a method called `reshape`:"
   ]
  },
  {
   "cell_type": "code",
   "execution_count": 56,
   "metadata": {
    "colab": {
     "base_uri": "https://localhost:8080/"
    },
    "executionInfo": {
     "elapsed": 3,
     "status": "ok",
     "timestamp": 1757083056099,
     "user": {
      "displayName": "Karthik Thiagarajan",
      "userId": "18250337670386755696"
     },
     "user_tz": -330
    },
    "id": "QCh1RYKgcN1s",
    "outputId": "0e5b6f09-3166-486a-c9f4-4881c97956da"
   },
   "outputs": [
    {
     "data": {
      "text/plain": [
       "(3, 1)"
      ]
     },
     "execution_count": 56,
     "metadata": {},
     "output_type": "execute_result"
    }
   ],
   "source": [
    "# Column vector\n",
    "x = np.array([1, 2, 3])\n",
    "x = x.reshape(3, 1)\n",
    "x.shape"
   ]
  },
  {
   "cell_type": "code",
   "execution_count": 57,
   "metadata": {
    "colab": {
     "base_uri": "https://localhost:8080/"
    },
    "executionInfo": {
     "elapsed": 2,
     "status": "ok",
     "timestamp": 1757083056101,
     "user": {
      "displayName": "Karthik Thiagarajan",
      "userId": "18250337670386755696"
     },
     "user_tz": -330
    },
    "id": "IbVX9hV6cSem",
    "outputId": "07483e08-6254-4bcc-cec3-fbad32ed4441"
   },
   "outputs": [
    {
     "data": {
      "text/plain": [
       "(1, 3)"
      ]
     },
     "execution_count": 57,
     "metadata": {},
     "output_type": "execute_result"
    }
   ],
   "source": [
    "# Row vector\n",
    "x = np.array([1, 2, 3])\n",
    "x = x.reshape(1, 3)\n",
    "x.shape"
   ]
  },
  {
   "cell_type": "markdown",
   "metadata": {
    "id": "qchRKh-00dyU"
   },
   "source": [
    "`reshape` is a powerful method and will come in handy in various applications."
   ]
  },
  {
   "cell_type": "markdown",
   "metadata": {
    "id": "GpQXZMCve8Wf"
   },
   "source": [
    "## Products involving matrices and vectors\n",
    "\n",
    "We will look at the following products:\n",
    "- matrix - matrix\n",
    "- matrix - vector\n",
    "- vector - matrix\n",
    "- vector - vector"
   ]
  },
  {
   "cell_type": "markdown",
   "metadata": {
    "id": "ugLU7PhgA548"
   },
   "source": [
    "### Product of two matrices\n",
    "\n",
    "Given two matrices compatible for multiplication:\n",
    "\n",
    "$$\n",
    "\\textbf{A} = \\begin{bmatrix}\n",
    "1 & 2 & 3\\\\\n",
    "4 & 5 & 6\n",
    "\\end{bmatrix}, \\textbf{B} = \\begin{bmatrix}\n",
    "6 & 7\\\\\n",
    "8 & 9\\\\\n",
    "10 & 11\n",
    "\\end{bmatrix}\n",
    "$$\n",
    "\n",
    "then,\n",
    "\n",
    "$$\n",
    "\\textbf{C} = \\textbf{A} \\times \\textbf{B} = \\begin{bmatrix}\n",
    "52 & 58\\\\\n",
    "124 & 139\n",
    "\\end{bmatrix}\n",
    "$$\n",
    "\n",
    "In `NumPy`:"
   ]
  },
  {
   "cell_type": "code",
   "execution_count": 58,
   "metadata": {
    "colab": {
     "base_uri": "https://localhost:8080/"
    },
    "executionInfo": {
     "elapsed": 3,
     "status": "ok",
     "timestamp": 1757083056104,
     "user": {
      "displayName": "Karthik Thiagarajan",
      "userId": "18250337670386755696"
     },
     "user_tz": -330
    },
    "id": "sbiOJrIzBkFg",
    "outputId": "33c606a5-7ded-40b9-f380-70e11f3ea325"
   },
   "outputs": [
    {
     "data": {
      "text/plain": [
       "array([[ 52,  58],\n",
       "       [124, 139]])"
      ]
     },
     "execution_count": 58,
     "metadata": {},
     "output_type": "execute_result"
    }
   ],
   "source": [
    "A = np.array([\n",
    "    [1, 2, 3],\n",
    "    [4, 5, 6]\n",
    "])\n",
    "B = np.array([\n",
    "    [6, 7],\n",
    "    [8, 9],\n",
    "    [10, 11]\n",
    "])\n",
    "C = A @ B\n",
    "C"
   ]
  },
  {
   "cell_type": "markdown",
   "metadata": {
    "id": "zdFPst7KCtgl"
   },
   "source": [
    "### Product of a matrix and a (column) vector\n",
    "\n",
    "Given the matrix $\\mathbf{A}$ and the vector $\\mathbf{x}$:\n",
    "\n",
    "$$\n",
    "\\mathbf{A} = \\begin{bmatrix}\n",
    "1 & 2 & 3\\\\\n",
    "4 & 5 & 6\\\\\n",
    "7 & 8 & 9\n",
    "\\end{bmatrix}, \\mathbf{x} = \\begin{bmatrix}\n",
    "6\\\\\n",
    "7\\\\\n",
    "8\n",
    "\\end{bmatrix}\n",
    "$$\n",
    "\n",
    "The product $\\mathbf{Ax}$ is given by:\n",
    "\n",
    "$$\n",
    "\\mathbf{C} = \\mathbf{A x} = \\begin{bmatrix}\n",
    "44\\\\\n",
    "107\\\\\n",
    "170\n",
    "\\end{bmatrix}\n",
    "$$\n",
    "\n",
    "In `NumPy`:"
   ]
  },
  {
   "cell_type": "code",
   "execution_count": 59,
   "metadata": {
    "colab": {
     "base_uri": "https://localhost:8080/"
    },
    "executionInfo": {
     "elapsed": 1,
     "status": "ok",
     "timestamp": 1757083056105,
     "user": {
      "displayName": "Karthik Thiagarajan",
      "userId": "18250337670386755696"
     },
     "user_tz": -330
    },
    "id": "F9tQwGumDfgv",
    "outputId": "e3db9abd-2610-4e79-c95a-359363424c3d"
   },
   "outputs": [
    {
     "data": {
      "text/plain": [
       "array([ 44, 107, 170])"
      ]
     },
     "execution_count": 59,
     "metadata": {},
     "output_type": "execute_result"
    }
   ],
   "source": [
    "A = np.array([\n",
    "    [1, 2, 3],\n",
    "    [4, 5, 6],\n",
    "    [7, 8, 9]\n",
    "])\n",
    "x = np.array([6, 7, 8])\n",
    "C = A @ x\n",
    "C"
   ]
  },
  {
   "cell_type": "markdown",
   "metadata": {
    "id": "czO_GwynKHWQ"
   },
   "source": [
    "### Product of a (row) vector and a matrix\n",
    "\n",
    "Given the matrix $\\mathbf{A}$ and the vector $\\mathbf{x}$:\n",
    "\n",
    "$$\n",
    "\\mathbf{A} = \\begin{bmatrix}\n",
    "1 & 2 & 3\\\\\n",
    "4 & 5 & 6\\\\\n",
    "7 & 8 & 9\n",
    "\\end{bmatrix}, \\mathbf{x} = \\begin{bmatrix}\n",
    "6\\\\\n",
    "7\\\\\n",
    "8\n",
    "\\end{bmatrix}\n",
    "$$\n",
    "\n",
    "The product $\\mathbf{x}^T \\mathbf{A}$ is given by:\n",
    "\n",
    "$$\n",
    "\\mathbf{C} = \\mathbf{x}^T \\mathbf{A} = \\begin{bmatrix}\n",
    "90 & 111 & 132\n",
    "\\end{bmatrix}\n",
    "$$\n",
    "\n",
    "In `NumPy`:"
   ]
  },
  {
   "cell_type": "code",
   "execution_count": 60,
   "metadata": {
    "colab": {
     "base_uri": "https://localhost:8080/"
    },
    "executionInfo": {
     "elapsed": 115,
     "status": "ok",
     "timestamp": 1757083056221,
     "user": {
      "displayName": "Karthik Thiagarajan",
      "userId": "18250337670386755696"
     },
     "user_tz": -330
    },
    "id": "C_n2CZRhKTio",
    "outputId": "4f45ad90-d1ce-4b60-bb24-cc637c246b37"
   },
   "outputs": [
    {
     "data": {
      "text/plain": [
       "array([ 90, 111, 132])"
      ]
     },
     "execution_count": 60,
     "metadata": {},
     "output_type": "execute_result"
    }
   ],
   "source": [
    "A = np.array([\n",
    "    [1, 2, 3],\n",
    "    [4, 5, 6],\n",
    "    [7, 8, 9]\n",
    "])\n",
    "x = np.array([6, 7, 8])\n",
    "x @ A"
   ]
  },
  {
   "cell_type": "markdown",
   "metadata": {
    "id": "d0impiXDL6_s"
   },
   "source": [
    "### (Inner) Product of a (row) vector and a (column) vector\n",
    "\n",
    "The product of a row vector and a column vector is nothing but the usual dot product:\n",
    "\n",
    "$$\n",
    "\\mathbf{x}^T = \\begin{bmatrix}\n",
    "1 & 2 & 3\n",
    "\\end{bmatrix}, \\quad\n",
    "\\mathbf{y} = \\begin{bmatrix}\n",
    "4\\\\\n",
    "5\\\\\n",
    "6\n",
    "\\end{bmatrix}\n",
    "$$\n",
    "\n",
    "The product $\\mathbf{x}^T \\mathbf{y}$ is then:\n",
    "\n",
    "$$\n",
    "\\mathbf{x}^T \\mathbf{y} = 32\n",
    "$$\n",
    "\n",
    "In `NumPy`:"
   ]
  },
  {
   "cell_type": "code",
   "execution_count": 61,
   "metadata": {
    "colab": {
     "base_uri": "https://localhost:8080/"
    },
    "executionInfo": {
     "elapsed": 7,
     "status": "ok",
     "timestamp": 1757083056228,
     "user": {
      "displayName": "Karthik Thiagarajan",
      "userId": "18250337670386755696"
     },
     "user_tz": -330
    },
    "id": "Wch5wXY3MZol",
    "outputId": "7d9d9ec6-c9ca-4240-d582-c56c3719cbd4"
   },
   "outputs": [
    {
     "data": {
      "text/plain": [
       "np.int64(32)"
      ]
     },
     "execution_count": 61,
     "metadata": {},
     "output_type": "execute_result"
    }
   ],
   "source": [
    "x = np.array([1, 2, 3])\n",
    "y = np.array([4, 5, 6])\n",
    "x @ y"
   ]
  },
  {
   "cell_type": "markdown",
   "metadata": {
    "id": "xtZ4gUhdMrvM"
   },
   "source": [
    "### (Outer) Product of a (column) vector and a (row) vector\n",
    "\n",
    "The product of a column vector and a row vector is an outer product:\n",
    "\n",
    "$$\n",
    "\\mathbf{x} = \\begin{bmatrix}\n",
    "1\\\\\n",
    "2\\\\\n",
    "3\n",
    "\\end{bmatrix}, \\quad\n",
    "\\mathbf{y} = \\begin{bmatrix}\n",
    "4 & 5 & 6\n",
    "\\end{bmatrix}\n",
    "$$\n",
    "\n",
    "The product $\\mathbf{x} \\mathbf{y}^T$ is then:\n",
    "\n",
    "$$\n",
    "\\mathbf{x} \\mathbf{y}^T = \\begin{bmatrix}\n",
    "4 & 5 & 6\\\\\n",
    "8 & 10 & 12\\\\\n",
    "12 & 15 & 18\n",
    "\\end{bmatrix}\n",
    "$$\n",
    "\n",
    "In `NumPy`:"
   ]
  },
  {
   "cell_type": "code",
   "execution_count": 62,
   "metadata": {
    "colab": {
     "base_uri": "https://localhost:8080/"
    },
    "executionInfo": {
     "elapsed": 3,
     "status": "ok",
     "timestamp": 1757083056230,
     "user": {
      "displayName": "Karthik Thiagarajan",
      "userId": "18250337670386755696"
     },
     "user_tz": -330
    },
    "id": "p5a1jU1cNDVm",
    "outputId": "420a8135-6229-4cde-e948-7f9b5ab93da1"
   },
   "outputs": [
    {
     "data": {
      "text/plain": [
       "array([[ 4,  5,  6],\n",
       "       [ 8, 10, 12],\n",
       "       [12, 15, 18]])"
      ]
     },
     "execution_count": 62,
     "metadata": {},
     "output_type": "execute_result"
    }
   ],
   "source": [
    "x = np.array([1, 2, 3])\n",
    "y = np.array([4, 5, 6])\n",
    "np.outer(x, y)"
   ]
  },
  {
   "cell_type": "markdown",
   "metadata": {
    "id": "Tqy56hvIcTuu"
   },
   "source": [
    "Equivalently:"
   ]
  },
  {
   "cell_type": "code",
   "execution_count": 63,
   "metadata": {
    "colab": {
     "base_uri": "https://localhost:8080/"
    },
    "executionInfo": {
     "elapsed": 8,
     "status": "ok",
     "timestamp": 1757083056238,
     "user": {
      "displayName": "Karthik Thiagarajan",
      "userId": "18250337670386755696"
     },
     "user_tz": -330
    },
    "id": "r31NKgOwcU1x",
    "outputId": "63ca053c-34d4-454e-aa53-0d9ae17fdaa4"
   },
   "outputs": [
    {
     "data": {
      "text/plain": [
       "array([[ 4,  5,  6],\n",
       "       [ 8, 10, 12],\n",
       "       [12, 15, 18]])"
      ]
     },
     "execution_count": 63,
     "metadata": {},
     "output_type": "execute_result"
    }
   ],
   "source": [
    "x = np.array([1, 2, 3])\n",
    "y = np.array([4, 5, 6])\n",
    "x = x[:, np.newaxis]\n",
    "y = y[np.newaxis, :]\n",
    "x @ y"
   ]
  },
  {
   "cell_type": "markdown",
   "metadata": {
    "id": "rqeLCXzM04pA"
   },
   "source": [
    "Notice the amazing power of the `@` operator and the seemingly magical way in which `NumPy` combines the left and right operands. Let us see how `NumPy` achieves this in the particular case of a row-vector matrix product. Consider multiplying $\\begin{bmatrix}1 & 2\\end{bmatrix}$ and $\\begin{bmatrix}3 & 4\\\\5 & 6\\end{bmatrix}$."
   ]
  },
  {
   "cell_type": "code",
   "execution_count": 64,
   "metadata": {
    "colab": {
     "base_uri": "https://localhost:8080/"
    },
    "executionInfo": {
     "elapsed": 37,
     "status": "ok",
     "timestamp": 1757083056275,
     "user": {
      "displayName": "Karthik Thiagarajan",
      "userId": "18250337670386755696"
     },
     "user_tz": -330
    },
    "id": "7RBel81-2iiW",
    "outputId": "4b7b04f3-4883-4bc1-80b8-6cb86ac7ff3b"
   },
   "outputs": [
    {
     "data": {
      "text/plain": [
       "array([13, 16])"
      ]
     },
     "execution_count": 64,
     "metadata": {},
     "output_type": "execute_result"
    }
   ],
   "source": [
    "x = np.array([1, 2])\n",
    "M = np.array([\n",
    "    [3, 4],\n",
    "    [5, 6]\n",
    "])\n",
    "x @ M"
   ]
  },
  {
   "cell_type": "markdown",
   "metadata": {
    "id": "tIo9HJ0K2n0I"
   },
   "source": [
    "When we execute `x @ M`, `NumPy` does the following:\n",
    "- Convert the 1D array `x` into a 2D array by adding an extra dimension at the beginning so that the result is a row vector whose shape is $(1, 2)$.\n",
    "- Now that `x` and `M` are compatible for matrix multiplication because their shapes are $(1, 2)$ and $(2, 2)$ respectively, matrix multiplication happens.\n",
    "- The resulting output of this operation has shape $(1, 2)$. Since this is effectively a vector, `NumPy` drops the extra dimension and outputs a 1D array of shape $(2, )$.\n",
    "\n",
    "`np.matmul` gives the same result. But we will stick to the `@` operator."
   ]
  },
  {
   "cell_type": "code",
   "execution_count": 65,
   "metadata": {
    "colab": {
     "base_uri": "https://localhost:8080/"
    },
    "executionInfo": {
     "elapsed": 5,
     "status": "ok",
     "timestamp": 1757083056281,
     "user": {
      "displayName": "Karthik Thiagarajan",
      "userId": "18250337670386755696"
     },
     "user_tz": -330
    },
    "id": "f0vSxkFV3MSN",
    "outputId": "f9ca8be1-bf5a-4033-e6b0-346d21f8aa2a"
   },
   "outputs": [
    {
     "data": {
      "text/plain": [
       "array([13, 16])"
      ]
     },
     "execution_count": 65,
     "metadata": {},
     "output_type": "execute_result"
    }
   ],
   "source": [
    "x = np.array([1, 2])\n",
    "M = np.array([\n",
    "    [3, 4],\n",
    "    [5, 6]\n",
    "])\n",
    "np.matmul(x, M)"
   ]
  },
  {
   "cell_type": "markdown",
   "metadata": {
    "id": "AyV3jyK0QuhB"
   },
   "source": [
    "## Special matrices\n",
    "\n",
    "Let us now look at some special matrices that can be generated using `NumPy`."
   ]
  },
  {
   "cell_type": "markdown",
   "metadata": {
    "id": "KShBdBZcQpTN"
   },
   "source": [
    "### Matrix of zeros\n",
    "\n",
    "In many algorithms, we might have to initialize a matrix with zeros. For example, consider a $2 \\times 4$ matrix:\n",
    "\n",
    "$$\n",
    "\\mathbf{M} = \\begin{bmatrix}\n",
    "0 & 0 & 0 & 0\\\\\n",
    "0 & 0 & 0 & 0\n",
    "\\end{bmatrix}\n",
    "$$\n",
    "\n",
    "In `NumPy`:"
   ]
  },
  {
   "cell_type": "code",
   "execution_count": 66,
   "metadata": {
    "colab": {
     "base_uri": "https://localhost:8080/"
    },
    "executionInfo": {
     "elapsed": 12,
     "status": "ok",
     "timestamp": 1757083056293,
     "user": {
      "displayName": "Karthik Thiagarajan",
      "userId": "18250337670386755696"
     },
     "user_tz": -330
    },
    "id": "x38VjAKRRAFk",
    "outputId": "5a0f023d-c46a-49ec-8ea6-dd7a15012f48"
   },
   "outputs": [
    {
     "data": {
      "text/plain": [
       "array([[0., 0., 0., 0.],\n",
       "       [0., 0., 0., 0.]])"
      ]
     },
     "execution_count": 66,
     "metadata": {},
     "output_type": "execute_result"
    }
   ],
   "source": [
    "np.zeros((2, 4))"
   ]
  },
  {
   "cell_type": "markdown",
   "metadata": {
    "id": "hEg3EbveRWyc"
   },
   "source": [
    "### Matrix of ones\n",
    "\n",
    "Similar to a matrix of zeros, we can come up with a matrix of ones.\n",
    "\n",
    "$$\n",
    "\\mathbf{M} = \\begin{bmatrix}\n",
    "1 & 1\\\\\n",
    "1 & 1\\\\\n",
    "1 & 1\n",
    "\\end{bmatrix}\n",
    "$$\n",
    "\n",
    "In `NumPy`:"
   ]
  },
  {
   "cell_type": "code",
   "execution_count": 67,
   "metadata": {
    "colab": {
     "base_uri": "https://localhost:8080/"
    },
    "executionInfo": {
     "elapsed": 2,
     "status": "ok",
     "timestamp": 1757083056296,
     "user": {
      "displayName": "Karthik Thiagarajan",
      "userId": "18250337670386755696"
     },
     "user_tz": -330
    },
    "id": "kdApYPy7RlUd",
    "outputId": "a4f8f0ad-9ca5-4ca9-bb76-d05808f7542a"
   },
   "outputs": [
    {
     "data": {
      "text/plain": [
       "array([[1., 1.],\n",
       "       [1., 1.],\n",
       "       [1., 1.]])"
      ]
     },
     "execution_count": 67,
     "metadata": {},
     "output_type": "execute_result"
    }
   ],
   "source": [
    "np.ones((3, 2))"
   ]
  },
  {
   "cell_type": "markdown",
   "metadata": {
    "id": "dYEddfsL5meY"
   },
   "source": [
    "We have to be careful about the argument. It has to be a tuple (or some sequence, say a list). See what happens if pass it as two separate arguments: `np.ones(3, 2)`,"
   ]
  },
  {
   "cell_type": "markdown",
   "metadata": {
    "id": "hhHfmOEiSknK"
   },
   "source": [
    "### Identity matrix\n",
    "\n",
    "Often, we might have to deal with identity matrices. A $3 \\times 3$ identity matrix is as follows:\n",
    "\n",
    "$$\n",
    "\\mathbf{I} = \\begin{bmatrix}\n",
    "1 & 0 & 0\\\\\n",
    "0 & 1 & 0\\\\\n",
    "0 & 0 & 1\n",
    "\\end{bmatrix}\n",
    "$$\n",
    "\n",
    "In `NumPy`:"
   ]
  },
  {
   "cell_type": "code",
   "execution_count": 68,
   "metadata": {
    "colab": {
     "base_uri": "https://localhost:8080/"
    },
    "executionInfo": {
     "elapsed": 2,
     "status": "ok",
     "timestamp": 1757083056299,
     "user": {
      "displayName": "Karthik Thiagarajan",
      "userId": "18250337670386755696"
     },
     "user_tz": -330
    },
    "id": "sTLClyKSS8s-",
    "outputId": "1780e306-e506-4e96-db29-a96b37c8bb0e"
   },
   "outputs": [
    {
     "data": {
      "text/plain": [
       "array([[1., 0., 0., 0., 0.],\n",
       "       [0., 1., 0., 0., 0.],\n",
       "       [0., 0., 1., 0., 0.],\n",
       "       [0., 0., 0., 1., 0.],\n",
       "       [0., 0., 0., 0., 1.]])"
      ]
     },
     "execution_count": 68,
     "metadata": {},
     "output_type": "execute_result"
    }
   ],
   "source": [
    "np.eye(5)"
   ]
  },
  {
   "cell_type": "markdown",
   "metadata": {
    "id": "hrjIArpFQ6S8"
   },
   "source": [
    "A scalar matrix can be obtained by multiplying the identity matrix by the appropriate scalar."
   ]
  },
  {
   "cell_type": "markdown",
   "metadata": {
    "id": "gsSwBuSExQX1"
   },
   "source": [
    "### Diagonal matrices\n",
    "\n",
    "Another special kind of matrix. Let us create the following matrix:\n",
    "\n",
    "$$\n",
    "\\mathbf{D} = \\begin{bmatrix}\n",
    "1 & 0 & 0 & 0\\\\\n",
    "0 & 2 & 0 & 0\\\\\n",
    "0 & 0 & 3 & 0\\\\\n",
    "0 & 0 & 0 & 4\n",
    "\\end{bmatrix}\n",
    "$$\n",
    "\n",
    "In `NumPy`:"
   ]
  },
  {
   "cell_type": "code",
   "execution_count": 69,
   "metadata": {
    "colab": {
     "base_uri": "https://localhost:8080/"
    },
    "executionInfo": {
     "elapsed": 10,
     "status": "ok",
     "timestamp": 1757083056309,
     "user": {
      "displayName": "Karthik Thiagarajan",
      "userId": "18250337670386755696"
     },
     "user_tz": -330
    },
    "id": "fLZ8y1ODxgq6",
    "outputId": "15159799-cf3d-4300-aaf8-6292420f6b60"
   },
   "outputs": [
    {
     "data": {
      "text/plain": [
       "array([[1, 0, 0, 0],\n",
       "       [0, 2, 0, 0],\n",
       "       [0, 0, 3, 0],\n",
       "       [0, 0, 0, 4]])"
      ]
     },
     "execution_count": 69,
     "metadata": {},
     "output_type": "execute_result"
    }
   ],
   "source": [
    "np.diag([1, 2, 3, 4])"
   ]
  },
  {
   "cell_type": "markdown",
   "metadata": {
    "id": "LYEO0xG8Tmdo"
   },
   "source": [
    "## Indexing and Slicing\n",
    "\n",
    "Just like lists in Python, `NumPy` arrays can be indexed and sliced.  Slicing is useful if we want to work with a portion of an array. We will look at some examples."
   ]
  },
  {
   "cell_type": "markdown",
   "metadata": {
    "id": "Nvw85fkOcsbG"
   },
   "source": [
    "### Example-1: Indexing\n",
    "\n",
    "Consider:\n",
    "\n",
    "$$\n",
    "M = \\begin{bmatrix}\n",
    "1 & 3 & 0\\\\\n",
    "4 & 2 & \\color{red}{5}\\\\\n",
    "9 & 8 & 7\n",
    "\\end{bmatrix}\n",
    "$$\n",
    "\n",
    "To access the element $5$, we can do the following:"
   ]
  },
  {
   "cell_type": "code",
   "execution_count": 70,
   "metadata": {
    "colab": {
     "base_uri": "https://localhost:8080/"
    },
    "executionInfo": {
     "elapsed": 21,
     "status": "ok",
     "timestamp": 1757083056331,
     "user": {
      "displayName": "Karthik Thiagarajan",
      "userId": "18250337670386755696"
     },
     "user_tz": -330
    },
    "id": "EPVc1i-1c5SQ",
    "outputId": "1718888e-e99b-4706-ab46-ef98c9e72b15"
   },
   "outputs": [
    {
     "data": {
      "text/plain": [
       "np.int64(5)"
      ]
     },
     "execution_count": 70,
     "metadata": {},
     "output_type": "execute_result"
    }
   ],
   "source": [
    "M = np.array([\n",
    "    [1, 3, 0],\n",
    "    [4, 2, 5],\n",
    "    [9, 8, 7]\n",
    "])\n",
    "M[1][2]"
   ]
  },
  {
   "cell_type": "markdown",
   "metadata": {
    "id": "Ol7oh45odAQY"
   },
   "source": [
    "Alternatively, we can also use:"
   ]
  },
  {
   "cell_type": "code",
   "execution_count": 71,
   "metadata": {
    "colab": {
     "base_uri": "https://localhost:8080/"
    },
    "executionInfo": {
     "elapsed": 5,
     "status": "ok",
     "timestamp": 1757083056331,
     "user": {
      "displayName": "Karthik Thiagarajan",
      "userId": "18250337670386755696"
     },
     "user_tz": -330
    },
    "id": "VLCfHFoJdChP",
    "outputId": "954364c5-7216-4aff-b3e1-8a96db84647c"
   },
   "outputs": [
    {
     "data": {
      "text/plain": [
       "np.int64(5)"
      ]
     },
     "execution_count": 71,
     "metadata": {},
     "output_type": "execute_result"
    }
   ],
   "source": [
    "M = np.array([\n",
    "    [1, 3, 0],\n",
    "    [4, 2, 5],\n",
    "    [9, 8, 7]\n",
    "])\n",
    "M[1, 2]"
   ]
  },
  {
   "cell_type": "markdown",
   "metadata": {
    "id": "9FQlkAGbdFIU"
   },
   "source": [
    "Note that NumPy uses zero-indexing, just like Python. In general, `M[row, col]` is the element in the row `row` and columnn `col` assuming zero indexing."
   ]
  },
  {
   "cell_type": "markdown",
   "metadata": {
    "id": "jjVMaWjETs1R"
   },
   "source": [
    "### Example-2: Row-slice\n",
    "\n",
    "We will extract the third row of the matrix $\\mathbf{M}$:\n",
    "\n",
    "$$\n",
    "\\mathbf{M} = \\begin{bmatrix}\n",
    "1 & 2\\\\\n",
    "3 & 4\\\\\n",
    "5 & 6\\\\\n",
    "7 & 8\\\\\n",
    "9 & 10\n",
    "\\end{bmatrix}\n",
    "$$\n",
    "\n",
    "\n",
    "\n",
    "In `NumPy`:"
   ]
  },
  {
   "cell_type": "code",
   "execution_count": 72,
   "metadata": {
    "colab": {
     "base_uri": "https://localhost:8080/"
    },
    "executionInfo": {
     "elapsed": 19,
     "status": "ok",
     "timestamp": 1757083056347,
     "user": {
      "displayName": "Karthik Thiagarajan",
      "userId": "18250337670386755696"
     },
     "user_tz": -330
    },
    "id": "J1rnADwuTtXz",
    "outputId": "c36dae43-5c5c-43de-ed33-b738cc912ef6"
   },
   "outputs": [
    {
     "data": {
      "text/plain": [
       "array([[ 1,  2],\n",
       "       [ 3,  4],\n",
       "       [ 5,  6],\n",
       "       [ 7,  8],\n",
       "       [ 9, 10]])"
      ]
     },
     "execution_count": 72,
     "metadata": {},
     "output_type": "execute_result"
    }
   ],
   "source": [
    "M = np.arange(1, 11).reshape(5, 2)\n",
    "M"
   ]
  },
  {
   "cell_type": "code",
   "execution_count": 73,
   "metadata": {
    "colab": {
     "base_uri": "https://localhost:8080/"
    },
    "executionInfo": {
     "elapsed": 16,
     "status": "ok",
     "timestamp": 1757083056347,
     "user": {
      "displayName": "Karthik Thiagarajan",
      "userId": "18250337670386755696"
     },
     "user_tz": -330
    },
    "id": "TSmYubk7IFUL",
    "outputId": "394de582-796a-4947-e09a-9f2282afdcb2"
   },
   "outputs": [
    {
     "data": {
      "text/plain": [
       "array([5, 6])"
      ]
     },
     "execution_count": 73,
     "metadata": {},
     "output_type": "execute_result"
    }
   ],
   "source": [
    "M[2, :]"
   ]
  },
  {
   "cell_type": "markdown",
   "metadata": {
    "id": "Nj9LY0qSeIml"
   },
   "source": [
    "The syntax is to be understood as follows. To extract the third row, we fix the row index to be $2$ (zero-indexing) and get hold of all elements in that row. To do this, we use a `:` in the place of the column index so that it allows all elements to come in."
   ]
  },
  {
   "cell_type": "markdown",
   "metadata": {
    "id": "Sg0PsBYSTtsy"
   },
   "source": [
    "### Example-3: Column slice\n",
    "\n",
    "Let us now extract the second column of the following matrix:\n",
    "\n",
    "$$\n",
    "\\mathbf{M} = \\begin{bmatrix}\n",
    "1 & 2 & 3\\\\\n",
    "4 & 5 & 6\\\\\n",
    "7 & 8 & 9\n",
    "\\end{bmatrix}\n",
    "$$\n",
    "\n",
    "In `NumPy`:"
   ]
  },
  {
   "cell_type": "code",
   "execution_count": 74,
   "metadata": {
    "colab": {
     "base_uri": "https://localhost:8080/"
    },
    "executionInfo": {
     "elapsed": 3,
     "status": "ok",
     "timestamp": 1757083056347,
     "user": {
      "displayName": "Karthik Thiagarajan",
      "userId": "18250337670386755696"
     },
     "user_tz": -330
    },
    "id": "6VC5H1v4Tvp9",
    "outputId": "3a39fc92-96c1-4a14-bae4-fffe115019ba"
   },
   "outputs": [
    {
     "data": {
      "text/plain": [
       "array([2, 5, 8])"
      ]
     },
     "execution_count": 74,
     "metadata": {},
     "output_type": "execute_result"
    }
   ],
   "source": [
    "M = np.array([\n",
    "    [1, 2, 3],\n",
    "    [4, 5, 6],\n",
    "    [7, 8, 9]\n",
    "])\n",
    "M[:, 1]"
   ]
  },
  {
   "cell_type": "markdown",
   "metadata": {
    "id": "t6rTMeIleYpV"
   },
   "source": [
    "Here, we want the second column. So we fix the column index to $1$ and set the row index to `:`, indicating that all elements in that column should be included."
   ]
  },
  {
   "cell_type": "markdown",
   "metadata": {
    "id": "STtPO2rjTvzq"
   },
   "source": [
    "### Example-4: Submatrix slice\n",
    "\n",
    "Now, we want to extract the $2 \\times 2$ submatrix colored in blue from $M$:\n",
    "\n",
    "$$\n",
    "\\mathbf{M} = \\begin{bmatrix}\n",
    "1 & 2 & 3 & 4\\\\\n",
    "5 & 6 & \\color{blue}7 & \\color{blue}8\\\\\n",
    "9 & 10 & \\color{blue}{11} & \\color{blue}{12}\\\\\n",
    "13 & 14 & 15 & 16\n",
    "\\end{bmatrix}\n",
    "$$\n",
    "\n",
    "In `NumPy`:"
   ]
  },
  {
   "cell_type": "code",
   "execution_count": 75,
   "metadata": {
    "colab": {
     "base_uri": "https://localhost:8080/"
    },
    "executionInfo": {
     "elapsed": 3,
     "status": "ok",
     "timestamp": 1757083056415,
     "user": {
      "displayName": "Karthik Thiagarajan",
      "userId": "18250337670386755696"
     },
     "user_tz": -330
    },
    "id": "18Ktzj0nTyOx",
    "outputId": "70e359e9-5bbd-4888-bcd2-380360fef31f"
   },
   "outputs": [
    {
     "data": {
      "text/plain": [
       "array([[ 7,  8],\n",
       "       [11, 12]])"
      ]
     },
     "execution_count": 75,
     "metadata": {},
     "output_type": "execute_result"
    }
   ],
   "source": [
    "M = np.array([\n",
    "    [1, 2, 3, 4],\n",
    "    [5, 6, 7, 8],\n",
    "    [9, 10, 11, 12],\n",
    "    [13, 14, 15, 16]\n",
    "])\n",
    "M[1:3, 2:4]"
   ]
  },
  {
   "cell_type": "markdown",
   "metadata": {
    "id": "9wv1agukejy6"
   },
   "source": [
    "The start-point of the slice is included and the end-point is excluded, just as we do in native Python."
   ]
  },
  {
   "cell_type": "markdown",
   "metadata": {
    "id": "USo33Hw9nSPP"
   },
   "source": [
    "## Other Matrix Operations\n",
    "\n",
    "There are several important matrix operations that we will list down here. The `np.linalg` module helps us perform these operations effortlessly."
   ]
  },
  {
   "cell_type": "markdown",
   "metadata": {
    "id": "F0OVX6CtiF70"
   },
   "source": [
    "### Rank\n",
    "\n",
    "We can get the rank of a matrix as follows. For example:\n",
    "\n",
    "$$\n",
    "\\mathbf{M} = \\begin{bmatrix}\n",
    "1 & 2 & 3 & 4\\\\\n",
    "5 & 6 & 7 & 8\\\\\n",
    "9 & 10 & 11 & 12\\\\\n",
    "13 & 14 & 15 & 16\n",
    "\\end{bmatrix}\n",
    "$$"
   ]
  },
  {
   "cell_type": "code",
   "execution_count": 76,
   "metadata": {
    "colab": {
     "base_uri": "https://localhost:8080/"
    },
    "executionInfo": {
     "elapsed": 4,
     "status": "ok",
     "timestamp": 1757083056418,
     "user": {
      "displayName": "Karthik Thiagarajan",
      "userId": "18250337670386755696"
     },
     "user_tz": -330
    },
    "id": "DTskqJVZiMuP",
    "outputId": "0f022551-e628-456d-b9f0-04affbf920ea"
   },
   "outputs": [
    {
     "data": {
      "text/plain": [
       "np.int64(2)"
      ]
     },
     "execution_count": 76,
     "metadata": {},
     "output_type": "execute_result"
    }
   ],
   "source": [
    "M = np.array([\n",
    "    [1, 2, 3, 4],\n",
    "    [5, 6, 7, 8],\n",
    "    [9, 10, 11, 12],\n",
    "    [13, 14, 15, 16]\n",
    "])\n",
    "np.linalg.matrix_rank(M)"
   ]
  },
  {
   "cell_type": "markdown",
   "metadata": {
    "id": "OXRlxGP1YkRr"
   },
   "source": [
    "### Determinant\n",
    "\n",
    "We can compute the determinant of a square matrix. For example:\n",
    "\n",
    "$$\n",
    "\\mathbf{M} = \\begin{bmatrix}\n",
    "1 & 2 & -1\\\\\n",
    "0 & 1 & -1\\\\\n",
    "1 & 0 & 2\n",
    "\\end{bmatrix}\n",
    "$$"
   ]
  },
  {
   "cell_type": "code",
   "execution_count": 97,
   "metadata": {
    "colab": {
     "base_uri": "https://localhost:8080/"
    },
    "executionInfo": {
     "elapsed": 59,
     "status": "ok",
     "timestamp": 1757084340906,
     "user": {
      "displayName": "Karthik Thiagarajan",
      "userId": "18250337670386755696"
     },
     "user_tz": -330
    },
    "id": "eek197zvYwbo",
    "outputId": "aa495752-c19e-46ce-d92a-84f9f3ccb79e"
   },
   "outputs": [
    {
     "data": {
      "text/plain": [
       "np.float64(1.0)"
      ]
     },
     "execution_count": 97,
     "metadata": {},
     "output_type": "execute_result"
    }
   ],
   "source": [
    "M = np.array([\n",
    "    [1, 2, -1],\n",
    "    [0, 1, -1],\n",
    "    [1, 0, 2]\n",
    "])\n",
    "np.linalg.det(M)"
   ]
  },
  {
   "cell_type": "markdown",
   "metadata": {
    "id": "tuP8pe6_g92K"
   },
   "source": [
    "### Inverse\n",
    "\n",
    "We can get the inverse as follows. For example:\n",
    "\n",
    "$$\n",
    "M = \\begin{bmatrix}\n",
    "3 & -4\\\\\n",
    "4 & 3\n",
    "\\end{bmatrix}\n",
    "$$"
   ]
  },
  {
   "cell_type": "code",
   "execution_count": 77,
   "metadata": {
    "colab": {
     "base_uri": "https://localhost:8080/"
    },
    "executionInfo": {
     "elapsed": 10,
     "status": "ok",
     "timestamp": 1757083056428,
     "user": {
      "displayName": "Karthik Thiagarajan",
      "userId": "18250337670386755696"
     },
     "user_tz": -330
    },
    "id": "DOcS4IXMhKYV",
    "outputId": "252f31dd-1afb-4300-d454-fa3bd95fa96b"
   },
   "outputs": [
    {
     "data": {
      "text/plain": [
       "array([[ 0.12,  0.16],\n",
       "       [-0.16,  0.12]])"
      ]
     },
     "execution_count": 77,
     "metadata": {},
     "output_type": "execute_result"
    }
   ],
   "source": [
    "M = np.array([\n",
    "    [3, -4],\n",
    "    [4, 3]\n",
    "])\n",
    "np.linalg.inv(M)"
   ]
  },
  {
   "cell_type": "markdown",
   "metadata": {
    "id": "P77YDapdn1eW"
   },
   "source": [
    "### Pseuodoinverse\n",
    "\n",
    "The Moore Penrose pseudoinverse $\\mathbf{M}^{\\dagger}$ of a matrix $\\mathbf{M}$ can be computed:\n",
    "\n",
    "$$\n",
    "\\mathbf{M} = \\begin{bmatrix}\n",
    "1 & 2 & 3\\\\\n",
    "3 & 6 & 9\n",
    "\\end{bmatrix}\n",
    "$$\n",
    "\n",
    "In `NumPy`:\n"
   ]
  },
  {
   "cell_type": "code",
   "execution_count": 78,
   "metadata": {
    "colab": {
     "base_uri": "https://localhost:8080/"
    },
    "executionInfo": {
     "elapsed": 6,
     "status": "ok",
     "timestamp": 1757083056433,
     "user": {
      "displayName": "Karthik Thiagarajan",
      "userId": "18250337670386755696"
     },
     "user_tz": -330
    },
    "id": "vHcx2d9HnWf6",
    "outputId": "f01bbb1b-7b86-4515-f263-6b5265651c2a"
   },
   "outputs": [
    {
     "data": {
      "text/plain": [
       "array([[0.00714286, 0.02142857],\n",
       "       [0.01428571, 0.04285714],\n",
       "       [0.02142857, 0.06428571]])"
      ]
     },
     "execution_count": 78,
     "metadata": {},
     "output_type": "execute_result"
    }
   ],
   "source": [
    "M = np.array([\n",
    "    [1, 2, 3],\n",
    "     [3, 6, 9]\n",
    "])\n",
    "np.linalg.pinv(M)"
   ]
  },
  {
   "cell_type": "markdown",
   "metadata": {
    "id": "iUjsuiKmdRos"
   },
   "source": [
    "Recall that every matrix has a pseudoinverse. The pseudoinverse reduces to the inverse for square invertible matrices."
   ]
  },
  {
   "cell_type": "markdown",
   "metadata": {
    "id": "9g2E3fCMV0Hz"
   },
   "source": [
    "### System of Linear Equations\n",
    "\n",
    "We can solve a system of linear equations of the form $\\mathbf{A} \\boldsymbol{\\theta} = \\mathbf{b}$. Consider the following example:\n",
    "\n",
    "$$\n",
    "\\begin{aligned}\n",
    "2x + 3y - 4z &= -4\\\\\n",
    "x + y - z &= 0\\\\\n",
    "2x + y + z &= 7\n",
    "\\end{aligned}\n",
    "$$\n",
    "\n",
    "where $\\boldsymbol{\\theta} = (x, y, z)$ and $\\mathbf{A}$ is the matrix of coefficients. The following method in `NumPy` returns the exact solution if the matrix $\\mathbf{A}$ is invertible."
   ]
  },
  {
   "cell_type": "code",
   "execution_count": 94,
   "metadata": {
    "colab": {
     "base_uri": "https://localhost:8080/"
    },
    "executionInfo": {
     "elapsed": 10,
     "status": "ok",
     "timestamp": 1757084140873,
     "user": {
      "displayName": "Karthik Thiagarajan",
      "userId": "18250337670386755696"
     },
     "user_tz": -330
    },
    "id": "BwORm0tvV7ZJ",
    "outputId": "c2cb7509-68cb-40f9-aa1a-2a054527cb9a"
   },
   "outputs": [
    {
     "data": {
      "text/plain": [
       "array([1., 2., 3.])"
      ]
     },
     "execution_count": 94,
     "metadata": {},
     "output_type": "execute_result"
    }
   ],
   "source": [
    "A = np.array([\n",
    "    [2, 3, -4],\n",
    "    [1, 1, -1],\n",
    "    [2, 1, 1]\n",
    "])\n",
    "b = np.array([-4, 0, 7])\n",
    "theta = np.linalg.solve(A, b)\n",
    "theta"
   ]
  },
  {
   "cell_type": "markdown",
   "metadata": {
    "id": "wqyo9ooCYKA-"
   },
   "source": [
    "If $\\mathbf{A}$ is not a square matrix or if it is singular, then the method will return an error."
   ]
  },
  {
   "cell_type": "markdown",
   "metadata": {
    "id": "NfEDZK7oaxFQ"
   },
   "source": [
    "### Least Squares Solution\n",
    "\n",
    "In general, $\\mathbf{A} \\boldsymbol{\\theta} = \\mathbf{b}$ may not be solvable, or even if it is, it may not have a unique solution. In such situations, we look for the least square solution. Consider:\n",
    "\n",
    "$$\n",
    "\\begin{aligned}\n",
    "2x + 3y - 4z &= -4\\\\\n",
    "x + y - z &= 0\\\\\n",
    "2x + 2y - 2z &= 0.1\n",
    "\\end{aligned}\n",
    "$$\n",
    "\n",
    "where $\\boldsymbol{\\theta} = (x, y, z)$ and $\\mathbf{A}$ is the matrix of coefficients. The following method in `NumPy` returns the least squares solution of minimum norm."
   ]
  },
  {
   "cell_type": "code",
   "execution_count": 110,
   "metadata": {
    "colab": {
     "base_uri": "https://localhost:8080/"
    },
    "executionInfo": {
     "elapsed": 48,
     "status": "ok",
     "timestamp": 1757085225972,
     "user": {
      "displayName": "Karthik Thiagarajan",
      "userId": "18250337670386755696"
     },
     "user_tz": -330
    },
    "id": "QXGTh0HFbXJ7",
    "outputId": "acadfb23-87af-4196-8e75-58ec5d2340d6"
   },
   "outputs": [
    {
     "data": {
      "text/plain": [
       "array([2.07333333, 0.01333333, 2.04666667])"
      ]
     },
     "execution_count": 110,
     "metadata": {},
     "output_type": "execute_result"
    }
   ],
   "source": [
    "A = np.array([\n",
    "    [2, 3, -4],\n",
    "    [1, 1, -1],\n",
    "    [2, 2, -2]\n",
    "])\n",
    "b = np.array([-4, 0, 0.1])\n",
    "theta = np.linalg.lstsq(A, b)[0]\n",
    "theta"
   ]
  },
  {
   "cell_type": "markdown",
   "metadata": {
    "id": "IqWa1BM6cRG9"
   },
   "source": [
    "`np.linalg.lstsq` returns three objects, the first of which is the least square solution. To see how close this solution is to the vector $\\mathbf{b}$, let us compute $\\mathbf{A} \\boldsymbol{\\theta}$:"
   ]
  },
  {
   "cell_type": "code",
   "execution_count": 111,
   "metadata": {
    "colab": {
     "base_uri": "https://localhost:8080/"
    },
    "executionInfo": {
     "elapsed": 17,
     "status": "ok",
     "timestamp": 1757085234758,
     "user": {
      "displayName": "Karthik Thiagarajan",
      "userId": "18250337670386755696"
     },
     "user_tz": -330
    },
    "id": "otJe4L4YcOdn",
    "outputId": "c46a76df-adcf-4f50-ec73-2ec3010e6f6f"
   },
   "outputs": [
    {
     "data": {
      "text/plain": [
       "array([-4.  ,  0.04,  0.08])"
      ]
     },
     "execution_count": 111,
     "metadata": {},
     "output_type": "execute_result"
    }
   ],
   "source": [
    "A @ theta"
   ]
  },
  {
   "cell_type": "markdown",
   "metadata": {
    "id": "8muQDuYKceqp"
   },
   "source": [
    "Notice that this is quite close to the vector $\\mathbf{b} = (-4, 0, 0.1)$, which is what we expect of a least squares solution."
   ]
  },
  {
   "cell_type": "markdown",
   "metadata": {
    "id": "6v1KRPi3sqqk"
   },
   "source": [
    "### Eigenvalues and Eigenvectors (symmetric)\n",
    "\n",
    "Given a symmetric matrix $\\mathbf{M}$ let us find its eigenvalues and eigenvectors:\n",
    "\n",
    "$$\n",
    "\\mathbf{M} = \\begin{bmatrix}\n",
    "1 & 0 & -3\\\\\n",
    "0 & 5 & 2\\\\\n",
    "-3 & 2 & 8\n",
    "\\end{bmatrix}\n",
    "$$"
   ]
  },
  {
   "cell_type": "code",
   "execution_count": 79,
   "metadata": {
    "colab": {
     "base_uri": "https://localhost:8080/"
    },
    "executionInfo": {
     "elapsed": 6,
     "status": "ok",
     "timestamp": 1757083056439,
     "user": {
      "displayName": "Karthik Thiagarajan",
      "userId": "18250337670386755696"
     },
     "user_tz": -330
    },
    "id": "LkH6ayZ7s6dZ",
    "outputId": "d7847c3d-45a0-42fb-8711-3d71399ec1cb"
   },
   "outputs": [
    {
     "data": {
      "text/plain": [
       "array([-0.20942046,  4.36588492,  9.84353554])"
      ]
     },
     "execution_count": 79,
     "metadata": {},
     "output_type": "execute_result"
    }
   ],
   "source": [
    "M = np.array([\n",
    "    [1, 0, -3],\n",
    "    [0, 5, 2],\n",
    "    [-3, 2, 8]\n",
    "])\n",
    "eigval, eigvec = np.linalg.eigh(M)\n",
    "eigval"
   ]
  },
  {
   "cell_type": "markdown",
   "metadata": {
    "id": "mIPlhObRdXYl"
   },
   "source": [
    "The `h` in `eigh` referes to Hermitian. Recall that Hermitian matrices are the complex analogue of symmetric (real) matrices. The eigenvalues of Hermitian matrices are real and `NumPy` outputs them in ascending order. The corresponding eigenvectors appear in the columns of the matriix `eigvec`. The eigenpairs are given below:"
   ]
  },
  {
   "cell_type": "code",
   "execution_count": 80,
   "metadata": {
    "executionInfo": {
     "elapsed": 0,
     "status": "ok",
     "timestamp": 1757083056440,
     "user": {
      "displayName": "Karthik Thiagarajan",
      "userId": "18250337670386755696"
     },
     "user_tz": -330
    },
    "id": "5ARrxuNgdeNT"
   },
   "outputs": [],
   "source": [
    "eigval[0], eigvec[:, 0]\n",
    "eigval[1], eigvec[:, 1]\n",
    "eigval[2], eigvec[:, 2];"
   ]
  },
  {
   "cell_type": "markdown",
   "metadata": {
    "id": "5BXkmwCSZc4x"
   },
   "source": [
    "### Eigenvalues and Eigenvectors (general)\n",
    "\n",
    "For a square matrix $\\mathbf{M}$, not necessarily square, let us find its eigenvalues and eigenvectors. Consider:\n",
    "\n",
    "$$\n",
    "\\mathbf{M} = \\begin{bmatrix}\n",
    "1 & 2\\\\\n",
    "-1 & 3\n",
    "\\end{bmatrix}\n",
    "$$"
   ]
  },
  {
   "cell_type": "code",
   "execution_count": 103,
   "metadata": {
    "colab": {
     "base_uri": "https://localhost:8080/"
    },
    "executionInfo": {
     "elapsed": 52,
     "status": "ok",
     "timestamp": 1757084683330,
     "user": {
      "displayName": "Karthik Thiagarajan",
      "userId": "18250337670386755696"
     },
     "user_tz": -330
    },
    "id": "o1tmHELqaAhu",
    "outputId": "7854430e-6da6-4411-edcf-f6677daa00ee"
   },
   "outputs": [
    {
     "name": "stdout",
     "output_type": "stream",
     "text": [
      "[2.+1.j 2.-1.j]\n",
      "[[0.81649658+0.j         0.81649658-0.j        ]\n",
      " [0.40824829+0.40824829j 0.40824829-0.40824829j]]\n"
     ]
    }
   ],
   "source": [
    "M = np.array([\n",
    "    [1, 2],\n",
    "    [-1, 3]\n",
    "])\n",
    "eigval, eigvec = np.linalg.eig(M)\n",
    "print(eigval)\n",
    "print(eigvec)"
   ]
  },
  {
   "cell_type": "markdown",
   "metadata": {
    "id": "fDPiJ_hvaJ_u"
   },
   "source": [
    "Note that the eigenvalues could be complex, which is the case here. This means that the eigenvalues returned by `NumPy` may not have any ordering."
   ]
  },
  {
   "cell_type": "markdown",
   "metadata": {
    "id": "ufhGVSreTfT8"
   },
   "source": [
    "### SVD\n",
    "\n",
    "The singular value decomposition of a matrix $\\mathbf{M}$ is of the form:\n",
    "\n",
    "$$\n",
    "\\mathbf{M} = \\mathbf{U} \\boldsymbol{\\Sigma} \\mathbf{V}^{T}\n",
    "$$\n",
    "\n",
    "Consider an example:\n",
    "\n",
    "$$\n",
    "\\mathbf{M} = \\begin{bmatrix}\n",
    "1 & 3 & 1\\\\\n",
    "2 & 4 & 2\n",
    "\\end{bmatrix}\n",
    "$$\n",
    "\n",
    "The dimensions of the matrices should turn out to be:\n",
    "\n",
    "- $\\mathbf{U} \\rightarrow (2, 2)$\n",
    "- $\\boldsymbol{\\Sigma} \\rightarrow (2, 3)$\n",
    "- $\\mathbf{V} \\rightarrow (3, 3)$"
   ]
  },
  {
   "cell_type": "code",
   "execution_count": 104,
   "metadata": {
    "colab": {
     "base_uri": "https://localhost:8080/"
    },
    "executionInfo": {
     "elapsed": 42,
     "status": "ok",
     "timestamp": 1757084779364,
     "user": {
      "displayName": "Karthik Thiagarajan",
      "userId": "18250337670386755696"
     },
     "user_tz": -330
    },
    "id": "G0N7ZP8rT61a",
    "outputId": "7e9ce4c0-3b4f-4d9f-c7b9-53b65206bb34"
   },
   "outputs": [
    {
     "name": "stdout",
     "output_type": "stream",
     "text": [
      "(2, 2)\n",
      "(2,)\n",
      "(3, 3)\n"
     ]
    }
   ],
   "source": [
    "M = np.array([\n",
    "    [1, 3, 1],\n",
    "    [2, 4, 2]\n",
    "])\n",
    "U, Sigma, V = np.linalg.svd(M)\n",
    "print(U.shape)\n",
    "print(Sigma.shape)\n",
    "print(V.shape)"
   ]
  },
  {
   "cell_type": "markdown",
   "metadata": {
    "id": "z2PvpZRQULj8"
   },
   "source": [
    "Notice that the method returns a vector of singular values. We can easily recover the diagonal-ish $\\boldsymbol{\\Sigma}$ matrix from this. In contrast to the eigenvalues returned by the `eigh` method which are in ascending order, the singular values are sorted in descending order, as is the convention in the linear algebra literature."
   ]
  },
  {
   "cell_type": "code",
   "execution_count": 92,
   "metadata": {
    "colab": {
     "base_uri": "https://localhost:8080/"
    },
    "executionInfo": {
     "elapsed": 43,
     "status": "ok",
     "timestamp": 1757083489873,
     "user": {
      "displayName": "Karthik Thiagarajan",
      "userId": "18250337670386755696"
     },
     "user_tz": -330
    },
    "id": "8amgT1TYVb4A",
    "outputId": "bff3d679-2f06-490d-b66a-086149f66cdd"
   },
   "outputs": [
    {
     "data": {
      "text/plain": [
       "array([5.89660208, 0.47967068])"
      ]
     },
     "execution_count": 92,
     "metadata": {},
     "output_type": "execute_result"
    }
   ],
   "source": [
    "Sigma"
   ]
  },
  {
   "cell_type": "markdown",
   "metadata": {
    "id": "M-UeQ_xUVi2C"
   },
   "source": [
    "Recall that $\\mathbf{U}$ and $\\mathbf{V}$ are orthogonal matrices. That is, $\\mathbf{U U}^{T} = \\mathbf{U}^{T} \\mathbf{U} = \\mathbf{I}$. A similar result holds for $\\mathbf{V}$. Let us quickly see if this is the case:"
   ]
  },
  {
   "cell_type": "code",
   "execution_count": 88,
   "metadata": {
    "colab": {
     "base_uri": "https://localhost:8080/"
    },
    "executionInfo": {
     "elapsed": 16,
     "status": "ok",
     "timestamp": 1757083268272,
     "user": {
      "displayName": "Karthik Thiagarajan",
      "userId": "18250337670386755696"
     },
     "user_tz": -330
    },
    "id": "zrK5A6B1UnL7",
    "outputId": "ee8e1c3f-d3d6-4dc6-e7e9-6c0c87fd2044"
   },
   "outputs": [
    {
     "data": {
      "text/plain": [
       "array([[ 1.00000000e+00, -1.08094514e-16],\n",
       "       [-1.08094514e-16,  1.00000000e+00]])"
      ]
     },
     "execution_count": 88,
     "metadata": {},
     "output_type": "execute_result"
    }
   ],
   "source": [
    "U @ U.T"
   ]
  },
  {
   "cell_type": "code",
   "execution_count": 89,
   "metadata": {
    "colab": {
     "base_uri": "https://localhost:8080/"
    },
    "executionInfo": {
     "elapsed": 8,
     "status": "ok",
     "timestamp": 1757083270486,
     "user": {
      "displayName": "Karthik Thiagarajan",
      "userId": "18250337670386755696"
     },
     "user_tz": -330
    },
    "id": "T7CpKBuJUomZ",
    "outputId": "f485e1cb-fdd0-44b8-d755-313925757ff7"
   },
   "outputs": [
    {
     "data": {
      "text/plain": [
       "array([[ 1.00000000e+00,  2.97804097e-17,  1.56730402e-17],\n",
       "       [ 2.97804097e-17,  1.00000000e+00, -2.93975883e-17],\n",
       "       [ 1.56730402e-17, -2.93975883e-17,  1.00000000e+00]])"
      ]
     },
     "execution_count": 89,
     "metadata": {},
     "output_type": "execute_result"
    }
   ],
   "source": [
    "V @ V.T"
   ]
  },
  {
   "cell_type": "markdown",
   "metadata": {
    "id": "OinYtbFBVnRH"
   },
   "source": [
    "In upcoming notebooks, we will see how we can compare two matrices element by element. For now, it suffices to note that the non-diagonal elements are vanishingly small and are as good as zero."
   ]
  }
 ],
 "metadata": {
  "colab": {
   "provenance": [
    {
     "file_id": "1ZqJIS0BnbpHo6RofWkXTilRkEdmdQ4dH",
     "timestamp": 1670911066969
    }
   ]
  },
  "kernelspec": {
   "display_name": "Python 3",
   "name": "python3"
  },
  "language_info": {
   "name": "python"
  }
 },
 "nbformat": 4,
 "nbformat_minor": 0
}
