{
  "nbformat": 4,
  "nbformat_minor": 0,
  "metadata": {
    "colab": {
      "provenance": [],
      "gpuType": "T4",
      "authorship_tag": "ABX9TyNsUuSZWaNqPyGJ2NJaqHBF",
      "include_colab_link": true
    },
    "kernelspec": {
      "name": "python3",
      "display_name": "Python 3"
    },
    "language_info": {
      "name": "python"
    },
    "accelerator": "GPU"
  },
  "cells": [
    {
      "cell_type": "markdown",
      "metadata": {
        "id": "view-in-github",
        "colab_type": "text"
      },
      "source": [
        "<a href=\"https://colab.research.google.com/github/manojkhara/data-science-lab/blob/main/week-3/pytorch/4%20RNN%20using%20pytorch.ipynb\" target=\"_parent\"><img src=\"https://colab.research.google.com/assets/colab-badge.svg\" alt=\"Open In Colab\"/></a>"
      ]
    },
    {
      "cell_type": "code",
      "execution_count": null,
      "metadata": {
        "colab": {
          "base_uri": "https://localhost:8080/"
        },
        "collapsed": true,
        "id": "khM2n-RBYTcS",
        "outputId": "596d07ae-9f11-4ea1-ade7-cd548654e03e"
      },
      "outputs": [
        {
          "output_type": "stream",
          "name": "stdout",
          "text": [
            "Collecting torch==2.0.1\n",
            "  Downloading torch-2.0.1-cp311-cp311-manylinux1_x86_64.whl.metadata (24 kB)\n",
            "Collecting torchtext==0.15.2\n",
            "  Downloading torchtext-0.15.2-cp311-cp311-manylinux1_x86_64.whl.metadata (7.4 kB)\n",
            "Collecting portalocker==2.8.2\n",
            "  Downloading portalocker-2.8.2-py3-none-any.whl.metadata (8.5 kB)\n",
            "Requirement already satisfied: filelock in /usr/local/lib/python3.11/dist-packages (from torch==2.0.1) (3.18.0)\n",
            "Requirement already satisfied: typing-extensions in /usr/local/lib/python3.11/dist-packages (from torch==2.0.1) (4.13.2)\n",
            "Requirement already satisfied: sympy in /usr/local/lib/python3.11/dist-packages (from torch==2.0.1) (1.13.1)\n",
            "Requirement already satisfied: networkx in /usr/local/lib/python3.11/dist-packages (from torch==2.0.1) (3.4.2)\n",
            "Requirement already satisfied: jinja2 in /usr/local/lib/python3.11/dist-packages (from torch==2.0.1) (3.1.6)\n",
            "Collecting nvidia-cuda-nvrtc-cu11==11.7.99 (from torch==2.0.1)\n",
            "  Downloading nvidia_cuda_nvrtc_cu11-11.7.99-2-py3-none-manylinux1_x86_64.whl.metadata (1.5 kB)\n",
            "Collecting nvidia-cuda-runtime-cu11==11.7.99 (from torch==2.0.1)\n",
            "  Downloading nvidia_cuda_runtime_cu11-11.7.99-py3-none-manylinux1_x86_64.whl.metadata (1.6 kB)\n",
            "Collecting nvidia-cuda-cupti-cu11==11.7.101 (from torch==2.0.1)\n",
            "  Downloading nvidia_cuda_cupti_cu11-11.7.101-py3-none-manylinux1_x86_64.whl.metadata (1.6 kB)\n",
            "Collecting nvidia-cudnn-cu11==8.5.0.96 (from torch==2.0.1)\n",
            "  Downloading nvidia_cudnn_cu11-8.5.0.96-2-py3-none-manylinux1_x86_64.whl.metadata (1.6 kB)\n",
            "Collecting nvidia-cublas-cu11==11.10.3.66 (from torch==2.0.1)\n",
            "  Downloading nvidia_cublas_cu11-11.10.3.66-py3-none-manylinux1_x86_64.whl.metadata (1.6 kB)\n",
            "Collecting nvidia-cufft-cu11==10.9.0.58 (from torch==2.0.1)\n",
            "  Downloading nvidia_cufft_cu11-10.9.0.58-py3-none-manylinux2014_x86_64.whl.metadata (1.5 kB)\n",
            "Collecting nvidia-curand-cu11==10.2.10.91 (from torch==2.0.1)\n",
            "  Downloading nvidia_curand_cu11-10.2.10.91-py3-none-manylinux1_x86_64.whl.metadata (1.6 kB)\n",
            "Collecting nvidia-cusolver-cu11==11.4.0.1 (from torch==2.0.1)\n",
            "  Downloading nvidia_cusolver_cu11-11.4.0.1-2-py3-none-manylinux1_x86_64.whl.metadata (1.6 kB)\n",
            "Collecting nvidia-cusparse-cu11==11.7.4.91 (from torch==2.0.1)\n",
            "  Downloading nvidia_cusparse_cu11-11.7.4.91-py3-none-manylinux1_x86_64.whl.metadata (1.6 kB)\n",
            "Collecting nvidia-nccl-cu11==2.14.3 (from torch==2.0.1)\n",
            "  Downloading nvidia_nccl_cu11-2.14.3-py3-none-manylinux1_x86_64.whl.metadata (1.8 kB)\n",
            "Collecting nvidia-nvtx-cu11==11.7.91 (from torch==2.0.1)\n",
            "  Downloading nvidia_nvtx_cu11-11.7.91-py3-none-manylinux1_x86_64.whl.metadata (1.7 kB)\n",
            "Collecting triton==2.0.0 (from torch==2.0.1)\n",
            "  Downloading triton-2.0.0-1-cp311-cp311-manylinux2014_x86_64.manylinux_2_17_x86_64.whl.metadata (1.0 kB)\n",
            "Requirement already satisfied: tqdm in /usr/local/lib/python3.11/dist-packages (from torchtext==0.15.2) (4.67.1)\n",
            "Requirement already satisfied: requests in /usr/local/lib/python3.11/dist-packages (from torchtext==0.15.2) (2.32.3)\n",
            "Requirement already satisfied: numpy in /usr/local/lib/python3.11/dist-packages (from torchtext==0.15.2) (2.0.2)\n",
            "Collecting torchdata==0.6.1 (from torchtext==0.15.2)\n",
            "  Downloading torchdata-0.6.1-cp311-cp311-manylinux_2_17_x86_64.manylinux2014_x86_64.whl.metadata (13 kB)\n",
            "Requirement already satisfied: setuptools in /usr/local/lib/python3.11/dist-packages (from nvidia-cublas-cu11==11.10.3.66->torch==2.0.1) (75.2.0)\n",
            "Requirement already satisfied: wheel in /usr/local/lib/python3.11/dist-packages (from nvidia-cublas-cu11==11.10.3.66->torch==2.0.1) (0.45.1)\n",
            "Requirement already satisfied: urllib3>=1.25 in /usr/local/lib/python3.11/dist-packages (from torchdata==0.6.1->torchtext==0.15.2) (2.3.0)\n",
            "Requirement already satisfied: cmake in /usr/local/lib/python3.11/dist-packages (from triton==2.0.0->torch==2.0.1) (3.31.6)\n",
            "Collecting lit (from triton==2.0.0->torch==2.0.1)\n",
            "  Downloading lit-18.1.8-py3-none-any.whl.metadata (2.5 kB)\n",
            "Requirement already satisfied: MarkupSafe>=2.0 in /usr/local/lib/python3.11/dist-packages (from jinja2->torch==2.0.1) (3.0.2)\n",
            "Requirement already satisfied: charset-normalizer<4,>=2 in /usr/local/lib/python3.11/dist-packages (from requests->torchtext==0.15.2) (3.4.1)\n",
            "Requirement already satisfied: idna<4,>=2.5 in /usr/local/lib/python3.11/dist-packages (from requests->torchtext==0.15.2) (3.10)\n",
            "Requirement already satisfied: certifi>=2017.4.17 in /usr/local/lib/python3.11/dist-packages (from requests->torchtext==0.15.2) (2025.1.31)\n",
            "Requirement already satisfied: mpmath<1.4,>=1.1.0 in /usr/local/lib/python3.11/dist-packages (from sympy->torch==2.0.1) (1.3.0)\n",
            "Downloading torch-2.0.1-cp311-cp311-manylinux1_x86_64.whl (619.9 MB)\n",
            "\u001b[2K   \u001b[90m━━━━━━━━━━━━━━━━━━━━━━━━━━━━━━━━━━━━━━━━\u001b[0m \u001b[32m619.9/619.9 MB\u001b[0m \u001b[31m2.8 MB/s\u001b[0m eta \u001b[36m0:00:00\u001b[0m\n",
            "\u001b[?25hDownloading torchtext-0.15.2-cp311-cp311-manylinux1_x86_64.whl (2.0 MB)\n",
            "\u001b[2K   \u001b[90m━━━━━━━━━━━━━━━━━━━━━━━━━━━━━━━━━━━━━━━━\u001b[0m \u001b[32m2.0/2.0 MB\u001b[0m \u001b[31m31.1 MB/s\u001b[0m eta \u001b[36m0:00:00\u001b[0m\n",
            "\u001b[?25hDownloading portalocker-2.8.2-py3-none-any.whl (17 kB)\n",
            "Downloading nvidia_cublas_cu11-11.10.3.66-py3-none-manylinux1_x86_64.whl (317.1 MB)\n",
            "\u001b[2K   \u001b[90m━━━━━━━━━━━━━━━━━━━━━━━━━━━━━━━━━━━━━━━━\u001b[0m \u001b[32m317.1/317.1 MB\u001b[0m \u001b[31m5.0 MB/s\u001b[0m eta \u001b[36m0:00:00\u001b[0m\n",
            "\u001b[?25hDownloading nvidia_cuda_cupti_cu11-11.7.101-py3-none-manylinux1_x86_64.whl (11.8 MB)\n",
            "\u001b[2K   \u001b[90m━━━━━━━━━━━━━━━━━━━━━━━━━━━━━━━━━━━━━━━━\u001b[0m \u001b[32m11.8/11.8 MB\u001b[0m \u001b[31m106.0 MB/s\u001b[0m eta \u001b[36m0:00:00\u001b[0m\n",
            "\u001b[?25hDownloading nvidia_cuda_nvrtc_cu11-11.7.99-2-py3-none-manylinux1_x86_64.whl (21.0 MB)\n",
            "\u001b[2K   \u001b[90m━━━━━━━━━━━━━━━━━━━━━━━━━━━━━━━━━━━━━━━━\u001b[0m \u001b[32m21.0/21.0 MB\u001b[0m \u001b[31m92.1 MB/s\u001b[0m eta \u001b[36m0:00:00\u001b[0m\n",
            "\u001b[?25hDownloading nvidia_cuda_runtime_cu11-11.7.99-py3-none-manylinux1_x86_64.whl (849 kB)\n",
            "\u001b[2K   \u001b[90m━━━━━━━━━━━━━━━━━━━━━━━━━━━━━━━━━━━━━━━━\u001b[0m \u001b[32m849.3/849.3 kB\u001b[0m \u001b[31m51.8 MB/s\u001b[0m eta \u001b[36m0:00:00\u001b[0m\n",
            "\u001b[?25hDownloading nvidia_cudnn_cu11-8.5.0.96-2-py3-none-manylinux1_x86_64.whl (557.1 MB)\n",
            "\u001b[2K   \u001b[90m━━━━━━━━━━━━━━━━━━━━━━━━━━━━━━━━━━━━━━━━\u001b[0m \u001b[32m557.1/557.1 MB\u001b[0m \u001b[31m2.2 MB/s\u001b[0m eta \u001b[36m0:00:00\u001b[0m\n",
            "\u001b[?25hDownloading nvidia_cufft_cu11-10.9.0.58-py3-none-manylinux2014_x86_64.whl (168.4 MB)\n",
            "\u001b[2K   \u001b[90m━━━━━━━━━━━━━━━━━━━━━━━━━━━━━━━━━━━━━━━━\u001b[0m \u001b[32m168.4/168.4 MB\u001b[0m \u001b[31m6.0 MB/s\u001b[0m eta \u001b[36m0:00:00\u001b[0m\n",
            "\u001b[?25hDownloading nvidia_curand_cu11-10.2.10.91-py3-none-manylinux1_x86_64.whl (54.6 MB)\n",
            "\u001b[2K   \u001b[90m━━━━━━━━━━━━━━━━━━━━━━━━━━━━━━━━━━━━━━━━\u001b[0m \u001b[32m54.6/54.6 MB\u001b[0m \u001b[31m12.1 MB/s\u001b[0m eta \u001b[36m0:00:00\u001b[0m\n",
            "\u001b[?25hDownloading nvidia_cusolver_cu11-11.4.0.1-2-py3-none-manylinux1_x86_64.whl (102.6 MB)\n",
            "\u001b[2K   \u001b[90m━━━━━━━━━━━━━━━━━━━━━━━━━━━━━━━━━━━━━━━━\u001b[0m \u001b[32m102.6/102.6 MB\u001b[0m \u001b[31m8.2 MB/s\u001b[0m eta \u001b[36m0:00:00\u001b[0m\n",
            "\u001b[?25hDownloading nvidia_cusparse_cu11-11.7.4.91-py3-none-manylinux1_x86_64.whl (173.2 MB)\n",
            "\u001b[2K   \u001b[90m━━━━━━━━━━━━━━━━━━━━━━━━━━━━━━━━━━━━━━━━\u001b[0m \u001b[32m173.2/173.2 MB\u001b[0m \u001b[31m6.3 MB/s\u001b[0m eta \u001b[36m0:00:00\u001b[0m\n",
            "\u001b[?25hDownloading nvidia_nccl_cu11-2.14.3-py3-none-manylinux1_x86_64.whl (177.1 MB)\n",
            "\u001b[2K   \u001b[90m━━━━━━━━━━━━━━━━━━━━━━━━━━━━━━━━━━━━━━━━\u001b[0m \u001b[32m177.1/177.1 MB\u001b[0m \u001b[31m6.3 MB/s\u001b[0m eta \u001b[36m0:00:00\u001b[0m\n",
            "\u001b[?25hDownloading nvidia_nvtx_cu11-11.7.91-py3-none-manylinux1_x86_64.whl (98 kB)\n",
            "\u001b[2K   \u001b[90m━━━━━━━━━━━━━━━━━━━━━━━━━━━━━━━━━━━━━━━━\u001b[0m \u001b[32m98.6/98.6 kB\u001b[0m \u001b[31m9.1 MB/s\u001b[0m eta \u001b[36m0:00:00\u001b[0m\n",
            "\u001b[?25hDownloading torchdata-0.6.1-cp311-cp311-manylinux_2_17_x86_64.manylinux2014_x86_64.whl (4.6 MB)\n",
            "\u001b[2K   \u001b[90m━━━━━━━━━━━━━━━━━━━━━━━━━━━━━━━━━━━━━━━━\u001b[0m \u001b[32m4.6/4.6 MB\u001b[0m \u001b[31m105.5 MB/s\u001b[0m eta \u001b[36m0:00:00\u001b[0m\n",
            "\u001b[?25hDownloading triton-2.0.0-1-cp311-cp311-manylinux2014_x86_64.manylinux_2_17_x86_64.whl (63.3 MB)\n",
            "\u001b[2K   \u001b[90m━━━━━━━━━━━━━━━━━━━━━━━━━━━━━━━━━━━━━━━━\u001b[0m \u001b[32m63.3/63.3 MB\u001b[0m \u001b[31m12.4 MB/s\u001b[0m eta \u001b[36m0:00:00\u001b[0m\n",
            "\u001b[?25hDownloading lit-18.1.8-py3-none-any.whl (96 kB)\n",
            "\u001b[2K   \u001b[90m━━━━━━━━━━━━━━━━━━━━━━━━━━━━━━━━━━━━━━━━\u001b[0m \u001b[32m96.4/96.4 kB\u001b[0m \u001b[31m9.1 MB/s\u001b[0m eta \u001b[36m0:00:00\u001b[0m\n",
            "\u001b[?25hInstalling collected packages: lit, portalocker, nvidia-nvtx-cu11, nvidia-nccl-cu11, nvidia-cusparse-cu11, nvidia-curand-cu11, nvidia-cufft-cu11, nvidia-cuda-runtime-cu11, nvidia-cuda-nvrtc-cu11, nvidia-cuda-cupti-cu11, nvidia-cublas-cu11, nvidia-cusolver-cu11, nvidia-cudnn-cu11, triton, torch, torchdata, torchtext\n",
            "  Attempting uninstall: triton\n",
            "    Found existing installation: triton 3.2.0\n",
            "    Uninstalling triton-3.2.0:\n",
            "      Successfully uninstalled triton-3.2.0\n",
            "  Attempting uninstall: torch\n",
            "    Found existing installation: torch 2.6.0+cu124\n",
            "    Uninstalling torch-2.6.0+cu124:\n",
            "      Successfully uninstalled torch-2.6.0+cu124\n",
            "\u001b[31mERROR: pip's dependency resolver does not currently take into account all the packages that are installed. This behaviour is the source of the following dependency conflicts.\n",
            "torchvision 0.21.0+cu124 requires torch==2.6.0, but you have torch 2.0.1 which is incompatible.\n",
            "torchaudio 2.6.0+cu124 requires torch==2.6.0, but you have torch 2.0.1 which is incompatible.\u001b[0m\u001b[31m\n",
            "\u001b[0mSuccessfully installed lit-18.1.8 nvidia-cublas-cu11-11.10.3.66 nvidia-cuda-cupti-cu11-11.7.101 nvidia-cuda-nvrtc-cu11-11.7.99 nvidia-cuda-runtime-cu11-11.7.99 nvidia-cudnn-cu11-8.5.0.96 nvidia-cufft-cu11-10.9.0.58 nvidia-curand-cu11-10.2.10.91 nvidia-cusolver-cu11-11.4.0.1 nvidia-cusparse-cu11-11.7.4.91 nvidia-nccl-cu11-2.14.3 nvidia-nvtx-cu11-11.7.91 portalocker-2.8.2 torch-2.0.1 torchdata-0.6.1 torchtext-0.15.2 triton-2.0.0\n"
          ]
        }
      ],
      "source": [
        "!pip install torch==2.0.1 torchtext==0.15.2 portalocker==2.8.2"
      ]
    },
    {
      "cell_type": "code",
      "source": [
        "#1 get data\n",
        "from torchtext.datasets import IMDB\n",
        "train_iter = IMDB(split= \"train\")\n",
        "test_iter = IMDB(split= \"test\")\n"
      ],
      "metadata": {
        "id": "CzwrSyG1r3K2"
      },
      "execution_count": null,
      "outputs": []
    },
    {
      "cell_type": "code",
      "source": [
        "import numpy as np\n",
        "\n",
        "targets = []\n",
        "for x in train_iter:\n",
        "    targets.append(x[0])\n",
        "\n",
        "print(len(targets))\n",
        "print(np.unique(targets, return_counts=True))"
      ],
      "metadata": {
        "colab": {
          "base_uri": "https://localhost:8080/"
        },
        "id": "zrrthfdfTS0H",
        "outputId": "441c7d32-cc4c-4c97-d657-2b0fc7c95ad7"
      },
      "execution_count": null,
      "outputs": [
        {
          "output_type": "stream",
          "name": "stdout",
          "text": [
            "25000\n",
            "(array([1, 2]), array([12500, 12500]))\n"
          ]
        }
      ]
    },
    {
      "cell_type": "code",
      "source": [
        "targets = []\n",
        "for x in test_iter:\n",
        "    targets.append(x[0])\n",
        "\n",
        "print(len(targets))\n",
        "print(np.unique(targets, return_counts=True))"
      ],
      "metadata": {
        "colab": {
          "base_uri": "https://localhost:8080/"
        },
        "id": "KI6gRGsCUnIb",
        "outputId": "d863dba6-b8c0-4b51-fdd5-aeb230ccd803"
      },
      "execution_count": null,
      "outputs": [
        {
          "output_type": "stream",
          "name": "stdout",
          "text": [
            "25000\n",
            "(array([1, 2]), array([12500, 12500]))\n"
          ]
        }
      ]
    },
    {
      "cell_type": "code",
      "source": [
        "train_loader = DataLoader(train_iter, batch_size=16, shuffle=True)"
      ],
      "metadata": {
        "id": "d8Th1zn8VJGY"
      },
      "execution_count": null,
      "outputs": []
    },
    {
      "cell_type": "code",
      "source": [
        "train_loader"
      ],
      "metadata": {
        "colab": {
          "base_uri": "https://localhost:8080/",
          "height": 141
        },
        "id": "FHNqJYSPVViz",
        "outputId": "5181eb7a-e069-44ef-d548-afc6f764f59c"
      },
      "execution_count": null,
      "outputs": [
        {
          "output_type": "error",
          "ename": "TypeError",
          "evalue": "'DataLoader' object is not subscriptable",
          "traceback": [
            "\u001b[0;31m---------------------------------------------------------------------------\u001b[0m",
            "\u001b[0;31mTypeError\u001b[0m                                 Traceback (most recent call last)",
            "\u001b[0;32m<ipython-input-22-e2ab3ea573f3>\u001b[0m in \u001b[0;36m<cell line: 0>\u001b[0;34m()\u001b[0m\n\u001b[0;32m----> 1\u001b[0;31m \u001b[0mtrain_loader\u001b[0m\u001b[0;34m[\u001b[0m\u001b[0;36m0\u001b[0m\u001b[0;34m]\u001b[0m\u001b[0;34m\u001b[0m\u001b[0;34m\u001b[0m\u001b[0m\n\u001b[0m",
            "\u001b[0;31mTypeError\u001b[0m: 'DataLoader' object is not subscriptable"
          ]
        }
      ]
    },
    {
      "cell_type": "code",
      "source": [
        "for labels, features in train_iter:\n",
        "  print(labels)\n",
        "  print(features)\n",
        "  break"
      ],
      "metadata": {
        "colab": {
          "base_uri": "https://localhost:8080/"
        },
        "id": "C5FsFhrOsyvD",
        "outputId": "dd2a2031-6095-421d-a84c-78e7b7f70cfb"
      },
      "execution_count": null,
      "outputs": [
        {
          "output_type": "stream",
          "name": "stdout",
          "text": [
            "1\n",
            "I rented I AM CURIOUS-YELLOW from my video store because of all the controversy that surrounded it when it was first released in 1967. I also heard that at first it was seized by U.S. customs if it ever tried to enter this country, therefore being a fan of films considered \"controversial\" I really had to see this for myself.<br /><br />The plot is centered around a young Swedish drama student named Lena who wants to learn everything she can about life. In particular she wants to focus her attentions to making some sort of documentary on what the average Swede thought about certain political issues such as the Vietnam War and race issues in the United States. In between asking politicians and ordinary denizens of Stockholm about their opinions on politics, she has sex with her drama teacher, classmates, and married men.<br /><br />What kills me about I AM CURIOUS-YELLOW is that 40 years ago, this was considered pornographic. Really, the sex and nudity scenes are few and far between, even then it's not shot like some cheaply made porno. While my countrymen mind find it shocking, in reality sex and nudity are a major staple in Swedish cinema. Even Ingmar Bergman, arguably their answer to good old boy John Ford, had sex scenes in his films.<br /><br />I do commend the filmmakers for the fact that any sex shown in the film is shown for artistic purposes rather than just to shock people and make money to be shown in pornographic theaters in America. I AM CURIOUS-YELLOW is a good film for anyone wanting to study the meat and potatoes (no pun intended) of Swedish cinema. But really, this film doesn't have much of a plot.\n"
          ]
        }
      ]
    },
    {
      "cell_type": "code",
      "source": [
        "labels"
      ],
      "metadata": {
        "colab": {
          "base_uri": "https://localhost:8080/"
        },
        "id": "uD2gs7MMs8TS",
        "outputId": "2d74d80b-0eb6-4490-d65b-eed8e1bfdaab"
      },
      "execution_count": null,
      "outputs": [
        {
          "output_type": "execute_result",
          "data": {
            "text/plain": [
              "1"
            ]
          },
          "metadata": {},
          "execution_count": 7
        }
      ]
    },
    {
      "cell_type": "code",
      "source": [
        "features"
      ],
      "metadata": {
        "colab": {
          "base_uri": "https://localhost:8080/",
          "height": 123
        },
        "id": "0-dj615Es_94",
        "outputId": "98dc3f22-62ad-4fb9-d298-adf64cc0d124"
      },
      "execution_count": null,
      "outputs": [
        {
          "output_type": "execute_result",
          "data": {
            "text/plain": [
              "'I rented I AM CURIOUS-YELLOW from my video store because of all the controversy that surrounded it when it was first released in 1967. I also heard that at first it was seized by U.S. customs if it ever tried to enter this country, therefore being a fan of films considered \"controversial\" I really had to see this for myself.<br /><br />The plot is centered around a young Swedish drama student named Lena who wants to learn everything she can about life. In particular she wants to focus her attentions to making some sort of documentary on what the average Swede thought about certain political issues such as the Vietnam War and race issues in the United States. In between asking politicians and ordinary denizens of Stockholm about their opinions on politics, she has sex with her drama teacher, classmates, and married men.<br /><br />What kills me about I AM CURIOUS-YELLOW is that 40 years ago, this was considered pornographic. Really, the sex and nudity scenes are few and far between, even then it\\'s not shot like some cheaply made porno. While my countrymen mind find it shocking, in reality sex and nudity are a major staple in Swedish cinema. Even Ingmar Bergman, arguably their answer to good old boy John Ford, had sex scenes in his films.<br /><br />I do commend the filmmakers for the fact that any sex shown in the film is shown for artistic purposes rather than just to shock people and make money to be shown in pornographic theaters in America. I AM CURIOUS-YELLOW is a good film for anyone wanting to study the meat and potatoes (no pun intended) of Swedish cinema. But really, this film doesn\\'t have much of a plot.'"
            ],
            "application/vnd.google.colaboratory.intrinsic+json": {
              "type": "string"
            }
          },
          "metadata": {},
          "execution_count": 8
        }
      ]
    },
    {
      "cell_type": "code",
      "source": [
        "#2 Tokenizer Function\n",
        "from torchtext.data.utils import  get_tokenizer\n",
        "tokenizer = get_tokenizer(\"basic_english\")"
      ],
      "metadata": {
        "id": "5BPLwRlCtKDa"
      },
      "execution_count": null,
      "outputs": []
    },
    {
      "cell_type": "code",
      "source": [
        "#3 Build a Vocabulary\n",
        "from torchtext.vocab import build_vocab_from_iterator\n",
        "def yield_tokens(data_iter):\n",
        "  for _, text in data_iter:\n",
        "    yield tokenizer(text)\n",
        "\n",
        "vocab = build_vocab_from_iterator(yield_tokens(train_iter), specials=[\"<pad>\", \"<unk>\"])\n",
        "vocab.set_default_index(vocab[\"<unk>\"])"
      ],
      "metadata": {
        "id": "XDoNaa4Vt052",
        "colab": {
          "base_uri": "https://localhost:8080/"
        },
        "outputId": "14173e7c-45ff-4647-edd2-631ca1991d47"
      },
      "execution_count": null,
      "outputs": [
        {
          "output_type": "stream",
          "name": "stderr",
          "text": [
            "/usr/local/lib/python3.11/dist-packages/torch/utils/data/datapipes/iter/combining.py:297: UserWarning: Some child DataPipes are not exhausted when __iter__ is called. We are resetting the buffer and each child DataPipe will read from the start again.\n",
            "  warnings.warn(\"Some child DataPipes are not exhausted when __iter__ is called. We are resetting \"\n"
          ]
        }
      ]
    },
    {
      "cell_type": "code",
      "source": [
        "len(vocab)"
      ],
      "metadata": {
        "colab": {
          "base_uri": "https://localhost:8080/"
        },
        "id": "cVv4i-wqvRIp",
        "outputId": "f6ef12e4-97e1-45c6-aabd-3038c917b548"
      },
      "execution_count": null,
      "outputs": [
        {
          "output_type": "execute_result",
          "data": {
            "text/plain": [
              "100684"
            ]
          },
          "metadata": {},
          "execution_count": 24
        }
      ]
    },
    {
      "cell_type": "code",
      "source": [
        "vocab[\"<pad>\"]"
      ],
      "metadata": {
        "colab": {
          "base_uri": "https://localhost:8080/"
        },
        "id": "AulhaChDveZp",
        "outputId": "e90f2454-519d-43d7-fb25-91fa4d8f46f1"
      },
      "execution_count": null,
      "outputs": [
        {
          "output_type": "execute_result",
          "data": {
            "text/plain": [
              "0"
            ]
          },
          "metadata": {},
          "execution_count": 26
        }
      ]
    },
    {
      "cell_type": "code",
      "source": [
        "vocab[\"i\"]"
      ],
      "metadata": {
        "colab": {
          "base_uri": "https://localhost:8080/"
        },
        "id": "WF85m2z-vajo",
        "outputId": "d552d132-391f-4628-8853-b05a0974ac4c"
      },
      "execution_count": null,
      "outputs": [
        {
          "output_type": "execute_result",
          "data": {
            "text/plain": [
              "12"
            ]
          },
          "metadata": {},
          "execution_count": 25
        }
      ]
    },
    {
      "cell_type": "code",
      "source": [
        "vocab[\"controversy\"]"
      ],
      "metadata": {
        "colab": {
          "base_uri": "https://localhost:8080/"
        },
        "id": "h9Ra6J67vwus",
        "outputId": "49bde25e-b690-4889-aef7-e9da2639aae7"
      },
      "execution_count": null,
      "outputs": [
        {
          "output_type": "execute_result",
          "data": {
            "text/plain": [
              "7332"
            ]
          },
          "metadata": {},
          "execution_count": 27
        }
      ]
    },
    {
      "cell_type": "code",
      "source": [],
      "metadata": {
        "id": "JftWtdzQvzKy"
      },
      "execution_count": null,
      "outputs": []
    },
    {
      "cell_type": "code",
      "source": [
        "def yield_tokens(data_iter):\n",
        "  for _, text in data_iter:\n",
        "    yield tokenizer(text)\n"
      ],
      "metadata": {
        "id": "OxzRbBsHt9yF"
      },
      "execution_count": null,
      "outputs": []
    },
    {
      "cell_type": "code",
      "source": [
        "# next(yielding)\n",
        "# next(yielding)\n",
        "# next(yielding)"
      ],
      "metadata": {
        "id": "RznizGbcuir2"
      },
      "execution_count": null,
      "outputs": []
    },
    {
      "cell_type": "code",
      "source": [
        "vocab(tokenizer(\"this movie was great\"))"
      ],
      "metadata": {
        "colab": {
          "base_uri": "https://localhost:8080/"
        },
        "id": "bvvQg2yqxMmh",
        "outputId": "c92f8577-b6f7-4141-b8c0-e1fd4237df51"
      },
      "execution_count": null,
      "outputs": [
        {
          "output_type": "execute_result",
          "data": {
            "text/plain": [
              "[14, 18, 17, 148]"
            ]
          },
          "metadata": {},
          "execution_count": 30
        }
      ]
    },
    {
      "cell_type": "code",
      "source": [
        "import torch\n",
        "from torch import nn, optim\n",
        "from torch.nn.utils.rnn import pad_sequence"
      ],
      "metadata": {
        "id": "rvguJUlNxhPo"
      },
      "execution_count": null,
      "outputs": []
    },
    {
      "cell_type": "code",
      "source": [
        "label_changer = lambda label : 0 if  label==1 else 1"
      ],
      "metadata": {
        "id": "DtV_tnoC-FPc"
      },
      "execution_count": null,
      "outputs": []
    },
    {
      "cell_type": "code",
      "source": [
        "#4 Function to convert a batch of text data into numbers using the tokenizer and vocabulary\n",
        "# [this movie was great] ---> [0, 345, 56, 1993]\n",
        "\n",
        "def collate_batch(batch):\n",
        "  label_list, text_list = [], []\n",
        "  for label, text in batch:\n",
        "    label_list.append(label_changer(label))\n",
        "    preprocessed_text = torch.tensor(vocab(tokenizer(text)))\n",
        "    text_list.append(preprocessed_text)\n",
        "\n",
        "  label_list = torch.tensor(label_list)\n",
        "\n",
        "  text_list= pad_sequence(text_list, batch_first=True)\n",
        "  return label_list, text_list\n"
      ],
      "metadata": {
        "id": "18xN8vR9whot"
      },
      "execution_count": null,
      "outputs": []
    },
    {
      "cell_type": "code",
      "source": [
        "#5 DataLoader\n",
        "from torch.utils.data import DataLoader\n",
        "train_loader = DataLoader(train_iter, batch_size=16, shuffle=True, collate_fn=collate_batch)\n",
        "test_loader = DataLoader(test_iter, batch_size=16, shuffle=True, collate_fn=collate_batch)\n"
      ],
      "metadata": {
        "id": "40SJ7CUOyKg9"
      },
      "execution_count": null,
      "outputs": []
    },
    {
      "cell_type": "code",
      "source": [
        "tensor = torch.randn(4, 16, 5) # 4 movies , 16 words , 5 size embeding\n",
        "tensor\n"
      ],
      "metadata": {
        "colab": {
          "base_uri": "https://localhost:8080/"
        },
        "id": "D4rqFwDHz24B",
        "outputId": "aa36e81a-1f20-4720-8c3e-cab3e0981f9e"
      },
      "execution_count": null,
      "outputs": [
        {
          "output_type": "execute_result",
          "data": {
            "text/plain": [
              "tensor([[[ 1.7452e+00,  1.1915e+00,  1.0513e-01,  1.5350e+00,  6.8558e-01],\n",
              "         [ 5.4954e-01,  2.3717e-02, -5.2975e-03, -1.5760e+00, -1.9034e-01],\n",
              "         [-8.6543e-02, -6.3622e-02,  5.0911e-01, -7.9676e-01,  1.0452e+00],\n",
              "         [ 7.1784e-01, -7.7452e-01,  5.6181e-01, -6.6701e-01,  3.7154e-01],\n",
              "         [ 1.1136e+00, -1.3947e+00,  1.1086e+00, -3.6365e-01,  1.0847e+00],\n",
              "         [-2.0389e-01,  4.7250e-01,  2.5203e+00,  8.6000e-01, -1.0914e+00],\n",
              "         [ 5.2231e-01, -2.9732e-01,  1.3578e+00,  1.6107e+00,  5.7232e-01],\n",
              "         [ 4.3576e-01,  2.0664e-01,  2.7528e-01,  2.3408e+00,  1.1571e-01],\n",
              "         [-7.3007e-01, -2.1055e-01,  3.1924e-01, -1.6216e+00,  1.1819e+00],\n",
              "         [-8.5004e-01, -7.4053e-01,  1.3104e-01, -4.5072e-01, -7.9320e-01],\n",
              "         [ 5.2948e-02, -1.1229e-01, -8.9678e-02, -7.2127e-01,  3.6742e-01],\n",
              "         [ 1.2762e+00, -1.4445e+00, -9.0989e-02,  1.6072e-01,  1.8419e-01],\n",
              "         [ 3.7475e-02, -2.3541e-01,  1.0243e+00, -3.2463e-01,  1.1583e+00],\n",
              "         [-1.0676e+00, -6.7346e-01, -2.0435e-01, -1.4789e-01,  1.4269e+00],\n",
              "         [ 1.8562e-01, -1.1863e+00,  1.1764e+00, -3.8751e-01, -2.8803e-01],\n",
              "         [-2.1164e-01, -3.4845e-01,  3.6868e-01,  2.9270e-01,  2.8227e-01]],\n",
              "\n",
              "        [[ 5.5964e-01, -3.0591e-01, -1.6335e-01, -1.3985e+00,  1.5148e+00],\n",
              "         [-3.2034e-01, -8.7098e-01, -4.6590e-01, -1.0458e-01, -1.2790e+00],\n",
              "         [ 2.2856e-01,  5.6094e-01, -9.9853e-01,  1.4668e+00,  7.3393e-01],\n",
              "         [ 8.0701e-01,  1.0856e+00, -1.3828e-02,  1.7142e-01,  6.3287e-01],\n",
              "         [-3.5771e-01, -1.4355e-01, -6.8578e-01, -5.4341e-01,  7.1584e-01],\n",
              "         [ 4.7111e-01,  2.1690e+00,  6.8830e-02, -4.3219e-01, -9.9666e-01],\n",
              "         [ 1.2650e+00, -7.7109e-01, -6.0006e-02, -4.6398e-01,  3.5992e-01],\n",
              "         [ 8.8449e-01,  5.2694e-01,  9.7821e-01,  6.9974e-01, -1.4336e+00],\n",
              "         [ 4.2377e-02, -1.1574e+00, -1.6450e-01, -1.2856e+00,  1.1031e+00],\n",
              "         [ 1.0317e+00, -1.0245e+00, -4.1200e-01, -5.1649e-01,  1.1332e+00],\n",
              "         [-5.7120e-02,  4.3887e-01, -4.3320e-01, -1.6264e+00, -7.4626e-01],\n",
              "         [-2.7598e-01, -5.7185e-01, -5.0551e-01,  1.7314e+00, -2.8043e-01],\n",
              "         [-2.1935e-01,  2.2078e+00,  5.5559e-01,  2.2359e-01, -9.4284e-02],\n",
              "         [ 1.3101e-01, -4.3089e-01,  3.2200e-01, -3.9848e+00, -4.8590e-01],\n",
              "         [-3.6687e-01,  6.0195e-01,  6.9070e-01,  1.0514e+00,  1.6113e+00],\n",
              "         [-2.3213e-01,  4.0619e-01, -1.5481e+00, -1.7274e+00, -6.9081e-01]],\n",
              "\n",
              "        [[ 6.0899e-01, -1.7024e+00,  9.5701e-01, -8.1992e-01, -1.4366e+00],\n",
              "         [-3.9478e-01,  4.0548e-01, -1.7659e-01, -1.8660e+00, -1.3461e+00],\n",
              "         [-1.5040e-01, -1.0348e+00,  1.3180e+00,  1.1065e+00, -7.3077e-01],\n",
              "         [ 5.2666e-01,  1.1992e+00, -3.5988e-01, -2.9501e-01,  2.0795e+00],\n",
              "         [-6.7042e-02, -1.7586e-01,  2.0439e+00, -7.6140e-01,  7.2035e-01],\n",
              "         [-7.1960e-01, -2.4923e-01, -1.7938e+00,  8.9301e-02,  6.5535e-01],\n",
              "         [ 3.6758e-01, -1.5691e+00,  1.0057e+00,  1.4146e-03,  3.9434e-01],\n",
              "         [-2.0900e+00,  1.0799e+00, -7.9042e-03, -9.1641e-01, -1.7792e-01],\n",
              "         [ 1.1016e+00, -2.0094e-01,  1.8381e+00, -4.0227e-01,  8.5112e-01],\n",
              "         [ 2.4849e-01,  1.0068e+00, -1.6531e+00,  1.2874e+00,  7.6110e-01],\n",
              "         [ 2.9994e+00, -1.6781e-01, -4.1145e-01,  5.5409e-01, -1.3952e-01],\n",
              "         [ 1.1292e-01,  3.0677e-01,  1.6387e-01, -2.4152e+00, -4.0973e-01],\n",
              "         [-9.4221e-01,  1.3023e+00,  1.5698e+00, -1.9668e-01, -1.7904e-01],\n",
              "         [-1.9767e+00, -1.3519e-01, -3.2869e-01, -1.5618e+00, -7.9885e-02],\n",
              "         [ 1.5242e+00,  3.4323e-01,  2.7711e-01,  2.5087e+00, -7.3374e-01],\n",
              "         [ 5.5845e-01, -3.1605e-01, -1.6597e+00,  6.8897e-01, -6.2941e-01]],\n",
              "\n",
              "        [[-8.5335e-01, -1.3343e-01, -1.4178e-01, -6.4474e-01,  6.8338e-01],\n",
              "         [ 2.2749e+00, -9.3600e-01,  7.4977e-02,  1.1171e+00, -9.2734e-01],\n",
              "         [ 4.4352e-01, -1.9186e-01,  1.9825e-02,  1.1415e+00, -1.1546e+00],\n",
              "         [ 1.0790e+00, -4.4184e-01, -2.5587e-02,  6.4155e-01, -1.4958e-01],\n",
              "         [-1.1414e+00,  6.9588e-02,  4.9729e-01, -1.5275e+00, -4.1367e-01],\n",
              "         [ 1.5090e-01, -2.1054e-01, -3.3734e-01,  6.7756e-01, -2.4780e-01],\n",
              "         [ 1.8982e+00,  1.0016e+00, -9.3952e-02, -3.3206e+00, -6.1818e-01],\n",
              "         [-3.0007e+00,  9.0433e-01, -1.2904e-01,  5.6225e-01, -6.8011e-01],\n",
              "         [-2.9576e-01, -7.5863e-01, -1.2726e+00, -5.2914e-02,  2.2165e+00],\n",
              "         [-4.8208e-01,  4.9071e-01,  1.6466e+00,  1.2542e+00,  1.3833e+00],\n",
              "         [ 1.4405e+00,  5.0935e-02, -1.0110e+00,  3.9003e-01, -6.4796e-01],\n",
              "         [ 8.6895e-01, -4.7228e-01, -1.8440e-01, -8.5809e-01, -3.0392e-01],\n",
              "         [ 1.4240e+00,  1.3703e+00,  1.5980e+00,  1.2814e+00, -8.2913e-01],\n",
              "         [-5.9055e-01,  5.5920e-01, -1.3819e+00,  1.6287e+00,  4.5842e-01],\n",
              "         [-8.3238e-01,  1.1723e-01, -2.3654e+00,  3.1911e-01, -1.0054e+00],\n",
              "         [-6.9444e-01, -1.7538e+00,  1.4298e-01,  1.0922e+00,  6.8478e-01]]])"
            ]
          },
          "metadata": {},
          "execution_count": 46
        }
      ]
    },
    {
      "cell_type": "code",
      "source": [
        "rnn_layer =   nn.RNN(input_size = 5, hidden_size = 3, num_layers = 2, batch_first = True)\n",
        "states, output = rnn_layer(tensor)"
      ],
      "metadata": {
        "id": "zrREiy5AzH9O"
      },
      "execution_count": null,
      "outputs": []
    },
    {
      "cell_type": "code",
      "source": [
        "states"
      ],
      "metadata": {
        "colab": {
          "base_uri": "https://localhost:8080/"
        },
        "id": "6ETtWlaj0dkg",
        "outputId": "81a8ccf7-9357-44c0-eaad-a36e384ed71c"
      },
      "execution_count": null,
      "outputs": [
        {
          "output_type": "execute_result",
          "data": {
            "text/plain": [
              "tensor([[[-0.2309, -0.4207, -0.5205],\n",
              "         [-0.3100, -0.6584, -0.1300],\n",
              "         [-0.3125, -0.4885, -0.1085],\n",
              "         [-0.1973, -0.3946, -0.3020],\n",
              "         [-0.1725, -0.6281, -0.2283],\n",
              "         [-0.4683, -0.3084, -0.3193],\n",
              "         [-0.3994, -0.3638, -0.1657],\n",
              "         [-0.4580, -0.4381, -0.0948],\n",
              "         [-0.4366, -0.6288,  0.3149],\n",
              "         [-0.4528, -0.0827, -0.1171],\n",
              "         [-0.3233, -0.3484, -0.1343],\n",
              "         [-0.2243, -0.3750, -0.3576],\n",
              "         [-0.3701, -0.7493,  0.1338],\n",
              "         [-0.4788, -0.6296,  0.3344],\n",
              "         [-0.2813, -0.3121,  0.0136],\n",
              "         [-0.3861, -0.3789, -0.1816]],\n",
              "\n",
              "        [[-0.1640, -0.6445, -0.2545],\n",
              "         [-0.4716, -0.2812, -0.4293],\n",
              "         [-0.4749, -0.5219, -0.0224],\n",
              "         [-0.3491, -0.6711,  0.3021],\n",
              "         [-0.3708, -0.5570,  0.1871],\n",
              "         [-0.3204,  0.0849, -0.4464],\n",
              "         [-0.1745, -0.3761, -0.4716],\n",
              "         [-0.3777, -0.3244, -0.5115],\n",
              "         [-0.3564, -0.7523,  0.1945],\n",
              "         [-0.1712, -0.5166, -0.0573],\n",
              "         [-0.3102, -0.3556, -0.3504],\n",
              "         [-0.5112, -0.3812, -0.2560],\n",
              "         [-0.5442, -0.5521,  0.2877],\n",
              "         [-0.2517, -0.0284, -0.1783],\n",
              "         [-0.4011, -0.3136, -0.3160],\n",
              "         [-0.4020, -0.1781, -0.3602]],\n",
              "\n",
              "        [[-0.2415, -0.4682, -0.4220],\n",
              "         [-0.4244, -0.2148, -0.4361],\n",
              "         [-0.4941, -0.2259, -0.2952],\n",
              "         [-0.3123, -0.6281,  0.1462],\n",
              "         [-0.2935, -0.3134, -0.1674],\n",
              "         [-0.4678, -0.2659, -0.3255],\n",
              "         [-0.3925, -0.7712,  0.3880],\n",
              "         [-0.5709, -0.3438,  0.2649],\n",
              "         [-0.1521, -0.1434, -0.1620],\n",
              "         [-0.3950, -0.3536, -0.4365],\n",
              "         [-0.2564, -0.4698, -0.3113],\n",
              "         [-0.2978, -0.5336, -0.1771],\n",
              "         [-0.4808, -0.1326, -0.3025],\n",
              "         [-0.5375, -0.1228, -0.1642],\n",
              "         [-0.3397, -0.0335, -0.4252],\n",
              "         [-0.4204, -0.5418, -0.1828]],\n",
              "\n",
              "        [[-0.4609, -0.6625,  0.0008],\n",
              "         [-0.2034,  0.0109, -0.5308],\n",
              "         [-0.4534, -0.5777, -0.2547],\n",
              "         [-0.3992, -0.6863,  0.2182],\n",
              "         [-0.4778, -0.4376,  0.2111],\n",
              "         [-0.3730,  0.0487, -0.3500],\n",
              "         [-0.0893, -0.4577, -0.3279],\n",
              "         [-0.7038, -0.2792, -0.2528],\n",
              "         [-0.4612, -0.6821,  0.4874],\n",
              "         [-0.4544, -0.5510,  0.4320],\n",
              "         [-0.1776,  0.1324, -0.4974],\n",
              "         [-0.2849, -0.7024, -0.1599],\n",
              "         [-0.2976, -0.2642, -0.4123],\n",
              "         [-0.5245, -0.4349, -0.2249],\n",
              "         [-0.5486, -0.2867, -0.0640],\n",
              "         [-0.4921, -0.7082,  0.4825]]], grad_fn=<TransposeBackward1>)"
            ]
          },
          "metadata": {},
          "execution_count": 48
        }
      ]
    },
    {
      "cell_type": "code",
      "source": [
        "output[-1]"
      ],
      "metadata": {
        "colab": {
          "base_uri": "https://localhost:8080/"
        },
        "id": "Q0ew9NkZ0etd",
        "outputId": "8db036ee-f5ad-4444-dfef-1595d7dfa386"
      },
      "execution_count": null,
      "outputs": [
        {
          "output_type": "execute_result",
          "data": {
            "text/plain": [
              "tensor([[-0.3861, -0.3789, -0.1816],\n",
              "        [-0.4020, -0.1781, -0.3602],\n",
              "        [-0.4204, -0.5418, -0.1828],\n",
              "        [-0.4921, -0.7082,  0.4825]], grad_fn=<SelectBackward0>)"
            ]
          },
          "metadata": {},
          "execution_count": 50
        }
      ]
    },
    {
      "cell_type": "code",
      "source": [],
      "metadata": {
        "id": "mQYGT9wDzrsn"
      },
      "execution_count": null,
      "outputs": []
    },
    {
      "cell_type": "code",
      "source": [
        "#6 Define RNN-based model\n",
        "\n",
        "\n",
        "class senitmentModel(nn.Module):\n",
        "  def __init__(self, ):\n",
        "    super().__init__()\n",
        "    self.embedding = nn.Embedding(num_embeddings=len(vocab), embedding_dim=64)\n",
        "    self.rnn = nn.RNN(input_size=64, hidden_size=32, num_layers=1, batch_first=True)\n",
        "    self.linear = nn.Linear(in_features=32, out_features=2) # binary classification\n",
        "\n",
        "  def forward(self,text_data):\n",
        "    embedings = self.embedding(text_data)\n",
        "    states, outputs = self.rnn(embedings)\n",
        "    x =  self.linear(outputs[-1])\n",
        "    return x"
      ],
      "metadata": {
        "id": "JP-85PzOy6O1"
      },
      "execution_count": null,
      "outputs": []
    },
    {
      "cell_type": "code",
      "source": [
        "device = torch.device(\"cuda\" if torch.cuda.is_available() else \"cpu\")"
      ],
      "metadata": {
        "id": "l6vGZwEI4J1a"
      },
      "execution_count": null,
      "outputs": []
    },
    {
      "cell_type": "code",
      "source": [
        "#7 Setup training\n",
        "torch.manual_seed(42)\n",
        "\n",
        "# define the model\n",
        "model = senitmentModel()\n",
        "model.to(device)\n",
        "\n",
        "optimizer = optim.SGD(model.parameters(), lr = 0.01)\n",
        "\n",
        "EPOCHS = 32\n"
      ],
      "metadata": {
        "id": "YGq_dekg4A7Z"
      },
      "execution_count": null,
      "outputs": []
    },
    {
      "cell_type": "code",
      "source": [
        "#8 Train loop\n",
        "\n",
        "model.train()\n",
        "\n",
        "for epoch in range(EPOCHS):\n",
        "\n",
        "  loss_per_epoch = 0\n",
        "\n",
        "  for labels, features in train_loader:\n",
        "    features = features.to(device)\n",
        "    labels = labels.to(device)\n",
        "\n",
        "\n",
        "    # forward pass\n",
        "    y_pred = model.forward(features)\n",
        "\n",
        "    # loss computation\n",
        "    loss_func = nn.CrossEntropyLoss()\n",
        "    loss = loss_func(y_pred, labels)\n",
        "\n",
        "\n",
        "    #make gradients zero\n",
        "    optimizer.zero_grad()\n",
        "\n",
        "    # backward pass\n",
        "    loss.backward()\n",
        "\n",
        "    #weight updates\n",
        "    optimizer.step()\n",
        "\n",
        "    loss_per_epoch += loss\n",
        "\n",
        "  print(\"loss per epoch =\", loss_per_epoch)"
      ],
      "metadata": {
        "colab": {
          "base_uri": "https://localhost:8080/",
          "height": 547
        },
        "id": "dmoBhbOE4RCu",
        "outputId": "da609a45-6033-41e9-e4e1-95228861383d"
      },
      "execution_count": null,
      "outputs": [
        {
          "output_type": "stream",
          "name": "stdout",
          "text": [
            "loss per epoch = tensor(855.6309, device='cuda:0', grad_fn=<AddBackward0>)\n",
            "loss per epoch = tensor(862.5518, device='cuda:0', grad_fn=<AddBackward0>)\n",
            "loss per epoch = tensor(861.1894, device='cuda:0', grad_fn=<AddBackward0>)\n",
            "loss per epoch = tensor(869.3461, device='cuda:0', grad_fn=<AddBackward0>)\n",
            "loss per epoch = tensor(872.0623, device='cuda:0', grad_fn=<AddBackward0>)\n",
            "loss per epoch = tensor(869.7094, device='cuda:0', grad_fn=<AddBackward0>)\n",
            "loss per epoch = tensor(863.3782, device='cuda:0', grad_fn=<AddBackward0>)\n",
            "loss per epoch = tensor(864.2837, device='cuda:0', grad_fn=<AddBackward0>)\n",
            "loss per epoch = tensor(866.9114, device='cuda:0', grad_fn=<AddBackward0>)\n",
            "loss per epoch = tensor(868.6473, device='cuda:0', grad_fn=<AddBackward0>)\n",
            "loss per epoch = tensor(867.5347, device='cuda:0', grad_fn=<AddBackward0>)\n"
          ]
        },
        {
          "output_type": "error",
          "ename": "KeyboardInterrupt",
          "evalue": "",
          "traceback": [
            "\u001b[0;31m---------------------------------------------------------------------------\u001b[0m",
            "\u001b[0;31mKeyboardInterrupt\u001b[0m                         Traceback (most recent call last)",
            "\u001b[0;32m<ipython-input-14-964224935a44>\u001b[0m in \u001b[0;36m<cell line: 0>\u001b[0;34m()\u001b[0m\n\u001b[1;32m     24\u001b[0m \u001b[0;34m\u001b[0m\u001b[0m\n\u001b[1;32m     25\u001b[0m     \u001b[0;31m# backward pass\u001b[0m\u001b[0;34m\u001b[0m\u001b[0;34m\u001b[0m\u001b[0m\n\u001b[0;32m---> 26\u001b[0;31m     \u001b[0mloss\u001b[0m\u001b[0;34m.\u001b[0m\u001b[0mbackward\u001b[0m\u001b[0;34m(\u001b[0m\u001b[0;34m)\u001b[0m\u001b[0;34m\u001b[0m\u001b[0;34m\u001b[0m\u001b[0m\n\u001b[0m\u001b[1;32m     27\u001b[0m \u001b[0;34m\u001b[0m\u001b[0m\n\u001b[1;32m     28\u001b[0m     \u001b[0;31m#weight updates\u001b[0m\u001b[0;34m\u001b[0m\u001b[0;34m\u001b[0m\u001b[0m\n",
            "\u001b[0;32m/usr/local/lib/python3.11/dist-packages/torch/_tensor.py\u001b[0m in \u001b[0;36mbackward\u001b[0;34m(self, gradient, retain_graph, create_graph, inputs)\u001b[0m\n\u001b[1;32m    485\u001b[0m                 \u001b[0minputs\u001b[0m\u001b[0;34m=\u001b[0m\u001b[0minputs\u001b[0m\u001b[0;34m,\u001b[0m\u001b[0;34m\u001b[0m\u001b[0;34m\u001b[0m\u001b[0m\n\u001b[1;32m    486\u001b[0m             )\n\u001b[0;32m--> 487\u001b[0;31m         torch.autograd.backward(\n\u001b[0m\u001b[1;32m    488\u001b[0m             \u001b[0mself\u001b[0m\u001b[0;34m,\u001b[0m \u001b[0mgradient\u001b[0m\u001b[0;34m,\u001b[0m \u001b[0mretain_graph\u001b[0m\u001b[0;34m,\u001b[0m \u001b[0mcreate_graph\u001b[0m\u001b[0;34m,\u001b[0m \u001b[0minputs\u001b[0m\u001b[0;34m=\u001b[0m\u001b[0minputs\u001b[0m\u001b[0;34m\u001b[0m\u001b[0;34m\u001b[0m\u001b[0m\n\u001b[1;32m    489\u001b[0m         )\n",
            "\u001b[0;32m/usr/local/lib/python3.11/dist-packages/torch/autograd/__init__.py\u001b[0m in \u001b[0;36mbackward\u001b[0;34m(tensors, grad_tensors, retain_graph, create_graph, grad_variables, inputs)\u001b[0m\n\u001b[1;32m    198\u001b[0m     \u001b[0;31m# some Python versions print out the first line of a multi-line function\u001b[0m\u001b[0;34m\u001b[0m\u001b[0;34m\u001b[0m\u001b[0m\n\u001b[1;32m    199\u001b[0m     \u001b[0;31m# calls in the traceback and some print out the last line\u001b[0m\u001b[0;34m\u001b[0m\u001b[0;34m\u001b[0m\u001b[0m\n\u001b[0;32m--> 200\u001b[0;31m     Variable._execution_engine.run_backward(  # Calls into the C++ engine to run the backward pass\n\u001b[0m\u001b[1;32m    201\u001b[0m         \u001b[0mtensors\u001b[0m\u001b[0;34m,\u001b[0m \u001b[0mgrad_tensors_\u001b[0m\u001b[0;34m,\u001b[0m \u001b[0mretain_graph\u001b[0m\u001b[0;34m,\u001b[0m \u001b[0mcreate_graph\u001b[0m\u001b[0;34m,\u001b[0m \u001b[0minputs\u001b[0m\u001b[0;34m,\u001b[0m\u001b[0;34m\u001b[0m\u001b[0;34m\u001b[0m\u001b[0m\n\u001b[1;32m    202\u001b[0m         allow_unreachable=True, accumulate_grad=True)  # Calls into the C++ engine to run the backward pass\n",
            "\u001b[0;31mKeyboardInterrupt\u001b[0m: "
          ]
        }
      ]
    },
    {
      "cell_type": "code",
      "source": [
        "# evaluation on train data\n",
        "total = 0\n",
        "correct = 0\n",
        "\n",
        "with torch.no_grad():\n",
        "\n",
        "  for batch_labels, batch_features in train_loader:\n",
        "\n",
        "    # move data to gpu\n",
        "    batch_features, batch_labels = batch_features.to(device), batch_labels.to(device)\n",
        "\n",
        "    outputs = model(batch_features)\n",
        "\n",
        "    _, predicted = torch.max(outputs, 1)\n",
        "\n",
        "    total = total + batch_labels.shape[0]\n",
        "\n",
        "    correct = correct + (predicted == batch_labels).sum().item()\n",
        "\n",
        "print(correct/total)"
      ],
      "metadata": {
        "colab": {
          "base_uri": "https://localhost:8080/",
          "height": 211
        },
        "id": "iwE4HcKc6AgM",
        "outputId": "709f4ce0-0e8c-4001-9dae-e3e9faa9e49e"
      },
      "execution_count": null,
      "outputs": [
        {
          "output_type": "error",
          "ename": "AttributeError",
          "evalue": "'tuple' object has no attribute 'to'",
          "traceback": [
            "\u001b[0;31m---------------------------------------------------------------------------\u001b[0m",
            "\u001b[0;31mAttributeError\u001b[0m                            Traceback (most recent call last)",
            "\u001b[0;32m<ipython-input-23-2e2cc8ce98d1>\u001b[0m in \u001b[0;36m<cell line: 0>\u001b[0;34m()\u001b[0m\n\u001b[1;32m      8\u001b[0m \u001b[0;34m\u001b[0m\u001b[0m\n\u001b[1;32m      9\u001b[0m     \u001b[0;31m# move data to gpu\u001b[0m\u001b[0;34m\u001b[0m\u001b[0;34m\u001b[0m\u001b[0m\n\u001b[0;32m---> 10\u001b[0;31m     \u001b[0mbatch_features\u001b[0m\u001b[0;34m,\u001b[0m \u001b[0mbatch_labels\u001b[0m \u001b[0;34m=\u001b[0m \u001b[0mbatch_features\u001b[0m\u001b[0;34m.\u001b[0m\u001b[0mto\u001b[0m\u001b[0;34m(\u001b[0m\u001b[0mdevice\u001b[0m\u001b[0;34m)\u001b[0m\u001b[0;34m,\u001b[0m \u001b[0mbatch_labels\u001b[0m\u001b[0;34m.\u001b[0m\u001b[0mto\u001b[0m\u001b[0;34m(\u001b[0m\u001b[0mdevice\u001b[0m\u001b[0;34m)\u001b[0m\u001b[0;34m\u001b[0m\u001b[0;34m\u001b[0m\u001b[0m\n\u001b[0m\u001b[1;32m     11\u001b[0m \u001b[0;34m\u001b[0m\u001b[0m\n\u001b[1;32m     12\u001b[0m     \u001b[0moutputs\u001b[0m \u001b[0;34m=\u001b[0m \u001b[0mmodel\u001b[0m\u001b[0;34m(\u001b[0m\u001b[0mbatch_features\u001b[0m\u001b[0;34m)\u001b[0m\u001b[0;34m\u001b[0m\u001b[0;34m\u001b[0m\u001b[0m\n",
            "\u001b[0;31mAttributeError\u001b[0m: 'tuple' object has no attribute 'to'"
          ]
        }
      ]
    },
    {
      "cell_type": "code",
      "source": [
        "test_iter = IMDB(split= \"test\")\n",
        "test_loader = DataLoader(test_iter, batch_size=16, shuffle=True, collate_fn=collate_batch)"
      ],
      "metadata": {
        "id": "d1UTIUGv5lNF"
      },
      "execution_count": null,
      "outputs": []
    },
    {
      "cell_type": "code",
      "source": [
        "#9 evaluate on test data\n",
        "model.eval()\n",
        "\n",
        "with torch.no_grad():\n",
        "  loss_per_epoch = 0\n",
        "  for labels, features in test_loader:\n",
        "    features = features.to(device)\n",
        "    labels = labels.to(device)\n",
        "\n",
        "\n",
        "    # forward pass\n",
        "    y_pred = model.forward(features)\n",
        "\n",
        "    # loss computation\n",
        "    loss_func = nn.CrossEntropyLoss()\n",
        "    loss = loss_func(y_pred, labels)\n",
        "\n",
        "    loss_per_epoch += loss\n",
        "\n",
        "  print(\"loss per epoch =\", loss_per_epoch)"
      ],
      "metadata": {
        "colab": {
          "base_uri": "https://localhost:8080/"
        },
        "id": "AYo2J17i6ZIW",
        "outputId": "c3690176-1a86-4020-a6b6-81f3e4e31118"
      },
      "execution_count": null,
      "outputs": [
        {
          "output_type": "stream",
          "name": "stdout",
          "text": [
            "loss per epoch = tensor(4680.2925)\n"
          ]
        }
      ]
    },
    {
      "cell_type": "code",
      "source": [
        "# Accuracy on test data\n",
        "total = 0\n",
        "correct = 0\n",
        "\n",
        "with torch.no_grad():\n",
        "\n",
        "  for batch_labels, batch_features in test_loader:\n",
        "\n",
        "    # move data to gpu\n",
        "    batch_features, batch_labels = batch_features.to(device), batch_labels.to(device)\n",
        "\n",
        "    outputs = model(batch_features)\n",
        "\n",
        "    _, predicted = torch.max(outputs, 1)\n",
        "\n",
        "    total = total + batch_labels.shape[0]\n",
        "\n",
        "    correct = correct + (predicted == batch_labels).sum().item()\n",
        "\n",
        "print(correct/total)"
      ],
      "metadata": {
        "colab": {
          "base_uri": "https://localhost:8080/"
        },
        "id": "OLxevT5k_LdD",
        "outputId": "de31aaf9-96ba-44c0-e662-f1eadab458d4"
      },
      "execution_count": null,
      "outputs": [
        {
          "output_type": "stream",
          "name": "stdout",
          "text": [
            "0.49956\n"
          ]
        }
      ]
    }
  ]
}