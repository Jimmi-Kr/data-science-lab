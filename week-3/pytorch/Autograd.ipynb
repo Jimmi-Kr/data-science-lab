{
  "nbformat": 4,
  "nbformat_minor": 0,
  "metadata": {
    "colab": {
      "provenance": [],
      "authorship_tag": "ABX9TyN9p4ia7EpbmNfwrtRoXtr6",
      "include_colab_link": true
    },
    "kernelspec": {
      "name": "python3",
      "display_name": "Python 3"
    },
    "language_info": {
      "name": "python"
    }
  },
  "cells": [
    {
      "cell_type": "markdown",
      "metadata": {
        "id": "view-in-github",
        "colab_type": "text"
      },
      "source": [
        "<a href=\"https://colab.research.google.com/github/manojkhara/data-science-lab/blob/main/week-3/pytorch/Autograd.ipynb\" target=\"_parent\"><img src=\"https://colab.research.google.com/assets/colab-badge.svg\" alt=\"Open In Colab\"/></a>"
      ]
    },
    {
      "cell_type": "code",
      "source": [
        "!pip install torchviz"
      ],
      "metadata": {
        "id": "6iPNqny33pmh",
        "colab": {
          "base_uri": "https://localhost:8080/"
        },
        "outputId": "e28a2bb9-30e2-4ed1-811f-0aeb3e56c864"
      },
      "execution_count": null,
      "outputs": [
        {
          "output_type": "stream",
          "name": "stdout",
          "text": [
            "Collecting torchviz\n",
            "  Downloading torchviz-0.0.3-py3-none-any.whl.metadata (2.1 kB)\n",
            "Requirement already satisfied: torch in /usr/local/lib/python3.12/dist-packages (from torchviz) (2.8.0+cu126)\n",
            "Requirement already satisfied: graphviz in /usr/local/lib/python3.12/dist-packages (from torchviz) (0.21)\n",
            "Requirement already satisfied: filelock in /usr/local/lib/python3.12/dist-packages (from torch->torchviz) (3.19.1)\n",
            "Requirement already satisfied: typing-extensions>=4.10.0 in /usr/local/lib/python3.12/dist-packages (from torch->torchviz) (4.15.0)\n",
            "Requirement already satisfied: setuptools in /usr/local/lib/python3.12/dist-packages (from torch->torchviz) (75.2.0)\n",
            "Requirement already satisfied: sympy>=1.13.3 in /usr/local/lib/python3.12/dist-packages (from torch->torchviz) (1.13.3)\n",
            "Requirement already satisfied: networkx in /usr/local/lib/python3.12/dist-packages (from torch->torchviz) (3.5)\n",
            "Requirement already satisfied: jinja2 in /usr/local/lib/python3.12/dist-packages (from torch->torchviz) (3.1.6)\n",
            "Requirement already satisfied: fsspec in /usr/local/lib/python3.12/dist-packages (from torch->torchviz) (2025.3.0)\n",
            "Requirement already satisfied: nvidia-cuda-nvrtc-cu12==12.6.77 in /usr/local/lib/python3.12/dist-packages (from torch->torchviz) (12.6.77)\n",
            "Requirement already satisfied: nvidia-cuda-runtime-cu12==12.6.77 in /usr/local/lib/python3.12/dist-packages (from torch->torchviz) (12.6.77)\n",
            "Requirement already satisfied: nvidia-cuda-cupti-cu12==12.6.80 in /usr/local/lib/python3.12/dist-packages (from torch->torchviz) (12.6.80)\n",
            "Requirement already satisfied: nvidia-cudnn-cu12==9.10.2.21 in /usr/local/lib/python3.12/dist-packages (from torch->torchviz) (9.10.2.21)\n",
            "Requirement already satisfied: nvidia-cublas-cu12==12.6.4.1 in /usr/local/lib/python3.12/dist-packages (from torch->torchviz) (12.6.4.1)\n",
            "Requirement already satisfied: nvidia-cufft-cu12==11.3.0.4 in /usr/local/lib/python3.12/dist-packages (from torch->torchviz) (11.3.0.4)\n",
            "Requirement already satisfied: nvidia-curand-cu12==10.3.7.77 in /usr/local/lib/python3.12/dist-packages (from torch->torchviz) (10.3.7.77)\n",
            "Requirement already satisfied: nvidia-cusolver-cu12==11.7.1.2 in /usr/local/lib/python3.12/dist-packages (from torch->torchviz) (11.7.1.2)\n",
            "Requirement already satisfied: nvidia-cusparse-cu12==12.5.4.2 in /usr/local/lib/python3.12/dist-packages (from torch->torchviz) (12.5.4.2)\n",
            "Requirement already satisfied: nvidia-cusparselt-cu12==0.7.1 in /usr/local/lib/python3.12/dist-packages (from torch->torchviz) (0.7.1)\n",
            "Requirement already satisfied: nvidia-nccl-cu12==2.27.3 in /usr/local/lib/python3.12/dist-packages (from torch->torchviz) (2.27.3)\n",
            "Requirement already satisfied: nvidia-nvtx-cu12==12.6.77 in /usr/local/lib/python3.12/dist-packages (from torch->torchviz) (12.6.77)\n",
            "Requirement already satisfied: nvidia-nvjitlink-cu12==12.6.85 in /usr/local/lib/python3.12/dist-packages (from torch->torchviz) (12.6.85)\n",
            "Requirement already satisfied: nvidia-cufile-cu12==1.11.1.6 in /usr/local/lib/python3.12/dist-packages (from torch->torchviz) (1.11.1.6)\n",
            "Requirement already satisfied: triton==3.4.0 in /usr/local/lib/python3.12/dist-packages (from torch->torchviz) (3.4.0)\n",
            "Requirement already satisfied: mpmath<1.4,>=1.1.0 in /usr/local/lib/python3.12/dist-packages (from sympy>=1.13.3->torch->torchviz) (1.3.0)\n",
            "Requirement already satisfied: MarkupSafe>=2.0 in /usr/local/lib/python3.12/dist-packages (from jinja2->torch->torchviz) (3.0.2)\n",
            "Downloading torchviz-0.0.3-py3-none-any.whl (5.7 kB)\n",
            "Installing collected packages: torchviz\n",
            "Successfully installed torchviz-0.0.3\n"
          ]
        }
      ]
    },
    {
      "cell_type": "code",
      "execution_count": null,
      "metadata": {
        "id": "qo05rVpiEk0M"
      },
      "outputs": [],
      "source": [
        "import torch\n",
        "from torchviz import make_dot"
      ]
    },
    {
      "cell_type": "code",
      "source": [
        "z = torch.tensor(3.0, requires_grad=True)\n",
        "z"
      ],
      "metadata": {
        "colab": {
          "base_uri": "https://localhost:8080/"
        },
        "id": "nmv8LB3p4Mdg",
        "outputId": "ae1143cb-d009-485c-cfa3-446c3b22575a"
      },
      "execution_count": null,
      "outputs": [
        {
          "output_type": "execute_result",
          "data": {
            "text/plain": [
              "tensor(3., requires_grad=True)"
            ]
          },
          "metadata": {},
          "execution_count": 4
        }
      ]
    },
    {
      "cell_type": "code",
      "source": [
        "y = z**2\n",
        "y"
      ],
      "metadata": {
        "colab": {
          "base_uri": "https://localhost:8080/"
        },
        "id": "EipbifWn4WzA",
        "outputId": "87bd2a15-c357-421f-adc0-e87ec83d7533"
      },
      "execution_count": null,
      "outputs": [
        {
          "output_type": "execute_result",
          "data": {
            "text/plain": [
              "tensor(9., grad_fn=<PowBackward0>)"
            ]
          },
          "metadata": {},
          "execution_count": 5
        }
      ]
    },
    {
      "cell_type": "code",
      "source": [
        "y.backward() # gradients have been computed"
      ],
      "metadata": {
        "id": "4eAGin6g4Y5g"
      },
      "execution_count": null,
      "outputs": []
    },
    {
      "cell_type": "code",
      "source": [
        "z.grad  # 2*z"
      ],
      "metadata": {
        "colab": {
          "base_uri": "https://localhost:8080/"
        },
        "id": "sUHlCmBB4atA",
        "outputId": "8e001c6c-d25f-4721-9bf6-81cf75a8d845"
      },
      "execution_count": null,
      "outputs": [
        {
          "output_type": "execute_result",
          "data": {
            "text/plain": [
              "tensor(6.)"
            ]
          },
          "metadata": {},
          "execution_count": 7
        }
      ]
    },
    {
      "cell_type": "markdown",
      "source": [
        "# Gradient accumulation and clearing the gradients"
      ],
      "metadata": {
        "id": "_2znWEhO4zPo"
      }
    },
    {
      "cell_type": "code",
      "source": [
        "y = z**2 # Z=3\n",
        "y.backward()\n",
        "print(z.grad)\n",
        "z.grad.zero_() # clear the gradient\n"
      ],
      "metadata": {
        "colab": {
          "base_uri": "https://localhost:8080/"
        },
        "id": "p8Eh4jeR410_",
        "outputId": "f7cb5534-7c43-4beb-c628-115ed9d2e98e"
      },
      "execution_count": null,
      "outputs": [
        {
          "output_type": "stream",
          "name": "stdout",
          "text": [
            "tensor(6.)\n"
          ]
        },
        {
          "output_type": "execute_result",
          "data": {
            "text/plain": [
              "tensor(0.)"
            ]
          },
          "metadata": {},
          "execution_count": 19
        }
      ]
    },
    {
      "cell_type": "markdown",
      "source": [
        "# Update the leaf variable values"
      ],
      "metadata": {
        "id": "zntod9R15ZC6"
      }
    },
    {
      "cell_type": "code",
      "source": [
        "z.is_leaf"
      ],
      "metadata": {
        "colab": {
          "base_uri": "https://localhost:8080/"
        },
        "id": "gFT0wlgvOgu-",
        "outputId": "6b51b28e-9a71-4364-8f48-aec3f1e24555"
      },
      "execution_count": null,
      "outputs": [
        {
          "output_type": "execute_result",
          "data": {
            "text/plain": [
              "True"
            ]
          },
          "metadata": {},
          "execution_count": 21
        }
      ]
    },
    {
      "cell_type": "code",
      "source": [
        "make_dot(y, params={\"z\": z})"
      ],
      "metadata": {
        "colab": {
          "base_uri": "https://localhost:8080/",
          "height": 308
        },
        "id": "0tPKZtYEOllW",
        "outputId": "9419bc19-5f16-4787-aa8a-b22db7ad9c2b"
      },
      "execution_count": null,
      "outputs": [
        {
          "output_type": "execute_result",
          "data": {
            "image/svg+xml": "<?xml version=\"1.0\" encoding=\"UTF-8\" standalone=\"no\"?>\n<!DOCTYPE svg PUBLIC \"-//W3C//DTD SVG 1.1//EN\"\n \"http://www.w3.org/Graphics/SVG/1.1/DTD/svg11.dtd\">\n<!-- Generated by graphviz version 2.43.0 (0)\n -->\n<!-- Title: %3 Pages: 1 -->\n<svg width=\"109pt\" height=\"215pt\"\n viewBox=\"0.00 0.00 109.00 215.00\" xmlns=\"http://www.w3.org/2000/svg\" xmlns:xlink=\"http://www.w3.org/1999/xlink\">\n<g id=\"graph0\" class=\"graph\" transform=\"scale(1 1) rotate(0) translate(4 211)\">\n<title>%3</title>\n<polygon fill=\"white\" stroke=\"transparent\" points=\"-4,4 -4,-211 105,-211 105,4 -4,4\"/>\n<!-- 132074849994704 -->\n<g id=\"node1\" class=\"node\">\n<title>132074849994704</title>\n<polygon fill=\"#caff70\" stroke=\"black\" points=\"77.5,-31 23.5,-31 23.5,0 77.5,0 77.5,-31\"/>\n<text text-anchor=\"middle\" x=\"50.5\" y=\"-7\" font-family=\"monospace\" font-size=\"10.00\"> ()</text>\n</g>\n<!-- 132074849840976 -->\n<g id=\"node2\" class=\"node\">\n<title>132074849840976</title>\n<polygon fill=\"lightgrey\" stroke=\"black\" points=\"95,-86 6,-86 6,-67 95,-67 95,-86\"/>\n<text text-anchor=\"middle\" x=\"50.5\" y=\"-74\" font-family=\"monospace\" font-size=\"10.00\">PowBackward0</text>\n</g>\n<!-- 132074849840976&#45;&gt;132074849994704 -->\n<g id=\"edge3\" class=\"edge\">\n<title>132074849840976&#45;&gt;132074849994704</title>\n<path fill=\"none\" stroke=\"black\" d=\"M50.5,-66.79C50.5,-60.07 50.5,-50.4 50.5,-41.34\"/>\n<polygon fill=\"black\" stroke=\"black\" points=\"54,-41.19 50.5,-31.19 47,-41.19 54,-41.19\"/>\n</g>\n<!-- 132074851516032 -->\n<g id=\"node3\" class=\"node\">\n<title>132074851516032</title>\n<polygon fill=\"lightgrey\" stroke=\"black\" points=\"101,-141 0,-141 0,-122 101,-122 101,-141\"/>\n<text text-anchor=\"middle\" x=\"50.5\" y=\"-129\" font-family=\"monospace\" font-size=\"10.00\">AccumulateGrad</text>\n</g>\n<!-- 132074851516032&#45;&gt;132074849840976 -->\n<g id=\"edge1\" class=\"edge\">\n<title>132074851516032&#45;&gt;132074849840976</title>\n<path fill=\"none\" stroke=\"black\" d=\"M50.5,-121.75C50.5,-114.8 50.5,-104.85 50.5,-96.13\"/>\n<polygon fill=\"black\" stroke=\"black\" points=\"54,-96.09 50.5,-86.09 47,-96.09 54,-96.09\"/>\n</g>\n<!-- 132078799819936 -->\n<g id=\"node4\" class=\"node\">\n<title>132078799819936</title>\n<polygon fill=\"lightblue\" stroke=\"black\" points=\"77.5,-207 23.5,-207 23.5,-177 77.5,-177 77.5,-207\"/>\n<text text-anchor=\"middle\" x=\"50.5\" y=\"-195\" font-family=\"monospace\" font-size=\"10.00\">z</text>\n<text text-anchor=\"middle\" x=\"50.5\" y=\"-184\" font-family=\"monospace\" font-size=\"10.00\"> ()</text>\n</g>\n<!-- 132078799819936&#45;&gt;132074851516032 -->\n<g id=\"edge2\" class=\"edge\">\n<title>132078799819936&#45;&gt;132074851516032</title>\n<path fill=\"none\" stroke=\"black\" d=\"M50.5,-176.84C50.5,-169.21 50.5,-159.7 50.5,-151.45\"/>\n<polygon fill=\"black\" stroke=\"black\" points=\"54,-151.27 50.5,-141.27 47,-151.27 54,-151.27\"/>\n</g>\n</g>\n</svg>\n",
            "text/plain": [
              "<graphviz.graphs.Digraph at 0x781f128235c0>"
            ]
          },
          "metadata": {},
          "execution_count": 23
        }
      ]
    },
    {
      "cell_type": "code",
      "source": [
        "learning_rate = 0.2\n",
        "z -= learning_rate * z.grad"
      ],
      "metadata": {
        "colab": {
          "base_uri": "https://localhost:8080/",
          "height": 158
        },
        "id": "V8WkuksqOVtp",
        "outputId": "88e5c636-06fe-47b7-da8c-3fe08917302b"
      },
      "execution_count": null,
      "outputs": [
        {
          "output_type": "error",
          "ename": "RuntimeError",
          "evalue": "a leaf Variable that requires grad is being used in an in-place operation.",
          "traceback": [
            "\u001b[0;31m---------------------------------------------------------------------------\u001b[0m",
            "\u001b[0;31mRuntimeError\u001b[0m                              Traceback (most recent call last)",
            "\u001b[0;32m/tmp/ipython-input-2876811938.py\u001b[0m in \u001b[0;36m<cell line: 0>\u001b[0;34m()\u001b[0m\n\u001b[1;32m      1\u001b[0m \u001b[0mlearning_rate\u001b[0m \u001b[0;34m=\u001b[0m \u001b[0;36m0.2\u001b[0m\u001b[0;34m\u001b[0m\u001b[0;34m\u001b[0m\u001b[0m\n\u001b[0;32m----> 2\u001b[0;31m \u001b[0mz\u001b[0m \u001b[0;34m-=\u001b[0m \u001b[0mlearning_rate\u001b[0m \u001b[0;34m*\u001b[0m \u001b[0mz\u001b[0m\u001b[0;34m.\u001b[0m\u001b[0mgrad\u001b[0m\u001b[0;34m\u001b[0m\u001b[0;34m\u001b[0m\u001b[0m\n\u001b[0m",
            "\u001b[0;31mRuntimeError\u001b[0m: a leaf Variable that requires grad is being used in an in-place operation."
          ]
        }
      ]
    },
    {
      "cell_type": "code",
      "source": [
        "y = z**2 # Z=3\n",
        "y.backward()\n",
        "print(z.grad)"
      ],
      "metadata": {
        "colab": {
          "base_uri": "https://localhost:8080/"
        },
        "id": "JsAjdGBNPRGr",
        "outputId": "f8654837-4faa-4a01-b8fd-b46bda2ce189"
      },
      "execution_count": null,
      "outputs": [
        {
          "output_type": "stream",
          "name": "stdout",
          "text": [
            "tensor(6.)\n"
          ]
        }
      ]
    },
    {
      "cell_type": "code",
      "source": [
        "with torch.no_grad():\n",
        "  z -= 0.2 * z.grad\n",
        "# z.grad.zero_()"
      ],
      "metadata": {
        "id": "edS5tEYQ4xTC"
      },
      "execution_count": null,
      "outputs": []
    },
    {
      "cell_type": "code",
      "source": [
        "z"
      ],
      "metadata": {
        "colab": {
          "base_uri": "https://localhost:8080/"
        },
        "id": "luuH9v0oPHJv",
        "outputId": "ea250aeb-aa78-42f9-ea99-30d70ac2586e"
      },
      "execution_count": null,
      "outputs": [
        {
          "output_type": "execute_result",
          "data": {
            "text/plain": [
              "tensor(1.8000, requires_grad=True)"
            ]
          },
          "metadata": {},
          "execution_count": 31
        }
      ]
    },
    {
      "cell_type": "markdown",
      "source": [
        "# A simple training loop"
      ],
      "metadata": {
        "id": "srZzS1mv7dXC"
      }
    },
    {
      "cell_type": "code",
      "source": [
        "w = torch.tensor(2.0, requires_grad=True) # weight\n",
        "x = torch.tensor(3.0, requires_grad=False) # input\n",
        "b = torch.tensor(1.0, requires_grad=True) # bias\n",
        "y_hat = w*x + b\n",
        "y_hat"
      ],
      "metadata": {
        "colab": {
          "base_uri": "https://localhost:8080/"
        },
        "id": "PwuECEsNpZIp",
        "outputId": "144aa202-4fa4-4e32-ff1b-081cd68edc3c"
      },
      "execution_count": null,
      "outputs": [
        {
          "output_type": "execute_result",
          "data": {
            "text/plain": [
              "tensor(7., grad_fn=<AddBackward0>)"
            ]
          },
          "metadata": {},
          "execution_count": 32
        }
      ]
    },
    {
      "cell_type": "code",
      "source": [
        "make_dot(y_hat, params={\"w\": w, \"b\": b, \"y_hat\": y_hat})"
      ],
      "metadata": {
        "colab": {
          "base_uri": "https://localhost:8080/",
          "height": 395
        },
        "id": "v7Ff0RtB32i1",
        "outputId": "510ebe07-6a51-4ec8-e68a-929f0c41b549"
      },
      "execution_count": null,
      "outputs": [
        {
          "output_type": "execute_result",
          "data": {
            "image/svg+xml": "<?xml version=\"1.0\" encoding=\"UTF-8\" standalone=\"no\"?>\n<!DOCTYPE svg PUBLIC \"-//W3C//DTD SVG 1.1//EN\"\n \"http://www.w3.org/Graphics/SVG/1.1/DTD/svg11.dtd\">\n<!-- Generated by graphviz version 2.43.0 (0)\n -->\n<!-- Title: %3 Pages: 1 -->\n<svg width=\"222pt\" height=\"280pt\"\n viewBox=\"0.00 0.00 222.00 280.00\" xmlns=\"http://www.w3.org/2000/svg\" xmlns:xlink=\"http://www.w3.org/1999/xlink\">\n<g id=\"graph0\" class=\"graph\" transform=\"scale(1 1) rotate(0) translate(4 276)\">\n<title>%3</title>\n<polygon fill=\"white\" stroke=\"transparent\" points=\"-4,4 -4,-276 218,-276 218,4 -4,4\"/>\n<!-- 132074838402192 -->\n<g id=\"node1\" class=\"node\">\n<title>132074838402192</title>\n<polygon fill=\"#caff70\" stroke=\"black\" points=\"133.5,-30 79.5,-30 79.5,0 133.5,0 133.5,-30\"/>\n<text text-anchor=\"middle\" x=\"106.5\" y=\"-18\" font-family=\"monospace\" font-size=\"10.00\">y_hat</text>\n<text text-anchor=\"middle\" x=\"106.5\" y=\"-7\" font-family=\"monospace\" font-size=\"10.00\"> ()</text>\n</g>\n<!-- 132074838542224 -->\n<g id=\"node2\" class=\"node\">\n<title>132074838542224</title>\n<polygon fill=\"lightgrey\" stroke=\"black\" points=\"151,-85 62,-85 62,-66 151,-66 151,-85\"/>\n<text text-anchor=\"middle\" x=\"106.5\" y=\"-73\" font-family=\"monospace\" font-size=\"10.00\">AddBackward0</text>\n</g>\n<!-- 132074838542224&#45;&gt;132074838402192 -->\n<g id=\"edge6\" class=\"edge\">\n<title>132074838542224&#45;&gt;132074838402192</title>\n<path fill=\"none\" stroke=\"black\" d=\"M106.5,-65.87C106.5,-59.11 106.5,-49.35 106.5,-40.26\"/>\n<polygon fill=\"black\" stroke=\"black\" points=\"110,-40.11 106.5,-30.11 103,-40.11 110,-40.11\"/>\n</g>\n<!-- 132074838548704 -->\n<g id=\"node3\" class=\"node\">\n<title>132074838548704</title>\n<polygon fill=\"lightgrey\" stroke=\"black\" points=\"95,-140 6,-140 6,-121 95,-121 95,-140\"/>\n<text text-anchor=\"middle\" x=\"50.5\" y=\"-128\" font-family=\"monospace\" font-size=\"10.00\">MulBackward0</text>\n</g>\n<!-- 132074838548704&#45;&gt;132074838542224 -->\n<g id=\"edge1\" class=\"edge\">\n<title>132074838548704&#45;&gt;132074838542224</title>\n<path fill=\"none\" stroke=\"black\" d=\"M59.5,-120.98C67.69,-113.23 80.01,-101.58 89.97,-92.14\"/>\n<polygon fill=\"black\" stroke=\"black\" points=\"92.48,-94.59 97.34,-85.17 87.67,-89.5 92.48,-94.59\"/>\n</g>\n<!-- 132074838542080 -->\n<g id=\"node4\" class=\"node\">\n<title>132074838542080</title>\n<polygon fill=\"lightgrey\" stroke=\"black\" points=\"101,-200.5 0,-200.5 0,-181.5 101,-181.5 101,-200.5\"/>\n<text text-anchor=\"middle\" x=\"50.5\" y=\"-188.5\" font-family=\"monospace\" font-size=\"10.00\">AccumulateGrad</text>\n</g>\n<!-- 132074838542080&#45;&gt;132074838548704 -->\n<g id=\"edge2\" class=\"edge\">\n<title>132074838542080&#45;&gt;132074838548704</title>\n<path fill=\"none\" stroke=\"black\" d=\"M50.5,-181.37C50.5,-173.25 50.5,-160.81 50.5,-150.39\"/>\n<polygon fill=\"black\" stroke=\"black\" points=\"54,-150.17 50.5,-140.17 47,-150.17 54,-150.17\"/>\n</g>\n<!-- 132074838568912 -->\n<g id=\"node5\" class=\"node\">\n<title>132074838568912</title>\n<polygon fill=\"lightblue\" stroke=\"black\" points=\"77.5,-272 23.5,-272 23.5,-242 77.5,-242 77.5,-272\"/>\n<text text-anchor=\"middle\" x=\"50.5\" y=\"-260\" font-family=\"monospace\" font-size=\"10.00\">w</text>\n<text text-anchor=\"middle\" x=\"50.5\" y=\"-249\" font-family=\"monospace\" font-size=\"10.00\"> ()</text>\n</g>\n<!-- 132074838568912&#45;&gt;132074838542080 -->\n<g id=\"edge3\" class=\"edge\">\n<title>132074838568912&#45;&gt;132074838542080</title>\n<path fill=\"none\" stroke=\"black\" d=\"M50.5,-241.8C50.5,-232.7 50.5,-220.79 50.5,-210.9\"/>\n<polygon fill=\"black\" stroke=\"black\" points=\"54,-210.84 50.5,-200.84 47,-210.84 54,-210.84\"/>\n</g>\n<!-- 132074838541840 -->\n<g id=\"node6\" class=\"node\">\n<title>132074838541840</title>\n<polygon fill=\"lightgrey\" stroke=\"black\" points=\"214,-140 113,-140 113,-121 214,-121 214,-140\"/>\n<text text-anchor=\"middle\" x=\"163.5\" y=\"-128\" font-family=\"monospace\" font-size=\"10.00\">AccumulateGrad</text>\n</g>\n<!-- 132074838541840&#45;&gt;132074838542224 -->\n<g id=\"edge4\" class=\"edge\">\n<title>132074838541840&#45;&gt;132074838542224</title>\n<path fill=\"none\" stroke=\"black\" d=\"M154.34,-120.98C146,-113.23 133.47,-101.58 123.32,-92.14\"/>\n<polygon fill=\"black\" stroke=\"black\" points=\"125.53,-89.42 115.82,-85.17 120.76,-94.54 125.53,-89.42\"/>\n</g>\n<!-- 132074838568672 -->\n<g id=\"node7\" class=\"node\">\n<title>132074838568672</title>\n<polygon fill=\"lightblue\" stroke=\"black\" points=\"190.5,-206 136.5,-206 136.5,-176 190.5,-176 190.5,-206\"/>\n<text text-anchor=\"middle\" x=\"163.5\" y=\"-194\" font-family=\"monospace\" font-size=\"10.00\">b</text>\n<text text-anchor=\"middle\" x=\"163.5\" y=\"-183\" font-family=\"monospace\" font-size=\"10.00\"> ()</text>\n</g>\n<!-- 132074838568672&#45;&gt;132074838541840 -->\n<g id=\"edge5\" class=\"edge\">\n<title>132074838568672&#45;&gt;132074838541840</title>\n<path fill=\"none\" stroke=\"black\" d=\"M163.5,-175.84C163.5,-168.21 163.5,-158.7 163.5,-150.45\"/>\n<polygon fill=\"black\" stroke=\"black\" points=\"167,-150.27 163.5,-140.27 160,-150.27 167,-150.27\"/>\n</g>\n</g>\n</svg>\n",
            "text/plain": [
              "<graphviz.graphs.Digraph at 0x781f11d5c5f0>"
            ]
          },
          "metadata": {},
          "execution_count": 34
        }
      ]
    },
    {
      "cell_type": "code",
      "source": [
        "x = torch.tensor(3.0, requires_grad=False)\n",
        "y = torch.tensor(1.0, requires_grad=False) # label given\n",
        "\n",
        "w = torch.tensor(2.0, requires_grad=True)\n",
        "b = torch.tensor(1.0, requires_grad=True)\n",
        "\n",
        "for i in range(10):\n",
        "  # forward pass\n",
        "  y_hat = w*x + b\n",
        "\n",
        "  # compute loss\n",
        "\n",
        "  loss = (y_hat - y)**2 # squared error\n",
        "\n",
        "  print(i, f\"w = {w.data} , b= {b.data}\")\n",
        "  print(\"loss=\",loss)\n",
        "  print()\n",
        "\n",
        "  #backward pass\n",
        "  loss.backward()\n",
        "\n",
        "  # #gradients\n",
        "\n",
        "  learning_rate= 0.01\n",
        "  with torch.no_grad():\n",
        "    w -= learning_rate * w.grad\n",
        "    b -= learning_rate * b.grad\n",
        "\n",
        "  w.grad.zero_(), b.grad.zero_()"
      ],
      "metadata": {
        "colab": {
          "base_uri": "https://localhost:8080/"
        },
        "id": "FBDr-44R-RZc",
        "outputId": "13b3a182-f8ae-4460-f8cd-56dd514baeb4"
      },
      "execution_count": null,
      "outputs": [
        {
          "output_type": "stream",
          "name": "stdout",
          "text": [
            "0 w = 2.0 , b= 1.0\n",
            "loss= tensor(36., grad_fn=<PowBackward0>)\n",
            "\n",
            "1 w = 1.6399999856948853 , b= 0.8799999952316284\n",
            "loss= tensor(23.0400, grad_fn=<PowBackward0>)\n",
            "\n",
            "2 w = 1.3519999980926514 , b= 0.7839999794960022\n",
            "loss= tensor(14.7456, grad_fn=<PowBackward0>)\n",
            "\n",
            "3 w = 1.1216000318527222 , b= 0.7071999907493591\n",
            "loss= tensor(9.4372, grad_fn=<PowBackward0>)\n",
            "\n",
            "4 w = 0.9372800588607788 , b= 0.6457599997520447\n",
            "loss= tensor(6.0398, grad_fn=<PowBackward0>)\n",
            "\n",
            "5 w = 0.7898240685462952 , b= 0.5966079831123352\n",
            "loss= tensor(3.8655, grad_fn=<PowBackward0>)\n",
            "\n",
            "6 w = 0.6718592643737793 , b= 0.5572863817214966\n",
            "loss= tensor(2.4739, grad_fn=<PowBackward0>)\n",
            "\n",
            "7 w = 0.5774874091148376 , b= 0.5258290767669678\n",
            "loss= tensor(1.5833, grad_fn=<PowBackward0>)\n",
            "\n",
            "8 w = 0.5019899606704712 , b= 0.5006632804870605\n",
            "loss= tensor(1.0133, grad_fn=<PowBackward0>)\n",
            "\n",
            "9 w = 0.4415919780731201 , b= 0.48053061962127686\n",
            "loss= tensor(0.6485, grad_fn=<PowBackward0>)\n",
            "\n"
          ]
        }
      ]
    },
    {
      "cell_type": "code",
      "source": [],
      "metadata": {
        "id": "hy-H5qMKQUt7"
      },
      "execution_count": null,
      "outputs": []
    }
  ]
}